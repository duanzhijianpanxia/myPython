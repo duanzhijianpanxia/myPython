{
 "cells": [
  {
   "cell_type": "code",
   "execution_count": 9,
   "metadata": {},
   "outputs": [
    {
     "name": "stdout",
     "output_type": "stream",
     "text": [
      "Hi, my name is liu ying\n",
      "Hi, my name is monkey wang\n"
     ]
    }
   ],
   "source": [
    "# 属性案例\n",
    "# 创建student类，描述学生类\n",
    "# 学生具有Student.name 属性\n",
    "# 但是name格式并不统一\n",
    "# 可以定义一个函数，然后自动调用的方式，但很蠢\n",
    "class Student():\n",
    "    def __init__(self,name,age):\n",
    "        self.name = name\n",
    "        self.age = age\n",
    "        \n",
    "        #如果不想修改代码\n",
    "        self.setName(name)\n",
    "    # 介绍下自己\n",
    "    def intro(self):\n",
    "        print(\"Hi, my name is {0}\".format(self.name))\n",
    "        \n",
    "    def setName(self,name):\n",
    "        self.name = name.lower()\n",
    "        \n",
    "        \n",
    "s1 = Student(\"LIU ying\",19)\n",
    "s2 = Student(\"monkey wang\",33)\n",
    "\n",
    "s1.intro()\n",
    "s2.intro()"
   ]
  },
  {
   "cell_type": "code",
   "execution_count": 41,
   "metadata": {},
   "outputs": [],
   "source": [
    "# property案例\n",
    "# 定义一个Person类，具有name，age属性\n",
    "# 对于任意输入的姓名，我们希望都用大写方式保存\n",
    "# 年龄，我们希望内部统一使用整数保存\n",
    "# X = property(fget,fset,fdel,doc)\n",
    "\n",
    "class Person():\n",
    "\n",
    "\n",
    "    # 函数的名称可以任意\n",
    "            def fget(self):\n",
    "                return self._name * 2\n",
    "    \n",
    "            def fset(self,name):\n",
    "        # 所有输入的姓名以大写方式保存\n",
    "                self._name = name.upper()\n",
    "        \n",
    "            def fdel(self):\n",
    "                self._name = \"NoName\"\n",
    "        \n",
    "            name = property(fget,fset,fdel,\"对name进行以下操作啦\")\n",
    "        \n",
    "# 作业：\n",
    "# 1.在用户输入年龄的时候可以输入整数，浮点数\n",
    "# 2.但是内为了数据清洁，我们统一需要保存正数，直接舍去小数点"
   ]
  },
  {
   "cell_type": "code",
   "execution_count": 42,
   "metadata": {},
   "outputs": [
    {
     "name": "stdout",
     "output_type": "stream",
     "text": [
      "TULINGTULING\n"
     ]
    }
   ],
   "source": [
    "p1 = Person()\n",
    "p1.name = \"TuLing\"\n",
    "print(p1.name)"
   ]
  },
  {
   "cell_type": "code",
   "execution_count": 43,
   "metadata": {},
   "outputs": [
    {
     "name": "stdout",
     "output_type": "stream",
     "text": [
      "None\n",
      "{'__module__': '__main__', 'fget': <function Person.fget at 0x0000017772F30400>, 'fset': <function Person.fset at 0x0000017772F30840>, 'fdel': <function Person.fdel at 0x0000017772F30488>, 'name': <property object at 0x0000017772F35BD8>, '__dict__': <attribute '__dict__' of 'Person' objects>, '__weakref__': <attribute '__weakref__' of 'Person' objects>, '__doc__': None}\n",
      "Person\n",
      "<class 'object'>\n"
     ]
    }
   ],
   "source": [
    "# 类的内置属性举例\n",
    "print(Person.__doc__)\n",
    "print(Person.__dict__)\n",
    "print(Person.__name__)\n",
    "print(Person.__base__)"
   ]
  },
  {
   "cell_type": "code",
   "execution_count": 44,
   "metadata": {},
   "outputs": [
    {
     "name": "stdout",
     "output_type": "stream",
     "text": [
      "哈哈，我被调用了\n"
     ]
    }
   ],
   "source": [
    "# init举例\n",
    "class A():\n",
    "    def __init__(self,name = 0):\n",
    "        print(\"哈哈，我被调用了\")\n",
    "        \n",
    "a = A()"
   ]
  },
  {
   "cell_type": "code",
   "execution_count": 45,
   "metadata": {},
   "outputs": [
    {
     "name": "stdout",
     "output_type": "stream",
     "text": [
      "哈哈，我被调用了\n",
      "我被调用了，once agian\n"
     ]
    }
   ],
   "source": [
    "# __call__举例\n",
    "class A():\n",
    "    def __init__(self,name = 0):\n",
    "        print(\"哈哈，我被调用了\")\n",
    "\n",
    "    def __call__(self):\n",
    "        print(\"我被调用了，once agian\")\n",
    "        \n",
    "a = A()\n",
    "a()"
   ]
  },
  {
   "cell_type": "code",
   "execution_count": 47,
   "metadata": {},
   "outputs": [
    {
     "name": "stdout",
     "output_type": "stream",
     "text": [
      "NoName\n",
      "没有找到呀\n",
      "addr\n",
      "None\n"
     ]
    }
   ],
   "source": [
    "# __getattr__\n",
    "\n",
    "class A():\n",
    "    name = \"NoName\"\n",
    "    age = 18\n",
    "    \n",
    "    def __getattr__(self,name):\n",
    "        print(\"没有找到呀\")\n",
    "        print(name)\n",
    "        \n",
    "a = A()\n",
    "print(a.name)\n",
    "print(a.addr)\n",
    "# 作业：\n",
    "# 为什么会打印第四话，而且第四句话打印的是None"
   ]
  },
  {
   "cell_type": "code",
   "execution_count": 48,
   "metadata": {},
   "outputs": [
    {
     "name": "stdout",
     "output_type": "stream",
     "text": [
      "{}\n",
      "设置属性： age\n"
     ]
    }
   ],
   "source": [
    "# __setattr__案例\n",
    "class Person():\n",
    "    def __init__(self):\n",
    "        pass\n",
    "    \n",
    "    def __setattr__(self,name,value):\n",
    "        print(\"设置属性： {0}\".format(name))\n",
    "        # 下面语句会导致问题，死循环\n",
    "        # self.name = value\n",
    "        # 这种情况下，为了避免死循环，规定统一调用父类魔法函数\n",
    "        super().__setattr__(name,value)\n",
    "        \n",
    "p = Person()\n",
    "print(p.__dict__)\n",
    "p.age = 18"
   ]
  },
  {
   "cell_type": "code",
   "execution_count": 51,
   "metadata": {},
   "outputs": [
    {
     "name": "stdout",
     "output_type": "stream",
     "text": [
      "哈哈，<__main__.Student object at 0x0000017772E97AC8> 比 <__main__.Student object at 0x0000017772E97BA8>大\n",
      "False\n"
     ]
    }
   ],
   "source": [
    "# __gt__案例\n",
    "class Student():\n",
    "    def __init__(self,name):\n",
    "        self._name = name\n",
    "        \n",
    "    def __gt__(self,obj):\n",
    "        print(\"哈哈，{0} 比 {1}大\".format(self,obj))\n",
    "        return self._name > obj._name\n",
    "    # 作业：字符串按照什么比较大小\n",
    "stu1 = Student(\"one\")\n",
    "stu2 = Student(\"tow\")\n",
    "\n",
    "print(stu1 > stu2)\n",
    "\n",
    "#作业：下面的显示结果不太美观，能否改成形如“哈哈，one 比two 大”"
   ]
  },
  {
   "cell_type": "code",
   "execution_count": 65,
   "metadata": {},
   "outputs": [
    {
     "name": "stdout",
     "output_type": "stream",
     "text": [
      "<__main__.Person object at 0x0000017772F43390>\n",
      "eating\n",
      "<class '__main__.Person'>\n",
      "palying\n",
      "<class '__main__.Person'>\n",
      "palying\n",
      "saying\n",
      "saying\n"
     ]
    }
   ],
   "source": [
    "# 三种方法的案例\n",
    "class Person():\n",
    "    # 实例方法\n",
    "    def eat(self):\n",
    "        print(self)\n",
    "        print(\"eating\")\n",
    "        \n",
    "        #类方法\n",
    "        # 类方法的第一个参数，一般命名为cls,区别于self\n",
    "    @classmethod\n",
    "    def play(cls):\n",
    "        print(cls)\n",
    "        print(\"palying\")\n",
    "            \n",
    "        # 静态方法\n",
    "        # 不需要用第一个参数表示自身或者类\n",
    "    @staticmethod\n",
    "    def say():\n",
    "        print(\"saying\")\n",
    "            \n",
    "yueyue = Person()\n",
    "\n",
    "# 实例方法\n",
    "yueyue.eat()\n",
    "\n",
    "Person.play()\n",
    "yueyue.play()\n",
    "\n",
    "# 静态方法\n",
    "Person.say()\n",
    "yueyue.say()\n",
    "# 作业：\n",
    "# 自行查找三种方法内存使用方面的区别\n"
   ]
  },
  {
   "cell_type": "code",
   "execution_count": null,
   "metadata": {},
   "outputs": [],
   "source": []
  },
  {
   "cell_type": "code",
   "execution_count": null,
   "metadata": {},
   "outputs": [],
   "source": []
  },
  {
   "cell_type": "code",
   "execution_count": null,
   "metadata": {},
   "outputs": [],
   "source": []
  },
  {
   "cell_type": "code",
   "execution_count": null,
   "metadata": {},
   "outputs": [],
   "source": []
  }
 ],
 "metadata": {
  "kernelspec": {
   "display_name": "Python 3",
   "language": "python",
   "name": "python3"
  },
  "language_info": {
   "codemirror_mode": {
    "name": "ipython",
    "version": 3
   },
   "file_extension": ".py",
   "mimetype": "text/x-python",
   "name": "python",
   "nbconvert_exporter": "python",
   "pygments_lexer": "ipython3",
   "version": "3.7.0"
  }
 },
 "nbformat": 4,
 "nbformat_minor": 2
}
