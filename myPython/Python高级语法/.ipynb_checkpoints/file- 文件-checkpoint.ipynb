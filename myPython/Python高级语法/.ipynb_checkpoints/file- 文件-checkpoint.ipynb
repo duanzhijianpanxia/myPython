{
 "cells": [
  {
   "cell_type": "markdown",
   "metadata": {},
   "source": [
    "# 文件 \n",
    "- 长久保存信息的一种数据信息结构\n",
    "- 常用操作\n",
    "    - 打开关闭（文件一旦打开，需要关闭操作）\n",
    "    - 读写内容\n",
    "    - 查找\n",
    "    \n",
    "    ## open函数\n",
    "- open函数负责打开文件，才有很多参数\n",
    "- 第一个参数：必须有，文件路径和名称\n",
    "- mode：表明文件用什么方式打开\n",
    "    - r:以只读的方式打开\n",
    "    - w:写方式打开，会覆盖以前的内容\n",
    "    - x:创建方式打开，如果文件已存在，报错\n",
    "    - a:append方式，以追加的方式对文件内容进行写入\n",
    "    - b:binary方式，二进制方式写入\n",
    "    - t:文本方式打开\n",
    "    - +:可读写"
   ]
  },
  {
   "cell_type": "code",
   "execution_count": 11,
   "metadata": {},
   "outputs": [],
   "source": [
    "# 打开文件，用写的方式\n",
    "# r 表示后面的字符串内容不需要转义\n",
    "# f 称之为文件句柄\n",
    "f = open(r\"test01.txt\", \"w\")\n",
    "# 文件打开后必须关闭\n",
    "f.close()\n",
    "\n",
    "# 此案例说明，以写的方式打开文件，默认是如果没有文件，则创建\n"
   ]
  },
  {
   "cell_type": "markdown",
   "metadata": {},
   "source": [
    "## with语句\n",
    "- with语句使用的技术是一种称为上下文管理协议的技术（ContextMangementProtocal）\n",
    "- 自动判断文件的作用域，自动关闭不再使用的文件句柄\n"
   ]
  },
  {
   "cell_type": "code",
   "execution_count": 14,
   "metadata": {},
   "outputs": [],
   "source": [
    "# with语句案例\n",
    "\n",
    "with open(r\"test01.txt\", \"r\") as f:\n",
    "    pass\n",
    "# 下面语句块开始对文件f 进行操作\n",
    "# 在本模块中，不需要再使用close关闭文件f\n"
   ]
  },
  {
   "cell_type": "code",
   "execution_count": 15,
   "metadata": {},
   "outputs": [
    {
     "name": "stdout",
     "output_type": "stream",
     "text": [
      "鹅鹅鹅\n",
      "\n",
      "曲项向天歌\n",
      "\n",
      "白毛浮绿水\n",
      "\n",
      "红掌拨清波\n"
     ]
    }
   ],
   "source": [
    "# with 案例\n",
    "\n",
    "with open(r\"test01.txt\", \"r\") as f:\n",
    "    # 按行读取内容\n",
    "    strline = f.readline()\n",
    "    # 此结构保证能够完整的读取文件直到结束\n",
    "    while strline:\n",
    "        print(strline)\n",
    "        strline = f.readline()"
   ]
  },
  {
   "cell_type": "code",
   "execution_count": 29,
   "metadata": {},
   "outputs": [
    {
     "name": "stdout",
     "output_type": "stream",
     "text": [
      "鹅鹅鹅\n",
      "\n",
      "曲项向天歌\n",
      "\n",
      "白毛浮绿水\n",
      "\n",
      "红掌拨清波\n"
     ]
    }
   ],
   "source": [
    "# list 能用打开文件作为参数，把文件内每一行内容作为一个元素\n",
    "\n",
    "with open(r\"test01.txt\", \"r\") as f:\n",
    "    # 以打开文件f作为参数，创建列表\n",
    "    l = list(f)\n",
    "    for line in l:\n",
    "        print(line)"
   ]
  },
  {
   "cell_type": "code",
   "execution_count": 31,
   "metadata": {},
   "outputs": [
    {
     "name": "stdout",
     "output_type": "stream",
     "text": [
      "1\n",
      "鹅\n"
     ]
    }
   ],
   "source": [
    "# read是按照字符读取文件内容\n",
    "# 允许输入参数决定读取几个字符，如果没有指定，从当前位置读取到结束\n",
    "# 否则，从当前位置读取指定个字符\n",
    "\n",
    "with open(r\"test01.txt\", \"r\") as f:\n",
    "    strChar = f.read(1)\n",
    "    print(len(strChar))\n",
    "    print(strChar)\n",
    "\n",
    "    \n",
    "# 作业：\n",
    "# 使用read读取文件，每次读取一个，使用循环读完\n",
    "# 尽量保持格式\n"
   ]
  },
  {
   "cell_type": "markdown",
   "metadata": {},
   "source": [
    "## seek (offser, from)\n",
    "- 移动文件的读取位置，也叫读取指针\n",
    "- from的取值范围\n",
    "    - 0 ：从文件开头位置开始偏移\n",
    "    - 1 ：从文件当前位置开始偏移\n",
    "    - 2 ：从文件末尾开始偏移\n",
    "- 移动单位是字节（byte）\n",
    "- 一个汉字由若干个字节构成\n",
    "- 返回文件只针对当前位置\n"
   ]
  },
  {
   "cell_type": "code",
   "execution_count": 2,
   "metadata": {},
   "outputs": [
    {
     "name": "stdout",
     "output_type": "stream",
     "text": [
      "鹅鹅\n",
      "曲项向天歌\n",
      "白毛浮绿水\n",
      "红掌拨清波 \n"
     ]
    }
   ],
   "source": [
    "# seek案例\n",
    "# 打开文件后，从第五个字节开始读取\n",
    "\n",
    "# 打开读写指针在0处，即文件的开头\n",
    "with open(r\"test01.txt\", \"r\") as f:\n",
    "    # seek移动单位只字节\n",
    "    f.seek(2, 0)\n",
    "    strChar = f.read()\n",
    "    print(strChar)"
   ]
  },
  {
   "cell_type": "code",
   "execution_count": 3,
   "metadata": {},
   "outputs": [
    {
     "name": "stdout",
     "output_type": "stream",
     "text": [
      "鹅鹅鹅\n",
      "\n",
      "曲项\n",
      "向天歌\n",
      "\n",
      "白毛\n",
      "浮绿水\n",
      "\n",
      "红掌\n",
      "拨清波\n",
      " \n"
     ]
    }
   ],
   "source": [
    "# 关于读取文件的练习\n",
    "# 打开文件，三个字符一组，读出文件内容，然后显示在屏上\n",
    "# 每读一次，休息一秒钟\n",
    "\n",
    "# 让程序暂停，可以使用time下的sleep函数\n",
    "import time\n",
    "\n",
    "with open(r\"test01.txt\", \"r\") as f:\n",
    "    # read参数的单位是字符，可以理解成一个汉字就是一个字符\n",
    "    strChar = f.read(3)\n",
    "    while strChar:\n",
    "        print(strChar)\n",
    "        # sleep 参数的单位是秒\n",
    "        time.sleep(1)\n",
    "        strChar = f.read(3)\n",
    "        \n",
    "# 作业：\n",
    "# 解释以下运行结果为什么不是每行三个字符"
   ]
  },
  {
   "cell_type": "code",
   "execution_count": 7,
   "metadata": {},
   "outputs": [
    {
     "name": "stdout",
     "output_type": "stream",
     "text": [
      "<built-in method tell of _io.TextIOWrapper object at 0x0000022B4A756120>\n",
      "鹅鹅鹅\n",
      "<built-in method tell of _io.TextIOWrapper object at 0x0000022B4A756120>\n",
      "\n",
      "曲项\n",
      "<built-in method tell of _io.TextIOWrapper object at 0x0000022B4A756120>\n",
      "向天歌\n",
      "<built-in method tell of _io.TextIOWrapper object at 0x0000022B4A756120>\n",
      "\n",
      "白毛\n",
      "<built-in method tell of _io.TextIOWrapper object at 0x0000022B4A756120>\n",
      "浮绿水\n",
      "<built-in method tell of _io.TextIOWrapper object at 0x0000022B4A756120>\n",
      "\n",
      "红掌\n",
      "<built-in method tell of _io.TextIOWrapper object at 0x0000022B4A756120>\n",
      "拨清波\n",
      "<built-in method tell of _io.TextIOWrapper object at 0x0000022B4A756120>\n",
      " \n"
     ]
    }
   ],
   "source": [
    "# tell 函数：用来显示文件读写指针的当前位置\n",
    "with open(r\"test01.txt\", \"r\") as f:\n",
    "    strChar = f.read(3)\n",
    "    pos = f.tell\n",
    "    \n",
    "    while strChar:\n",
    "        print(pos)\n",
    "        print(strChar)\n",
    "        \n",
    "        strChar = f.read(3)\n",
    "        pos = f.tell\n",
    "        \n",
    "# 以下结果说明：\n",
    "# tell的返回数字的单位是byte\n",
    "# read是以字符为单位"
   ]
  },
  {
   "cell_type": "markdown",
   "metadata": {},
   "source": [
    "### 文件的写操作\n",
    "- write（str）：把字符串写入文件\n",
    "- writeline(str):把字符串按行写入文件\n",
    "- 区别：\n",
    "    - write函数参数只能是字符串\n",
    "    - writeline参数可以是字符串，也可以是字符序列\n",
    "    "
   ]
  },
  {
   "cell_type": "code",
   "execution_count": 15,
   "metadata": {},
   "outputs": [],
   "source": [
    "# write案例\n",
    "# 1. 向文件追加 一句诗\n",
    "\n",
    "# a 代表追加方式打开\n",
    "with open(r'test01.txt', 'a') as f:\n",
    "    # 注意字符串里面含有换行符\n",
    "    f.write(r\"\\n生活不只眼前的苟且，\\n 还有远方的枸杞\")"
   ]
  },
  {
   "cell_type": "code",
   "execution_count": 17,
   "metadata": {},
   "outputs": [
    {
     "ename": "AttributeError",
     "evalue": "'_io.TextIOWrapper' object has no attribute 'writelien'",
     "output_type": "error",
     "traceback": [
      "\u001b[1;31m---------------------------------------------------------------------------\u001b[0m",
      "\u001b[1;31mAttributeError\u001b[0m                            Traceback (most recent call last)",
      "\u001b[1;32m<ipython-input-17-c648cf7e5f50>\u001b[0m in \u001b[0;36m<module>\u001b[1;34m()\u001b[0m\n\u001b[0;32m      5\u001b[0m \u001b[1;32mwith\u001b[0m \u001b[0mopen\u001b[0m\u001b[1;33m(\u001b[0m\u001b[1;34mr'test01.txt'\u001b[0m\u001b[1;33m,\u001b[0m \u001b[1;34m'a'\u001b[0m\u001b[1;33m)\u001b[0m \u001b[1;32mas\u001b[0m \u001b[0mf\u001b[0m\u001b[1;33m:\u001b[0m\u001b[1;33m\u001b[0m\u001b[0m\n\u001b[0;32m      6\u001b[0m \u001b[1;33m\u001b[0m\u001b[0m\n\u001b[1;32m----> 7\u001b[1;33m     \u001b[0mf\u001b[0m\u001b[1;33m.\u001b[0m\u001b[0mwritelien\u001b[0m\u001b[1;33m(\u001b[0m\u001b[1;34m\"生活不只眼前的苟且\"\u001b[0m\u001b[1;33m)\u001b[0m\u001b[1;33m\u001b[0m\u001b[0m\n\u001b[0m\u001b[0;32m      8\u001b[0m     \u001b[0mf\u001b[0m\u001b[1;33m.\u001b[0m\u001b[0mwriteline\u001b[0m\u001b[1;33m(\u001b[0m\u001b[1;34m\"还有远方的枸杞\"\u001b[0m\u001b[1;33m)\u001b[0m\u001b[1;33m\u001b[0m\u001b[0m\n",
      "\u001b[1;31mAttributeError\u001b[0m: '_io.TextIOWrapper' object has no attribute 'writelien'"
     ]
    }
   ],
   "source": [
    "# 可以直接写入行，荣writelines\n",
    "# writelines 表示写入很多行，参数可以\n",
    "\n",
    "# a 代表追加方式打开，参数可以是list格式\n",
    "with open(r'test01.txt', 'a') as f:\n",
    "   \n",
    "    f.writeliens(\"生活不只眼前的苟且\")\n",
    "    f.writelines(\"还有远方的枸杞\")"
   ]
  },
  {
   "cell_type": "code",
   "execution_count": 19,
   "metadata": {},
   "outputs": [
    {
     "name": "stdout",
     "output_type": "stream",
     "text": [
      "<_io.TextIOWrapper name='test01.txt' mode='w' encoding='cp936'>\n"
     ]
    }
   ],
   "source": [
    "l = [\"i\", \"love\", \"wangxiaomei\"]\n",
    "with open(r'test01.txt', \"w\") as f:\n",
    "    \n",
    "    f.writelines(l)\n",
    "\n"
   ]
  },
  {
   "cell_type": "markdown",
   "metadata": {},
   "source": [
    "### 持久化-pickle\n",
    "- 序列化（持久化，落地）：把程序运行中的信息保存到磁盘上\n",
    "- 反序列化：持久化的逆过程\n",
    "- pickle：Python提供序列化模块\n",
    "- pickle.dump:序列化\n",
    "- pick.load:反序列化\n"
   ]
  },
  {
   "cell_type": "code",
   "execution_count": 20,
   "metadata": {},
   "outputs": [],
   "source": [
    "# 序列化案例\n",
    "import pickle\n",
    "\n",
    "age = 19\n",
    "\n",
    "with open(r'test01.txt', 'wb') as f:\n",
    "    pickle.dump(age, f)"
   ]
  },
  {
   "cell_type": "code",
   "execution_count": 21,
   "metadata": {},
   "outputs": [
    {
     "name": "stdout",
     "output_type": "stream",
     "text": [
      "19\n"
     ]
    }
   ],
   "source": [
    "# 反序列化案\n",
    "import pickle\n",
    "\n",
    "with open(r'test01.txt', \"rb\") as f:\n",
    "    age = pickle.load(f)\n",
    "    print(age)"
   ]
  },
  {
   "cell_type": "code",
   "execution_count": 23,
   "metadata": {},
   "outputs": [],
   "source": [
    "# 序列化案例\n",
    "import pickle\n",
    "\n",
    "a = [11,\"houzi\",'I love wangxiaomei',[160,49]]\n",
    "\n",
    "with open(r'test01.txt', 'wb') as f:\n",
    "    pickle.dump(a,f)"
   ]
  },
  {
   "cell_type": "code",
   "execution_count": 24,
   "metadata": {},
   "outputs": [
    {
     "name": "stdout",
     "output_type": "stream",
     "text": [
      "[11, 'houzi', 'I love wangxiaomei', [160, 49]]\n"
     ]
    }
   ],
   "source": [
    "with open(r'test01.txt', 'rb') as f:\n",
    "    a = pickle.load(f)\n",
    "    print(a)"
   ]
  },
  {
   "cell_type": "markdown",
   "metadata": {},
   "source": [
    "# 持久化-shelve\n",
    "- 持久化工具\n",
    "- 类似字典，用kv对保存数据，存取方式也和字典类似\n",
    "- open，close"
   ]
  },
  {
   "cell_type": "code",
   "execution_count": 27,
   "metadata": {},
   "outputs": [],
   "source": [
    "# 使用shelve创建并使用文件\n",
    "import shelve\n",
    "\n",
    "#打开文件\n",
    "# shv相当于一个字典\n",
    "shv = shelve.open(r'shv.db')\n",
    "\n",
    "shv['one'] = 1\n",
    "shv['two'] = 2\n",
    "shv['rhtee'] = 3\n",
    "\n",
    "shv.close()\n",
    "\n",
    "# 这个例子说明，shelve自动创建的不仅仅是一个shv.bd文件，海报开哦其他格式文件"
   ]
  },
  {
   "cell_type": "code",
   "execution_count": 33,
   "metadata": {},
   "outputs": [
    {
     "name": "stdout",
     "output_type": "stream",
     "text": [
      "1\n",
      "好瞌睡，想睡觉\n"
     ]
    }
   ],
   "source": [
    "# shelve读取案例\n",
    "shv = shelve.open(r'shv.db')\n",
    "\n",
    "try:\n",
    "    print(shv['one'])\n",
    "    print(shv['threee'])\n",
    "except Exception as e:\n",
    "    print(\"好瞌睡，想睡觉\")\n",
    "    \n",
    "finally:\n",
    "    shv.close()"
   ]
  },
  {
   "cell_type": "markdown",
   "metadata": {},
   "source": [
    "### shelve特性\n",
    "- 不支持多个应用并行写入\n",
    "    - 为了解决这个问题，open的时候可以使用flag = r\n",
    "- 写回问题\n",
    "    - shelve任何情况下不会对持久化队形进行任何修改\n",
    "    - 解决方法：强制下回：writeback=True"
   ]
  },
  {
   "cell_type": "code",
   "execution_count": 34,
   "metadata": {},
   "outputs": [
    {
     "name": "stdout",
     "output_type": "stream",
     "text": [
      "1\n"
     ]
    }
   ],
   "source": [
    "# shelve 只读打开\n",
    "import shelve\n",
    "\n",
    "shv = shelve.open(r'shv.db','r')\n",
    "\n",
    "try:\n",
    "    k1 = shv['one']\n",
    "    print(k1)\n",
    "finally:\n",
    "    shv.close"
   ]
  },
  {
   "cell_type": "code",
   "execution_count": 39,
   "metadata": {},
   "outputs": [
    {
     "name": "stdout",
     "output_type": "stream",
     "text": [
      "{'eins': 1, 'zwei': 2, 'drei': 3}\n"
     ]
    }
   ],
   "source": [
    "import shelve\n",
    "\n",
    "shv = shelve.open(r'shv.db')\n",
    "try:\n",
    "    shv['one'] = {\"eins\":1, \"zwei\":2, \"drei\":3}\n",
    "finally:\n",
    "    shv.close()\n",
    "    \n",
    "    \n",
    "shv = shelve.open(r'shv.db')\n",
    "try:\n",
    "    one = shv['one']\n",
    "    print(one)\n",
    "finally:\n",
    "    shv.close()"
   ]
  },
  {
   "cell_type": "code",
   "execution_count": 38,
   "metadata": {},
   "outputs": [
    {
     "name": "stdout",
     "output_type": "stream",
     "text": [
      "{'eins': 1, 'zwei': 2, 'drei': 3}\n",
      "{'eins': 1, 'zwei': 2, 'drei': 3}\n"
     ]
    }
   ],
   "source": [
    "# shelve 忘记写回，需要使用强制写回\n",
    "shv = shelve.open(r'shv.db')\n",
    "try:\n",
    "    k1 = shv['one']\n",
    "    print(k1)\n",
    "    # 此时，一旦 shelve忘记关闭，则内容还是存在内存中，没有写回数据库\n",
    "    \n",
    "finally:\n",
    "    shv.close()\n",
    "    \n",
    "shv = shelve.open(r'shv.db')\n",
    "try:\n",
    "    k1 = shv['one']\n",
    "    print(k1)\n",
    "    \n",
    "finally:\n",
    "    shv.close()"
   ]
  },
  {
   "cell_type": "code",
   "execution_count": 40,
   "metadata": {},
   "outputs": [
    {
     "name": "stdout",
     "output_type": "stream",
     "text": [
      "{'eins': 1, 'zwei': 2, 'drei': 3}\n",
      "{'eins': 1000, 'zwei': 2, 'drei': 3}\n"
     ]
    }
   ],
   "source": [
    "# shelve使用with管理上下文环境\n",
    "with shelve.open(r'shv.db', writeback=True) as shv:\n",
    "    k1 = shv['one']\n",
    "    print(k1)\n",
    "    # 此时，一旦shelve关闭，则内容还是在内存中没有写回数据库\n",
    "    \n",
    "    k1['eins'] = 1000\n",
    "    \n",
    "    \n",
    "with shelve.open(r'shv.db') as shv:\n",
    "    print(shv['one'])\n",
    "    "
   ]
  },
  {
   "cell_type": "code",
   "execution_count": null,
   "metadata": {},
   "outputs": [],
   "source": []
  }
 ],
 "metadata": {
  "kernelspec": {
   "display_name": "Python 3",
   "language": "python",
   "name": "python3"
  },
  "language_info": {
   "codemirror_mode": {
    "name": "ipython",
    "version": 3
   },
   "file_extension": ".py",
   "mimetype": "text/x-python",
   "name": "python",
   "nbconvert_exporter": "python",
   "pygments_lexer": "ipython3",
   "version": "3.7.0"
  }
 },
 "nbformat": 4,
 "nbformat_minor": 2
}
