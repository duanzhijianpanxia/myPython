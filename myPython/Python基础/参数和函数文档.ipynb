{
 "cells": [
  {
   "cell_type": "markdown",
   "metadata": {},
   "source": [
    "## 四类参数\n",
    "- 默认参数\n",
    "- 普通参数\n",
    "- 关键字参数\n",
    "- 收集参数\n",
    "### 关键字参数\n",
    "- 语法\n",
    "        \n",
    "        def func(p1=v1,p2=v2......):\n",
    "            func_body\n",
    "        \n",
    "        调用函数：\n",
    "        func(p1=value1,p2=value2......)\n",
    "        \n",
    "- 比较麻烦，但也有好处：\n",
    "    - 不容易混淆，一般实参和形参只需要按照位置一一对应即可，容易出错\n",
    "    - 使用关键字参数，可以不考虑参数位置\n",
    "    "
   ]
  },
  {
   "cell_type": "code",
   "execution_count": 7,
   "metadata": {},
   "outputs": [
    {
     "name": "stdout",
     "output_type": "stream",
     "text": [
      "I am a students\n",
      "我叫 18，我今年xiaomei岁了，我住在河南\n",
      "I am a student\n",
      "我叫 xiaomei，我今年18岁了，我住在河南\n"
     ]
    }
   ],
   "source": [
    "# 关键字参数案例\n",
    "def stu(name, age, addr):\n",
    "    print(\"I am a students\")\n",
    "    print(\"我叫 {0}，我今年{1}岁了，我住在{2}\".format(name,age,addr))\n",
    "    \n",
    "n = \"xiaomei\"\n",
    "a = 18\n",
    "addr = \"河南\"\n",
    "# 普通参数，只按照位置传递，容易出错\n",
    "stu(a, n, addr)\n",
    "\n",
    "def stu_key(name=\"No name\",age= 0,addr=\"No addr\"):\n",
    "    print(\"I am a student\")\n",
    "    print(\"我叫 {0}，我今年{1}岁了，我住在{2}\".format(name,age,addr))\n",
    "n = \"xiaomei\"\n",
    "a = 18\n",
    "addr = \"河南\"\n",
    "stu_key(age=a, name=n, addr=addr)"
   ]
  },
  {
   "cell_type": "markdown",
   "metadata": {},
   "source": [
    "### 收集参数\n",
    "- 把没有位置，不能和定义时的参数位置相对应的参数，放入一个特定的数据结构中\n",
    "- 语法\n",
    "        \n",
    "        def func(*args):\n",
    "            func_body\n",
    "            按照list使用方式访问args得到传入的参数\n",
    "            \n",
    "        调用：\n",
    "        func(p1,p2,p3......)\n",
    "        \n",
    "- 参数名args不是必须这么写，但是，我们推荐直接用args，约定俗成\n",
    "- 参数名args前需要有星号*\n",
    "- 收集参数可以和其他参数共存"
   ]
  },
  {
   "cell_type": "code",
   "execution_count": null,
   "metadata": {},
   "outputs": [],
   "source": []
  }
 ],
 "metadata": {
  "kernelspec": {
   "display_name": "Python 3",
   "language": "python",
   "name": "python3"
  },
  "language_info": {
   "codemirror_mode": {
    "name": "ipython",
    "version": 3
   },
   "file_extension": ".py",
   "mimetype": "text/x-python",
   "name": "python",
   "nbconvert_exporter": "python",
   "pygments_lexer": "ipython3",
   "version": "3.7.0"
  }
 },
 "nbformat": 4,
 "nbformat_minor": 2
}
