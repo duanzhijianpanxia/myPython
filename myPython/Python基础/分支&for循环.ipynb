{
 "cells": [
  {
   "cell_type": "markdown",
   "metadata": {},
   "source": [
    "# 三大结构\n",
    "- 顺序\n",
    "- 分支\n",
    "- 循环\n",
    "## 分支\n",
    "- 分支的基本语法\n",
    "    - if 条件表达式：\n",
    "    - 语句1\n",
    "    - 语句2\n",
    "    - 语句3\n",
    "    \n",
    "    ……\n",
    "    \n",
    "- 条件表达式就是计算结果必为布尔值的表达式\n",
    "- 条件表达式后面的冒号不能少\n",
    "- 注意if后面出现的语句，如果属于if语句块，则必须同一缩进等级\n",
    "- 条件表达式结果为true执行if后面缩进的语句块"
   ]
  },
  {
   "cell_type": "code",
   "execution_count": 2,
   "metadata": {},
   "outputs": [
    {
     "name": "stdout",
     "output_type": "stream",
     "text": [
      "我不带你玩\n",
      "滚犊子\n",
      "开车了，老司机\n"
     ]
    }
   ],
   "source": [
    "# if语句练习\n",
    "# 如果age小于18岁，则打印信息“去叫家长”\n",
    "age = 19\n",
    "if age < 18:\n",
    "    print(\"去叫家长吧，孩纸\")\n",
    "    print(\"我不带你玩\")\n",
    "    print(\"滚犊子\")\n",
    "print(\"开车了，老司机\")"
   ]
  },
  {
   "cell_type": "code",
   "execution_count": 3,
   "metadata": {},
   "outputs": [
    {
     "name": "stdout",
     "output_type": "stream",
     "text": [
      "去叫家长吧，孩纸\n",
      "我不带你玩\n",
      "滚犊子\n",
      "开车了，老司机\n"
     ]
    }
   ],
   "source": [
    "# if语句练习\n",
    "# 如果age小于18岁，则打印信息“去叫家长”\n",
    "age = 16\n",
    "if age < 18:\n",
    "    print(\"去叫家长吧，孩纸\")\n",
    "    print(\"我不带你玩\")\n",
    "    print(\"滚犊子\")\n",
    "print(\"开车了，老司机\")"
   ]
  },
  {
   "cell_type": "code",
   "execution_count": 4,
   "metadata": {},
   "outputs": [
    {
     "name": "stdout",
     "output_type": "stream",
     "text": [
      "请输入你的性别： nan\n",
      "您输入的性别是：nan\n",
      "来，我们纪念一下今天，代码敲十遍\n",
      "OK，开始上课了\n"
     ]
    }
   ],
   "source": [
    "# input的作用是\n",
    "# 1.在屏幕上输出括号内的字符串\n",
    "# 2.接受用户输入的内容并返回程序\n",
    "# 3.input返回的内容一定是字符串类型\n",
    "gender = input(\"请输入你的性别： \")\n",
    "print(\"您输入的性别是：{0}\".format(gender))\n",
    "if gender ==\"nan\":\n",
    "    print(\"来，我们纪念一下今天，代码敲十遍\")\n",
    "else:\n",
    "    print(\"发糖咯发糖咯\")\n",
    "    print(\"你是女生，特殊关照咯\")\n",
    "    \n",
    "print(\"OK，开始上课了\")"
   ]
  },
  {
   "cell_type": "code",
   "execution_count": 5,
   "metadata": {},
   "outputs": [
    {
     "name": "stdout",
     "output_type": "stream",
     "text": [
      "请输入你的性别： jkjkj\n",
      "您输入的性别是：jkjkj\n",
      "发糖咯发糖咯\n",
      "你是女生，特殊关照咯\n",
      "OK，开始上课了\n"
     ]
    }
   ],
   "source": [
    "# input的作用是\n",
    "# 1.在屏幕上输出括号内的字符串\n",
    "# 2.接受用户输入的内容并返回程序\n",
    "# 3.input返回的内容一定是字符串类型\n",
    "gender = input(\"请输入你的性别： \")\n",
    "print(\"您输入的性别是：{0}\".format(gender))\n",
    "if gender ==\"nan\":\n",
    "    print(\"来，我们纪念一下今天，代码敲十遍\")\n",
    "else:\n",
    "    print(\"发糖咯发糖咯\")\n",
    "    print(\"你是女生，特殊关照咯\")\n",
    "    \n",
    "print(\"OK，开始上课了\")"
   ]
  },
  {
   "cell_type": "code",
   "execution_count": 12,
   "metadata": {},
   "outputs": [
    {
     "name": "stdout",
     "output_type": "stream",
     "text": [
      "请输入学生成绩 67\n",
      "平\n"
     ]
    }
   ],
   "source": [
    "# 考试成绩判断\n",
    "# 90以上：输出优秀\n",
    "# 80-90：良\n",
    "# 70-80：中\n",
    "# 60-70：平\n",
    "# 60以下：输出起开，我没你这撒学生\n",
    "score = input(\"请输入学生成绩 \")\n",
    "score = int(score)\n",
    "if score < 60:\n",
    "    print(\"起开，我没你这撒学僧\")\n",
    "if score <70 and score >= 60:\n",
    "    print(\"平\")\n",
    "if score < 80 and score >= 70:\n",
    "    print(\"中\")\n",
    "if score < 90 and score >= 80:\n",
    "    print(\"良\")\n",
    "if score <= 100 and score >= 90:\n",
    "    print(\"优秀\")"
   ]
  },
  {
   "cell_type": "code",
   "execution_count": 14,
   "metadata": {},
   "outputs": [
    {
     "name": "stdout",
     "output_type": "stream",
     "text": [
      "请输入学生成绩 78\n",
      "中\n"
     ]
    }
   ],
   "source": [
    "# 考试成绩判断\n",
    "# 90以上：输出优秀\n",
    "# 80-90：良\n",
    "# 70-80：中\n",
    "# 60-70：平\n",
    "# 60以下：输出起开，我没你这撒学生\n",
    "score = input(\"请输入学生成绩 \")\n",
    "score = int(score)\n",
    "if score >= 90:\n",
    "    print(\"优秀\")\n",
    "if score >=80 and score < 90:\n",
    "    print(\"良\")\n",
    "if score >=70 and score < 80:\n",
    "    print(\"中\")\n",
    "if score >=60 and score < 70:\n",
    "    print(\"平\")\n",
    "if score < 60:\n",
    "    print(\"起开，我没你这撒学僧\")"
   ]
  },
  {
   "cell_type": "markdown",
   "metadata": {},
   "source": [
    "## if语句其他\n",
    "- if语句可以嵌套使用，但是不推荐\n",
    "- python没有switch-case语句\n",
    "\n",
    "## 循环语句\n",
    "- 重复执行某些固定动作或者处理基本固定的事务\n",
    "    - 分类\n",
    "    - for循环\n",
    "    - while循环\n",
    "- for循环\n",
    "\n",
    "        for 变量 in 序列:\n",
    "            语句1\n",
    "            语句2\n",
    "            ……\n",
    "            "
   ]
  },
  {
   "cell_type": "code",
   "execution_count": 18,
   "metadata": {},
   "outputs": [
    {
     "name": "stdout",
     "output_type": "stream",
     "text": [
      "zhangsan\n",
      "起开，我不认识你请自重\n",
      "lisi\n",
      "起开，我不认识你请自重\n",
      "wangwu\n",
      "起开，我不认识你请自重\n",
      "xiaomei\n",
      "你是我的小可爱\n",
      "我好累呀，想睡觉\n"
     ]
    }
   ],
   "source": [
    "# 打印学生列表姓名\n",
    "# 如果是xiaomei,那肯定是我的最爱呀，\n",
    "# 如果是别的学生就要冷酷拒绝\n",
    "for name in ['zhangsan','lisi','wangwu','xiaomei']:\n",
    "    print(name)\n",
    "    if name == 'xiaomei':\n",
    "        print('你是我的小可爱')\n",
    "    else:\n",
    "        print('起开，我不认识你请自重')\n",
    "else:\n",
    "    print('我好累呀，想睡觉')"
   ]
  },
  {
   "cell_type": "markdown",
   "metadata": {},
   "source": [
    "### range介绍\n",
    "- 生成一个数字序列\n",
    "- 具体范围可设定"
   ]
  },
  {
   "cell_type": "code",
   "execution_count": 16,
   "metadata": {},
   "outputs": [
    {
     "name": "stdout",
     "output_type": "stream",
     "text": [
      "1\n",
      "2\n",
      "3\n",
      "4\n",
      "5\n",
      "6\n",
      "7\n",
      "8\n",
      "9\n"
     ]
    }
   ],
   "source": [
    "# range练习\n",
    "# 打印1到10的数字\n",
    "# 注意，在python中，一般如果表示数字范围的  两个数，是左闭右开区间，即包含左边的数字，不包含右边的数字\n",
    "# randint是特例，它是完全闭合区间，左右的范围数字都包含\n",
    "# range函数在python2和python3中有严重的区别\n",
    "for i in range(1,10):\n",
    "    print(i)"
   ]
  },
  {
   "cell_type": "markdown",
   "metadata": {},
   "source": [
    "## for-else语句\n",
    "- 当for循环结束的时候，会执行else语句\n",
    "- else语句是可选语句"
   ]
  },
  {
   "cell_type": "code",
   "execution_count": 19,
   "metadata": {},
   "outputs": [
    {
     "name": "stdout",
     "output_type": "stream",
     "text": [
      "zhangsan\n",
      "请自重，我不认识你，不想和你搞暧昧\n",
      "lisi\n",
      "请自重，我不认识你，不想和你搞暧昧\n",
      "wangwu\n",
      "请自重，我不认识你，不想和你搞暧昧\n",
      "xiaomei\n",
      "终于等到你，我的小可爱\n",
      "今天结束了，明天又是美好的一天\n"
     ]
    }
   ],
   "source": [
    "# for-else语句\n",
    "# 打印列表中的人名\n",
    "# 如果没在列表中或者打印结束了，我们需要打印提示语：今天结束了，明天又是美好的一天\n",
    "\n",
    "# 打印人名列表\n",
    "# 如果是xiaomei,输出：你是我的小可爱\n",
    "# 如果是别人，输出：天天干这个，好无聊呀，但是这由不得不搞\n",
    "for name in ['zhangsan','lisi','wangwu','xiaomei']:\n",
    "    print(name)\n",
    "    if name == 'xiaomei':\n",
    "        print('终于等到你，我的小可爱')\n",
    "    else:\n",
    "        print('请自重，我不认识你，不想和你搞暧昧')\n",
    "else:\n",
    "    print('今天结束了，明天又是美好的一天')"
   ]
  },
  {
   "cell_type": "markdown",
   "metadata": {},
   "source": [
    "##循环之break，continue，pass\n",
    "- break：无条件结束整个循环，又称循环猝死\n",
    "- continue：无条件结束本次循环，重新进入下一轮循环\n",
    "- pass：表示略过，通常用于占位"
   ]
  },
  {
   "cell_type": "code",
   "execution_count": 23,
   "metadata": {},
   "outputs": [
    {
     "name": "stdout",
     "output_type": "stream",
     "text": [
      "1\n",
      "2\n",
      "3\n",
      "4\n",
      "5\n",
      "6\n",
      "我找到了\n"
     ]
    }
   ],
   "source": [
    "# 在数字1-10中寻找7，一旦找到打印出来，其余什么都不做\n",
    "# for 循环中的变量表示，一般用i,k,m,n,或者indx idx，item之类\n",
    "# 在python中，如果变量名称不重要，可以用下划线（—）代替\n",
    "for i in range(1,10):\n",
    "    if i == 7:\n",
    "        print('我找到了')\n",
    "        break\n",
    "    else:\n",
    "        print(i)"
   ]
  },
  {
   "cell_type": "code",
   "execution_count": 32,
   "metadata": {},
   "outputs": [
    {
     "name": "stdout",
     "output_type": "stream",
     "text": [
      "2 是偶数\n",
      "4 是偶数\n",
      "6 是偶数\n",
      "8 是偶数\n",
      "10 是偶数\n"
     ]
    }
   ],
   "source": [
    "# continue练习\n",
    "# 在数字1-10中寻找偶数并打印\n",
    "# 正常情况的代码\n",
    "for i in range(1,11):\n",
    "    if i % 2 == 0:\n",
    "        print(\"{0} 是偶数\".format(i))"
   ]
  },
  {
   "cell_type": "code",
   "execution_count": 33,
   "metadata": {},
   "outputs": [
    {
     "name": "stdout",
     "output_type": "stream",
     "text": [
      "2 是偶数\n",
      "4 是偶数\n",
      "6 是偶数\n",
      "8 是偶数\n",
      "10 是偶数\n"
     ]
    }
   ],
   "source": [
    "# continue练习\n",
    "# 在数字1-10中寻找偶数并打印\n",
    "# 正常情况的代码\n",
    "# 本案例完整展示了continue的用法和作用\n",
    "for i in range(1,11):\n",
    "    if i % 2 == 1:\n",
    "        continue\n",
    "    else:\n",
    "        print(\"{0} 是偶数\".format(i))"
   ]
  },
  {
   "cell_type": "code",
   "execution_count": 34,
   "metadata": {},
   "outputs": [
    {
     "name": "stdout",
     "output_type": "stream",
     "text": [
      "wozaizheli\n",
      "wozaizheli\n",
      "wozaizheli\n",
      "wozaizheli\n",
      "wozaizheli\n",
      "wozaizheli\n",
      "wozaizheli\n",
      "wozaizheli\n",
      "wozaizheli\n",
      "wozaizheli\n"
     ]
    }
   ],
   "source": [
    "# pass一般用于占位，举例：\n",
    "# pass没有跳过功能\n",
    "\n",
    "for i in range(1,11):\n",
    "    pass\n",
    "    print('wozaizheli')"
   ]
  },
  {
   "cell_type": "code",
   "execution_count": null,
   "metadata": {},
   "outputs": [],
   "source": []
  }
 ],
 "metadata": {
  "kernelspec": {
   "display_name": "Python 3",
   "language": "python",
   "name": "python3"
  },
  "language_info": {
   "codemirror_mode": {
    "name": "ipython",
    "version": 3
   },
   "file_extension": ".py",
   "mimetype": "text/x-python",
   "name": "python",
   "nbconvert_exporter": "python",
   "pygments_lexer": "ipython3",
   "version": "3.7.0"
  }
 },
 "nbformat": 4,
 "nbformat_minor": 2
}
