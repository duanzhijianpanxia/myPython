{
 "cells": [
  {
   "cell_type": "code",
   "execution_count": null,
   "metadata": {},
   "outputs": [],
   "source": [
    "benjin = input('请输入您的: benjin ')\n",
    "benjin = int(benjin)\n",
    "year = 0\n",
    "over = benjin * 2\n",
    "while benjin >= over:\n",
    "    benjin >= benjin * (1 + 0.055)\n",
    "    year += 1 # 这个等于year = year + 1\n",
    "    print(\"第 {0} 年，拿了{1} 块钱\".format(year,benjin))\n",
    "else:\n",
    "    print('终于那翻倍了，等的太心累了')\n",
    "    print('10年前10万块钱可以买套房，现在儿子结婚，10万块钱，就买个厨房')"
   ]
  },
  {
   "cell_type": "code",
   "execution_count": null,
   "metadata": {},
   "outputs": [],
   "source": [
    "benjin = input('请输入您的本金:')\n",
    "a = input('请输入对应利率')\n",
    "benjin = int(benjin)\n",
    "a = float(a)\n",
    "year = 0\n",
    "over = benjin * 2\n",
    "while benjin <= over:\n",
    "    benjin = benjin * (1 + a)\n",
    "    year += 1 # 这个等于year = year + 1\n",
    "    print(\"第 {0} 年，拿了{1} 块钱\".format(year,benjin))\n",
    "else:\n",
    "    print('终于那翻倍了，等的太心累了')\n",
    "    print('10年前10万块钱可以买套房，现在儿子结婚，10万块钱，就买个厨房')\n"
   ]
  },
  {
   "cell_type": "code",
   "execution_count": null,
   "metadata": {},
   "outputs": [],
   "source": []
  }
 ],
 "metadata": {
  "kernelspec": {
   "display_name": "Python 3",
   "language": "python",
   "name": "python3"
  },
  "language_info": {
   "codemirror_mode": {
    "name": "ipython",
    "version": 3
   },
   "file_extension": ".py",
   "mimetype": "text/x-python",
   "name": "python",
   "nbconvert_exporter": "python",
   "pygments_lexer": "ipython3",
   "version": "3.7.0"
  }
 },
 "nbformat": 4,
 "nbformat_minor": 2
}
