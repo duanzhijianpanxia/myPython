{
 "cells": [
  {
   "cell_type": "code",
   "execution_count": 33,
   "metadata": {},
   "outputs": [
    {
     "name": "stdout",
     "output_type": "stream",
     "text": [
      "a - -> c\n",
      "a - -> b\n",
      "c - -> b\n",
      "a - -> c\n",
      "b - -> a\n",
      "b - -> c\n",
      "a - -> c\n",
      "a - -> b\n",
      "c - -> b\n",
      "c - -> a\n",
      "b - -> a\n",
      "c - -> b\n",
      "a - -> c\n",
      "a - -> b\n",
      "c - -> b\n",
      "a - -> c\n",
      "b - -> a\n",
      "b - -> c\n",
      "a - -> c\n",
      "b - -> a\n",
      "c - -> b\n",
      "c - -> a\n",
      "b - -> a\n",
      "b - -> c\n",
      "a - -> c\n",
      "a - -> b\n",
      "c - -> b\n",
      "a - -> c\n",
      "b - -> a\n",
      "b - -> c\n",
      "a - -> c\n"
     ]
    }
   ],
   "source": [
    "def hanno(n,a,b,c):\n",
    "    if n == 1:\n",
    "        print(a,\"- ->\",c)\n",
    "        return None\n",
    "    if n == 2:\n",
    "        print(a,\"- ->\",b)\n",
    "        print(a,\"- ->\",c)\n",
    "        print(b,\"- ->\",c)\n",
    "        return None\n",
    "    hanno(n-1,a,c,b)\n",
    "    print(a,\"- ->\",c)\n",
    "    \n",
    "    hanno(n-1,b,a,c)\n",
    "a = \"a\"\n",
    "b = \"b\"\n",
    "c = \"c\"\n",
    "    \n",
    "n = 5\n",
    "hanno(n,a,b,c)"
   ]
  },
  {
   "cell_type": "code",
   "execution_count": 34,
   "metadata": {},
   "outputs": [
    {
     "name": "stdout",
     "output_type": "stream",
     "text": [
      "A - -> C\n",
      "A - -> B\n",
      "C - -> B\n",
      "A - -> C\n",
      "B - -> A\n",
      "B - -> C\n",
      "A - -> C\n",
      "A - -> B\n",
      "C - -> B\n",
      "C - -> A\n",
      "B - -> A\n",
      "C - -> B\n",
      "A - -> C\n",
      "A - -> B\n",
      "C - -> B\n",
      "A - -> C\n",
      "B - -> A\n",
      "B - -> C\n",
      "A - -> C\n",
      "B - -> A\n",
      "C - -> B\n",
      "C - -> A\n",
      "B - -> A\n",
      "B - -> C\n",
      "A - -> C\n",
      "A - -> B\n",
      "C - -> B\n",
      "A - -> C\n",
      "B - -> A\n",
      "B - -> C\n",
      "A - -> C\n"
     ]
    }
   ],
   "source": [
    "def hanno(n,a,b,c):\n",
    "    if n == 1:\n",
    "        print(a,\"- ->\",c)\n",
    "        return None\n",
    "    if n == 2:\n",
    "        print(a,\"- ->\",b)\n",
    "        print(a,\"- ->\",c)\n",
    "        print(b,\"- ->\",c)\n",
    "        return None\n",
    "    hanno(n-1,a,c,b)\n",
    "    print(a,\"- ->\",c)\n",
    "    \n",
    "    hanno(n-1,b,a,c)\n",
    "a = \"A\"\n",
    "b = \"B\"\n",
    "c = \"C\"\n",
    "    \n",
    "n = 5\n",
    "hanno(n,a,b,c)"
   ]
  }
 ],
 "metadata": {
  "kernelspec": {
   "display_name": "Python 3",
   "language": "python",
   "name": "python3"
  },
  "language_info": {
   "codemirror_mode": {
    "name": "ipython",
    "version": 3
   },
   "file_extension": ".py",
   "mimetype": "text/x-python",
   "name": "python",
   "nbconvert_exporter": "python",
   "pygments_lexer": "ipython3",
   "version": "3.7.0"
  }
 },
 "nbformat": 4,
 "nbformat_minor": 2
}
