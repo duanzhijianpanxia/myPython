{
 "cells": [
  {
   "cell_type": "code",
   "execution_count": 8,
   "metadata": {},
   "outputs": [
    {
     "name": "stdout",
     "output_type": "stream",
     "text": [
      "NoName\n",
      "sec\n",
      "Sleeping......\n",
      "11677\n",
      "Take it easy.\n"
     ]
    }
   ],
   "source": [
    "# 继承的语法\n",
    "# 在Python中，任何一个类都有也共同的父类叫做object\n",
    "\n",
    "class Person():\n",
    "    name = \"NoName\"\n",
    "    age = 18\n",
    "    __score = 0 # 考试成绩是秘密只有自己知道\n",
    "    _petname = \"sec\" # 小明是受保护的，子类可以使用但是不能共用\n",
    "    def sleep(self):\n",
    "        print(\"Sleeping......\")\n",
    "        \n",
    "# 父类写在括号内\n",
    "class Teacher(Person):\n",
    "    teacher_id = 11677\n",
    "    def make_test(self):\n",
    "        print(\"Take it easy.\")\n",
    "        \n",
    "t = Teacher()\n",
    "print(t.name)\n",
    "\n",
    "# 受保护的不能外部访问，为什么这里可以\n",
    "print(t._petname)\n",
    "# print(t.__score)\n",
    "t.sleep()\n",
    "print(t.teacher_id)\n",
    "t.make_test()"
   ]
  },
  {
   "cell_type": "code",
   "execution_count": 10,
   "metadata": {},
   "outputs": [
    {
     "name": "stdout",
     "output_type": "stream",
     "text": [
      "wangxiaomei\n"
     ]
    }
   ],
   "source": [
    "# 子类和父类定义同一个名称变量，则优先使用子类本身\n",
    "class Person():\n",
    "    name = \"No Name\"\n",
    "    age = 23\n",
    "    score = 0\n",
    "    petname = \"damei\"\n",
    "    def sleep(self):\n",
    "        print(\"I want to sleep......\")\n",
    "        \n",
    "class Teacher(Person):  # 父类写在括号内\n",
    "        teacher_id = 4534346\n",
    "        name = \"wangxiaomei\"\n",
    "        def make_test(self):\n",
    "            print(\"Take it easy.\")\n",
    "            \n",
    "t = Teacher()\n",
    "print(t.name)"
   ]
  },
  {
   "cell_type": "code",
   "execution_count": 17,
   "metadata": {},
   "outputs": [
    {
     "name": "stdout",
     "output_type": "stream",
     "text": [
      "make some money\n",
      "take it easy.\n"
     ]
    }
   ],
   "source": [
    "# 子类扩充父类功能的案例\n",
    "# 人有工作的函数，老师也有工作的函数，但是老师的工作需要讲课\n",
    "class Person():\n",
    "    name = \"NoName\"\n",
    "    age = 12\n",
    "    def work(self):\n",
    "        print(\"make some money\")\n",
    "        \n",
    "class Teacher(Person):\n",
    "    teacher_id = 432435\n",
    "    name = \"wangxiaomei\"\n",
    "    def make_test(self):\n",
    "        print(\"take it easy.\")\n",
    "    def work(self):\n",
    "# 扩充父类的功能只需要调用父类相应函数\n",
    "# Person.work(self)\n",
    "# 扩充父类功能的另一种方法如下\n",
    "# super代表的到父类\n",
    "        Person.work(self)  ## 这两种方法任选一种\n",
    "        #super().work()  ##\n",
    "        self.make_test()\n",
    "t = Teacher()\n",
    "t.work()"
   ]
  },
  {
   "cell_type": "code",
   "execution_count": 18,
   "metadata": {},
   "outputs": [
    {
     "name": "stdout",
     "output_type": "stream",
     "text": [
      "wangwang\n"
     ]
    }
   ],
   "source": [
    "# 构造函数的概念\n",
    "\n",
    "class Dog():\n",
    "    # __init__就是构造函数\n",
    "    # 每次实例化的时候，第一个被自动的调用\n",
    "    # 因为主要工作是初始化，所以得名\n",
    "    def __init__(self):\n",
    "        print(\"wangwang\")\n",
    "        \n",
    "#实例化的时候，括号内的参数需要跟构造函数的参数匹配\n",
    "kaka = Dog()"
   ]
  },
  {
   "cell_type": "code",
   "execution_count": 19,
   "metadata": {},
   "outputs": [
    {
     "name": "stdout",
     "output_type": "stream",
     "text": [
      "wangwang\n"
     ]
    }
   ],
   "source": [
    "# 继承中的构造函数--1\n",
    "class Animal():\n",
    "    pass\n",
    "class PuruAni(Animal):\n",
    "    pass\n",
    "class Dog(PuruAni):\n",
    "    def __init__(self):\n",
    "        print(\"wangwang\")\n",
    "# 实例化的时候自动调用了Dog的构造函数\n",
    "kaka = Dog()"
   ]
  },
  {
   "cell_type": "code",
   "execution_count": 22,
   "metadata": {},
   "outputs": [
    {
     "name": "stdout",
     "output_type": "stream",
     "text": [
      "wangwang\n",
      "我是哺乳动物\n"
     ]
    }
   ],
   "source": [
    "# 继承中的构造函数--2\n",
    "class Animal():\n",
    "    def __init__(self):\n",
    "        print(\"不是植物\")\n",
    "        \n",
    "class PuruAni(Animal):\n",
    "    def __init__(self):\n",
    "        print(\"我是哺乳动物\")\n",
    "        \n",
    "class Dog(PuruAni):\n",
    "    def __init__(self):\n",
    "        print(\"wangwang\")\n",
    "        \n",
    "kaka = Dog()\n",
    "\n",
    "class Cat(PuruAni):\n",
    "    pass       # 注意 Cat没有写构造函数\n",
    "\n",
    "# 此时应该自动调用构造函数，因为Cat没有构造函数，需哦一查找父类构造函数\n",
    "# 在PuruAni中查找到了构造函数，则停止向上查找\n",
    "c = Cat()"
   ]
  },
  {
   "cell_type": "code",
   "execution_count": 35,
   "metadata": {},
   "outputs": [
    {
     "name": "stdout",
     "output_type": "stream",
     "text": [
      "wangwang\n"
     ]
    },
    {
     "ename": "TypeError",
     "evalue": "__init__() missing 1 required positional argument: 'name'",
     "output_type": "error",
     "traceback": [
      "\u001b[1;31m---------------------------------------------------------------------------\u001b[0m",
      "\u001b[1;31mTypeError\u001b[0m                                 Traceback (most recent call last)",
      "\u001b[1;32m<ipython-input-35-dcabeec72030>\u001b[0m in \u001b[0;36m<module>\u001b[1;34m()\u001b[0m\n\u001b[0;32m     21\u001b[0m \u001b[1;31m# 因为puruani的构造函数需要两个参数，实例化的时候给了一个，报错\u001b[0m\u001b[1;33m\u001b[0m\u001b[1;33m\u001b[0m\u001b[0m\n\u001b[0;32m     22\u001b[0m \u001b[1;33m\u001b[0m\u001b[0m\n\u001b[1;32m---> 23\u001b[1;33m \u001b[0mc\u001b[0m \u001b[1;33m=\u001b[0m \u001b[0mCat\u001b[0m\u001b[1;33m(\u001b[0m\u001b[1;33m)\u001b[0m\u001b[1;33m\u001b[0m\u001b[0m\n\u001b[0m",
      "\u001b[1;31mTypeError\u001b[0m: __init__() missing 1 required positional argument: 'name'"
     ]
    }
   ],
   "source": [
    "# 继承中的构造函数 --3\n",
    "\n",
    "class Animel():\n",
    "    def __init__(self):\n",
    "        print(\"不是植物\")\n",
    "        \n",
    "class PuruAni(Animel):\n",
    "    def __init__(self,name):\n",
    "        \n",
    "        print(\"哺乳动物{0}\".format(name))\n",
    "        \n",
    "class Dog(PuruAni):\n",
    "    def __init__(self):\n",
    "        print(\"wangwang\")\n",
    "        \n",
    "d = Dog() # 实例化的时候，查找到Dog的构造函数，参数匹配，不报错\n",
    "\n",
    "class Cat(PuruAni):\n",
    "    pass\n",
    "# 此时cat 没写构造函数，则向上查找\n",
    "# 因为puruani的构造函数需要两个参数，实例化的时候给了一个，报错\n",
    "\n",
    "c = Cat()"
   ]
  },
  {
   "cell_type": "code",
   "execution_count": 32,
   "metadata": {},
   "outputs": [
    {
     "name": "stdout",
     "output_type": "stream",
     "text": [
      "不是植物\n",
      "不是植物\n"
     ]
    }
   ],
   "source": [
    "# 继承中的构造函数--4\n",
    "class Animel():\n",
    "    def __init__(self):\n",
    "        print(\"不是植物\")\n",
    "class PuruAni(Animel):\n",
    "    pass\n",
    "class Dog(PuruAni):\n",
    "    pass\n",
    "d = Dog()\n",
    "# 实例化的时，因为Dog没有构造函数，向上查找父类，找到Animel,参数匹配，不报错\n",
    "class Cat(PuruAni):\n",
    "    pass\n",
    "c = Cat()"
   ]
  },
  {
   "cell_type": "code",
   "execution_count": 39,
   "metadata": {},
   "outputs": [
    {
     "name": "stdout",
     "output_type": "stream",
     "text": [
      "<class 'type'>\n",
      "Help on class super in module builtins:\n",
      "\n",
      "class super(object)\n",
      " |  super() -> same as super(__class__, <first argument>)\n",
      " |  super(type) -> unbound super object\n",
      " |  super(type, obj) -> bound super object; requires isinstance(obj, type)\n",
      " |  super(type, type2) -> bound super object; requires issubclass(type2, type)\n",
      " |  Typical use to call a cooperative superclass method:\n",
      " |  class C(B):\n",
      " |      def meth(self, arg):\n",
      " |          super().meth(arg)\n",
      " |  This works for class methods too:\n",
      " |  class C(B):\n",
      " |      @classmethod\n",
      " |      def cmeth(cls, arg):\n",
      " |          super().cmeth(arg)\n",
      " |  \n",
      " |  Methods defined here:\n",
      " |  \n",
      " |  __get__(self, instance, owner, /)\n",
      " |      Return an attribute of instance, which is of type owner.\n",
      " |  \n",
      " |  __getattribute__(self, name, /)\n",
      " |      Return getattr(self, name).\n",
      " |  \n",
      " |  __init__(self, /, *args, **kwargs)\n",
      " |      Initialize self.  See help(type(self)) for accurate signature.\n",
      " |  \n",
      " |  __repr__(self, /)\n",
      " |      Return repr(self).\n",
      " |  \n",
      " |  ----------------------------------------------------------------------\n",
      " |  Static methods defined here:\n",
      " |  \n",
      " |  __new__(*args, **kwargs) from builtins.type\n",
      " |      Create and return a new object.  See help(type) for accurate signature.\n",
      " |  \n",
      " |  ----------------------------------------------------------------------\n",
      " |  Data descriptors defined here:\n",
      " |  \n",
      " |  __self__\n",
      " |      the instance invoking super(); may be None\n",
      " |  \n",
      " |  __self_class__\n",
      " |      the type of the instance invoking super(); may be None\n",
      " |  \n",
      " |  __thisclass__\n",
      " |      the class invoking super()\n",
      "\n"
     ]
    }
   ],
   "source": [
    "print(type(super))\n",
    "help(super)"
   ]
  },
  {
   "cell_type": "code",
   "execution_count": 16,
   "metadata": {},
   "outputs": [
    {
     "name": "stdout",
     "output_type": "stream",
     "text": [
      "Working........\n",
      "I am flying.....\n",
      "i am swimming......\n"
     ]
    }
   ],
   "source": [
    "# 单继承和多继承\n",
    "# 子类可以直接拥有父类的属性和方法，私有属性和方法除外\n",
    "class Fish():\n",
    "    def __init__(self,name):\n",
    "        self.name = name\n",
    "    def swim(self):\n",
    "        print(\"i am swimming......\")\n",
    "        \n",
    "class Bird():\n",
    "    def __init__(self, name):\n",
    "        self.name = name\n",
    "        \n",
    "    def fly(self):\n",
    "        print(\"I am flying.....\")\n",
    "\n",
    "class Person():\n",
    "    def __init__(self, name):\n",
    "        self.name = name\n",
    "        \n",
    "    def work(self):\n",
    "        print(\"Working........\")\n",
    "        \n",
    "        \n",
    "\n",
    "        \n",
    "# 单继承的例子      \n",
    "class Student(Person):\n",
    "    def __init__(self, name):\n",
    "        self.name = name\n",
    "stu = Student(\"yueyue\")\n",
    "stu.work()\n",
    "        \n",
    "        \n",
    "# 多继承的例子  \n",
    "class SuperMan(Person, Bird, Fish):\n",
    "    def __init__(self, name):\n",
    "        self.name = name\n",
    "\n",
    "\n",
    "class SwimMan(Person, Fish):\n",
    "    def __init__(self, name):\n",
    "        self.name = name\n",
    "       \n",
    "s = SuperMan(\"yueyue\")\n",
    "s.fly()\n",
    "s.swim()\n"
   ]
  },
  {
   "cell_type": "code",
   "execution_count": 18,
   "metadata": {},
   "outputs": [],
   "source": [
    "# 菱形继承问题\n",
    "class A():\n",
    "    pass\n",
    "class B(A):\n",
    "    pass\n",
    "class C(A):\n",
    "    pass\n",
    "class D(B,C):\n",
    "    pass"
   ]
  },
  {
   "cell_type": "code",
   "execution_count": 27,
   "metadata": {},
   "outputs": [
    {
     "name": "stdout",
     "output_type": "stream",
     "text": [
      "IN INIT FUNC\n"
     ]
    }
   ],
   "source": [
    "#构造函数的例子\n",
    "\n",
    "class Person():\n",
    "    # 对Person类进行实例化的时候\n",
    "    # 姓名要确定\n",
    "    # 年龄的确定\n",
    "    # 地址肯定有\n",
    "    def __init__(self):\n",
    "        self.name = \"NoName\"\n",
    "        self.age = 18\n",
    "        self.address = \"nongcun\"\n",
    "        print(\"IN INIT FUNC\")\n",
    "        \n",
    "# 实例化一个人\n",
    "\n",
    "p = Person()\n",
    "\n"
   ]
  },
  {
   "cell_type": "code",
   "execution_count": 29,
   "metadata": {},
   "outputs": [
    {
     "name": "stdout",
     "output_type": "stream",
     "text": [
      "B\n"
     ]
    }
   ],
   "source": [
    "# 构造函数的调用顺序 - 1\n",
    "# 如果子类没有写构造函数，则自动向上查找，直到找到为止\n",
    "class A():\n",
    "    def __init__(self):\n",
    "        print(\"A\")\n",
    "        \n",
    "class B(A):\n",
    "    def __init__(self):\n",
    "        print(\"B\")\n",
    "        \n",
    "class C(B):\n",
    "    pass\n",
    "\n",
    "# 此时，首先查找C 构造函数，\n",
    "# 如果没有，则向上按照MRO书序查找父类的构造函数，直到找到为止\n",
    "c = C()"
   ]
  },
  {
   "cell_type": "code",
   "execution_count": 31,
   "metadata": {},
   "outputs": [
    {
     "ename": "TypeError",
     "evalue": "__init__() missing 1 required positional argument: 'name'",
     "output_type": "error",
     "traceback": [
      "\u001b[1;31m---------------------------------------------------------------------------\u001b[0m",
      "\u001b[1;31mTypeError\u001b[0m                                 Traceback (most recent call last)",
      "\u001b[1;32m<ipython-input-31-41ec5d4215a1>\u001b[0m in \u001b[0;36m<module>\u001b[1;34m()\u001b[0m\n\u001b[0;32m     17\u001b[0m \u001b[1;31m#cishi ,会出现参数结构不对应的错误\u001b[0m\u001b[1;33m\u001b[0m\u001b[1;33m\u001b[0m\u001b[0m\n\u001b[0;32m     18\u001b[0m \u001b[1;33m\u001b[0m\u001b[0m\n\u001b[1;32m---> 19\u001b[1;33m \u001b[0mc\u001b[0m \u001b[1;33m=\u001b[0m \u001b[0mC\u001b[0m\u001b[1;33m(\u001b[0m\u001b[1;33m)\u001b[0m\u001b[1;33m\u001b[0m\u001b[0m\n\u001b[0m",
      "\u001b[1;31mTypeError\u001b[0m: __init__() missing 1 required positional argument: 'name'"
     ]
    }
   ],
   "source": [
    "# 构造函数的调用顺序问题 - 2\n",
    "class A():\n",
    "    def __init__(self):\n",
    "        print(\"A\")\n",
    "        \n",
    "class B(A):\n",
    "    def __init__(self,name):\n",
    "        print(\"B\")\n",
    "        print(\"name\")\n",
    "        \n",
    "class C(B):\n",
    "    pass\n",
    "\n",
    "\n",
    "# 此时，首先查找C 构造函数，\n",
    "# 如果没有，则向上按照MRO书序查找父类的构造函数，直到找到为止\n",
    "#cishi ,会出现参数结构不对应的错误\n",
    "\n",
    "c = C()"
   ]
  },
  {
   "cell_type": "code",
   "execution_count": 33,
   "metadata": {},
   "outputs": [
    {
     "name": "stdout",
     "output_type": "stream",
     "text": [
      "B\n",
      "name\n",
      "这是C中附加的功能\n"
     ]
    }
   ],
   "source": [
    "# 构造函数的调用书序-- 3\n",
    "class A():\n",
    "    def __init__(self):\n",
    "        print(\"A\")\n",
    "        \n",
    "class B(A):\n",
    "    def __init__(self,name):\n",
    "        print(\"B\")\n",
    "        print(\"name\")\n",
    "        \n",
    "class C(B):\n",
    "    # C中向扩展B的构造函数\n",
    "    # 即调用B的构造函数后再添加一些功能\n",
    "    # 有两种哦方法可以实现\n",
    "    '''\n",
    "    # 第一种是通过父类名调用\n",
    "    def __init__(self,name)：\n",
    "        # 首先调用父类构造函数\n",
    "        B.__init__(self,name)\n",
    "        #其次，再增加自己的功能\n",
    "        print(\"这是C中的附加功能\")\n",
    "    \n",
    "    '''\n",
    "    # 第二种，使用super调用\n",
    "    def __init__(self,name):\n",
    "        # 首先，调用父类构造函数\n",
    "        super(C,self).__init__(name)\n",
    "        # 其次，再增加自己的功能\n",
    "        print(\"这是C中附加的功能\")\n",
    "        \n",
    "c = C(\"我是C\")"
   ]
  },
  {
   "cell_type": "code",
   "execution_count": 38,
   "metadata": {},
   "outputs": [
    {
     "name": "stdout",
     "output_type": "stream",
     "text": [
      "(<class '__main__.Tutor'>, <class '__main__.Teacher'>, <class '__main__.Student'>, <class '__main__.Person'>, <class 'object'>)\n",
      "{}\n",
      "{'__module__': '__main__', '__doc__': None}\n",
      "********************\n",
      "(<class '__main__.TutorM'>, <class '__main__.Person'>, <class '__main__.TeacherMixin'>, <class '__main__.StudentMixin'>, <class 'object'>)\n",
      "{}\n",
      "{'__module__': '__main__', '__doc__': None}\n"
     ]
    }
   ],
   "source": [
    "# Mixin案例\n",
    "class Person():\n",
    "    name = \"liuying\"\n",
    "    age = 18\n",
    "    def eat(self):\n",
    "        print(\"EAT...\")\n",
    "        \n",
    "    def drink(self):\n",
    "        print(\"drink...\")\n",
    "    \n",
    "    def sleep(self):\n",
    "        print(\"sleep...\")\n",
    "        \n",
    "class Teacher(Person):\n",
    "    def work(self):\n",
    "        print(\"work...\")\n",
    "        \n",
    "class Student(Person):\n",
    "    def study(self):\n",
    "        print(\"study\")\n",
    "        \n",
    "class Tutor(Teacher,Student):\n",
    "    pass\n",
    "\n",
    "t = Tutor()\n",
    "print(Tutor.__mro__)\n",
    "print(t.__dict__)\n",
    "print(Tutor.__dict__)\n",
    "\n",
    "print(\"*\" * 20)\n",
    "\n",
    "class TeacherMixin():\n",
    "    def work(self):\n",
    "        print(\"work\")\n",
    "        \n",
    "class StudentMixin():\n",
    "    def study(self):\n",
    "        print(\"Study\")\n",
    "        \n",
    "        \n",
    "class TutorM(Person,TeacherMixin,StudentMixin):\n",
    "    pass\n",
    "tt = TutorM()\n",
    "print(TutorM.__mro__)\n",
    "print(tt.__dict__)\n",
    "print(TutorM.__dict__)"
   ]
  },
  {
   "cell_type": "code",
   "execution_count": 44,
   "metadata": {},
   "outputs": [
    {
     "name": "stdout",
     "output_type": "stream",
     "text": [
      "True\n",
      "False\n",
      "True\n"
     ]
    }
   ],
   "source": [
    "# issubclass 判断是不是子类\n",
    "class A():\n",
    "    pass\n",
    "class B(A):\n",
    "    pass\n",
    "class C():\n",
    "    pass\n",
    "print(issubclass(B,A))\n",
    "print(issubclass(C,A))\n",
    "print(issubclass(B,object))"
   ]
  },
  {
   "cell_type": "code",
   "execution_count": 47,
   "metadata": {},
   "outputs": [
    {
     "name": "stdout",
     "output_type": "stream",
     "text": [
      "True\n",
      "False\n"
     ]
    }
   ],
   "source": [
    "# isinstance 判断是不是实例\n",
    "class A():\n",
    "    pass\n",
    "\n",
    "a = A()\n",
    "\n",
    "print(isinstance(a,A))\n",
    "print(isinstance(A,A))"
   ]
  },
  {
   "cell_type": "code",
   "execution_count": 50,
   "metadata": {},
   "outputs": [
    {
     "name": "stdout",
     "output_type": "stream",
     "text": [
      "True\n",
      "False\n"
     ]
    }
   ],
   "source": [
    "# hasartti检测一个对象是否有成员\n",
    "class A():\n",
    "    name = \"NoName\"\n",
    "\n",
    "a = A()\n",
    "\n",
    "print(hasattr(a,\"name\"))\n",
    "print(hasattr(a,\"age\"))"
   ]
  },
  {
   "cell_type": "code",
   "execution_count": 52,
   "metadata": {},
   "outputs": [
    {
     "name": "stdout",
     "output_type": "stream",
     "text": [
      "Help on built-in function setattr in module builtins:\n",
      "\n",
      "setattr(obj, name, value, /)\n",
      "    Sets the named attribute on the given object to the specified value.\n",
      "    \n",
      "    setattr(x, 'y', v) is equivalent to ``x.y = v''\n",
      "\n"
     ]
    }
   ],
   "source": [
    "#help 案例\n",
    "# 我想知道setattr的具体用法\n",
    "help(setattr)"
   ]
  },
  {
   "cell_type": "code",
   "execution_count": 58,
   "metadata": {},
   "outputs": [
    {
     "data": {
      "text/plain": [
       "['__class__',\n",
       " '__delattr__',\n",
       " '__dict__',\n",
       " '__dir__',\n",
       " '__doc__',\n",
       " '__eq__',\n",
       " '__format__',\n",
       " '__ge__',\n",
       " '__getattribute__',\n",
       " '__gt__',\n",
       " '__hash__',\n",
       " '__init__',\n",
       " '__init_subclass__',\n",
       " '__le__',\n",
       " '__lt__',\n",
       " '__module__',\n",
       " '__ne__',\n",
       " '__new__',\n",
       " '__reduce__',\n",
       " '__reduce_ex__',\n",
       " '__repr__',\n",
       " '__setattr__',\n",
       " '__sizeof__',\n",
       " '__str__',\n",
       " '__subclasshook__',\n",
       " '__weakref__']"
      ]
     },
     "execution_count": 58,
     "metadata": {},
     "output_type": "execute_result"
    }
   ],
   "source": [
    "#  dir案例\n",
    "class A():\n",
    "    pass\n",
    "dir(A)"
   ]
  },
  {
   "cell_type": "code",
   "execution_count": 57,
   "metadata": {},
   "outputs": [
    {
     "data": {
      "text/plain": [
       "['__class__',\n",
       " '__delattr__',\n",
       " '__dict__',\n",
       " '__dir__',\n",
       " '__doc__',\n",
       " '__eq__',\n",
       " '__format__',\n",
       " '__ge__',\n",
       " '__getattribute__',\n",
       " '__gt__',\n",
       " '__hash__',\n",
       " '__init__',\n",
       " '__init_subclass__',\n",
       " '__le__',\n",
       " '__lt__',\n",
       " '__module__',\n",
       " '__ne__',\n",
       " '__new__',\n",
       " '__reduce__',\n",
       " '__reduce_ex__',\n",
       " '__repr__',\n",
       " '__setattr__',\n",
       " '__sizeof__',\n",
       " '__str__',\n",
       " '__subclasshook__',\n",
       " '__weakref__']"
      ]
     },
     "execution_count": 57,
     "metadata": {},
     "output_type": "execute_result"
    }
   ],
   "source": [
    "#  dir案例\n",
    "class A():\n",
    "    pass\n",
    "dir(A)\n",
    "\n",
    "a = A()\n",
    "dir(a)"
   ]
  }
 ],
 "metadata": {
  "kernelspec": {
   "display_name": "Python 3",
   "language": "python",
   "name": "python3"
  },
  "language_info": {
   "codemirror_mode": {
    "name": "ipython",
    "version": 3
   },
   "file_extension": ".py",
   "mimetype": "text/x-python",
   "name": "python",
   "nbconvert_exporter": "python",
   "pygments_lexer": "ipython3",
   "version": "3.7.0"
  }
 },
 "nbformat": 4,
 "nbformat_minor": 2
}
