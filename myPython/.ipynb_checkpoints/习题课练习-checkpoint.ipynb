{
 "cells": [
  {
   "cell_type": "code",
   "execution_count": null,
   "metadata": {},
   "outputs": [],
   "source": [
    "name = input(\"请输入您的姓名：\")\n",
    "print(\"你好:\",name)"
   ]
  },
  {
   "cell_type": "code",
   "execution_count": null,
   "metadata": {},
   "outputs": [],
   "source": [
    "# 让用户输入一个数字，如果输入的是[0,100]中的数在，则输出“你好看”，否则输出“你丑八怪，天黑别把灯打开”\n",
    "\n",
    "\n",
    "item = input(\"请输入一个数字:    \")\n",
    "if item.isdigit():\n",
    "    item = int(item)\n",
    "    if 0 <= item <= 100:\n",
    "        print(\"你好看\")\n",
    "        \n",
    "    else:\n",
    "        print(\"你丑八怪，天黑别把灯打开\")\n",
    "        \n",
    "else:\n",
    "    print(\"你丑八怪，天黑别把灯打开\")"
   ]
  },
  {
   "cell_type": "code",
   "execution_count": null,
   "metadata": {},
   "outputs": [],
   "source": [
    "# 用户输入一个数字，如果输入的是[0,100]中的数在，则输出“你好看”，否则输出“你丑八怪，天黑别把灯打开”\n",
    "\n",
    "\n",
    "n = input(\"请输入一个数字:    \")\n",
    "if n.isdigit():\n",
    "    n = int(n)\n",
    "    if n in range(0,101):\n",
    "        print(\"你好看\")\n",
    "        \n",
    "    else:\n",
    "        print(\"你丑八怪，天黑别把灯打开\")\n",
    "        \n",
    "else:\n",
    "    print(\"你丑八怪，天黑别把灯打开\")\n",
    "\n",
    "\n",
    "\n"
   ]
  },
  {
   "cell_type": "code",
   "execution_count": 26,
   "metadata": {},
   "outputs": [
    {
     "name": "stdout",
     "output_type": "stream",
     "text": [
      "请输入年份(阿拉伯数字年份:    )2000\n",
      "2000 是闰年\n"
     ]
    }
   ],
   "source": [
    "# 让与用户输入一个年份，判断是否是闰年\n",
    "year = input(\"请输入年份(阿拉伯数字年份:    )\")\n",
    "\n",
    "if year.isdigit():\n",
    "    year = int(year)\n",
    "    if year % 4 == 0:\n",
    "        print(year,\"是闰年\")\n",
    "    else:\n",
    "        print(year,\"不是闰年\")\n",
    "        \n",
    "else:\n",
    "    print(\"我只会判断数字年份，你这个问题可难倒我了，请重新输入年份\")"
   ]
  },
  {
   "cell_type": "markdown",
   "metadata": {},
   "source": [
    "### 给用户三次机会，猜出我们程序生成的随机数，每次用户输入猜想的数字后，程序会提醒用户所猜的数字是否正确，并且提示大了还是小了当机会用完后提示用户已经输掉了游戏"
   ]
  },
  {
   "cell_type": "code",
   "execution_count": 9,
   "metadata": {},
   "outputs": [
    {
     "name": "stdout",
     "output_type": "stream",
     "text": [
      "请输入您猜想的数字：2\n",
      "小了\n",
      "请输入您猜想的数字：23\n",
      "大了\n",
      "请输入您猜想的数字：12\n",
      "您真棒，猜对了\n"
     ]
    }
   ],
   "source": [
    "import random\n",
    "secreat = random.randint(1,20) #计算机在1-100中生成一个随机整数\n",
    "for time in range(0,3):# 初始化用户的次数是三\n",
    "    num = input(\"请输入您猜想的数字：\")\n",
    "    if num.isdigit():\n",
    "        num = int(num)\n",
    "        if num == secreat:\n",
    "            print(\"您真棒，猜对了\")\n",
    "            break\n",
    "        elif num < secreat:\n",
    "                print(\"小了\")\n",
    "        else:\n",
    "            print(\"大了\")\n",
    "        if time == 2:\n",
    "            print(\"阿偶，您的机会用完了，您输了\")\n",
    "    \n",
    "    else:\n",
    "        if time == 2:\n",
    "            print(\"阿偶，您的机会用完了，您输了\")\n",
    "        else:\n",
    "            print (\"请输入数字类型\")\n"
   ]
  },
  {
   "cell_type": "code",
   "execution_count": 3,
   "metadata": {},
   "outputs": [
    {
     "name": "stdout",
     "output_type": "stream",
     "text": [
      "1\n",
      "3\n",
      "5\n",
      "7\n",
      "9\n",
      "11\n",
      "13\n",
      "15\n",
      "17\n",
      "19\n",
      "21\n",
      "23\n",
      "25\n",
      "27\n",
      "29\n",
      "31\n",
      "33\n",
      "35\n",
      "37\n",
      "39\n",
      "41\n",
      "43\n",
      "45\n",
      "47\n",
      "49\n",
      "51\n",
      "53\n",
      "55\n",
      "57\n",
      "59\n",
      "61\n",
      "63\n",
      "65\n",
      "67\n",
      "69\n",
      "71\n",
      "73\n",
      "75\n",
      "77\n",
      "79\n",
      "81\n",
      "83\n",
      "85\n",
      "87\n",
      "89\n",
      "91\n",
      "93\n",
      "95\n",
      "97\n",
      "99\n"
     ]
    }
   ],
   "source": [
    "for i in range(0,100):\n",
    "    if i % 2 == 1:\n",
    "        print(i)"
   ]
  },
  {
   "cell_type": "code",
   "execution_count": null,
   "metadata": {},
   "outputs": [],
   "source": []
  },
  {
   "cell_type": "code",
   "execution_count": 4,
   "metadata": {},
   "outputs": [
    {
     "name": "stdout",
     "output_type": "stream",
     "text": [
      "119\n",
      "329\n",
      "539\n",
      "749\n",
      "959\n",
      "循环结束\n"
     ]
    }
   ],
   "source": [
    "x = 0\n",
    "while x < 1000:\n",
    "    if (x % 2 == 1)\\\n",
    "    and (x % 3 == 2)\\\n",
    "    and (x % 5 == 4)\\\n",
    "    and (x % 6 == 5)\\\n",
    "    and (x % 7 == 0):\n",
    "        print(x)\n",
    "        x += 1\n",
    "#        break\n",
    "    else:\n",
    "        x += 1\n",
    "print(\"循环结束\")"
   ]
  },
  {
   "cell_type": "code",
   "execution_count": null,
   "metadata": {},
   "outputs": [],
   "source": []
  }
 ],
 "metadata": {
  "kernelspec": {
   "display_name": "Python 3",
   "language": "python",
   "name": "python3"
  },
  "language_info": {
   "codemirror_mode": {
    "name": "ipython",
    "version": 3
   },
   "file_extension": ".py",
   "mimetype": "text/x-python",
   "name": "python",
   "nbconvert_exporter": "python",
   "pygments_lexer": "ipython3",
   "version": "3.7.0"
  }
 },
 "nbformat": 4,
 "nbformat_minor": 2
}
