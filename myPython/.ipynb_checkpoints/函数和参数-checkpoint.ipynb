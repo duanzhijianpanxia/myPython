{
 "cells": [
  {
   "cell_type": "markdown",
   "metadata": {},
   "source": [
    "### 函数\n",
    "- 代码的一种组织形式\n",
    "- 一个函数一般完成一项特定的功能\n",
    "- 函数使用\n",
    "    - 函数需要先定义\n",
    "    - 使用函数俗称调用函数"
   ]
  },
  {
   "cell_type": "code",
   "execution_count": 1,
   "metadata": {},
   "outputs": [],
   "source": [
    "# 定义一个函数\n",
    "# 只定义的话不会执行\n",
    "# 1. def关键字后面跟一个空格\n",
    "# 2. 函数名自己定义，起名需遵循命名规则，约定俗成，大驼峰只给类定义时使用\n",
    "# 3. 后面括号和冒号不能省略，括号内可以有参数\n",
    "# 4. 函数内所有代码缩进\n",
    "def func():\n",
    "    print('我是一个函数')\n",
    "    print('我要完成一定功能')\n",
    "    print('我结束了')"
   ]
  },
  {
   "cell_type": "code",
   "execution_count": 2,
   "metadata": {},
   "outputs": [
    {
     "name": "stdout",
     "output_type": "stream",
     "text": [
      "我是一个函数\n",
      "我要完成一定功能\n",
      "我结束了\n"
     ]
    }
   ],
   "source": [
    "# 函数的掉用\n",
    "# 直接函数名后跟括号\n",
    "func()"
   ]
  },
  {
   "cell_type": "markdown",
   "metadata": {},
   "source": [
    "## 函数的参数和返回值\n",
    "- 参数：负责给函数传递一些必要的数据或者信息\n",
    "    - 形参（形式参数）：在函数定义的时候用到的参数没有具体值，只是一个占位的符号，称为形参\n",
    "    - 实参（实际参数）：在函数调用时输入的值\n",
    "- 返回值函：数的执行结果\n",
    "    - 使用return关键字\n",
    "    - 如果没有return，默认返回一个None\n",
    "    - 函数一旦执行return语句，则无条件返回，即结束函数的执行\n",
    "    "
   ]
  },
  {
   "cell_type": "code",
   "execution_count": 3,
   "metadata": {},
   "outputs": [
    {
     "name": "stdout",
     "output_type": "stream",
     "text": [
      "小美,你怎么了\n",
      "美女，你不理我，额就走咧\n"
     ]
    }
   ],
   "source": [
    "# 参数的定义和使用\n",
    "# 参数person只是一个符号，代表的是调用时候的某一个数据\n",
    "# 调用的时候会用P的值代替函数中所有的person\n",
    "def hello(person):\n",
    "    print(\"{0},你怎么了\".format(person))\n",
    "    print(\"美女，你不理我，额就走咧\")\n",
    "    \n",
    "p = \"小美\"\n",
    "hello(p)"
   ]
  },
  {
   "cell_type": "code",
   "execution_count": 4,
   "metadata": {},
   "outputs": [
    {
     "name": "stdout",
     "output_type": "stream",
     "text": [
      "小美 你咋地啦\n",
      "美女，你不理我，额就走咧\n",
      "我已经跟小美 打过招呼了，小美 不理额\n"
     ]
    }
   ],
   "source": [
    "# return语句的基本使用\n",
    "# 函数打完招呼返回一句话\n",
    "def hello(person):\n",
    "    print('{0} 你咋地啦'.format(person))\n",
    "    print(\"美女，你不理我，额就走咧\")\n",
    "    \n",
    "    return \"我已经跟{0} 打过招呼了，{0} 不理额\".format(person)\n",
    "p = \"小美\"\n",
    "jk = hello(p)\n",
    "print(jk)"
   ]
  },
  {
   "cell_type": "code",
   "execution_count": 5,
   "metadata": {},
   "outputs": [
    {
     "name": "stdout",
     "output_type": "stream",
     "text": [
      "小坏蛋 你弄啥类\n",
      "哈哈，我不给你说这句话的机会，我撤咧\n"
     ]
    }
   ],
   "source": [
    "# return 案例2\n",
    "\n",
    "def hello(person):\n",
    "    print('{0} 你弄啥类'.format(person))\n",
    "    return \"哈哈，我不给你说这句话的机会，我撤咧\"\n",
    "    print('(),你说你长得美，不理额，乃额走走咧'.format(person))\n",
    "    return \"我已经和{0}打过招呼了，{0} 不理我\".format(person)\n",
    "\n",
    "p = '小坏蛋'\n",
    "jk = hello(p)\n",
    "print(jk)"
   ]
  },
  {
   "cell_type": "code",
   "execution_count": 1,
   "metadata": {},
   "outputs": [
    {
     "name": "stdout",
     "output_type": "stream",
     "text": [
      "Help on built-in function print in module builtins:\n",
      "\n",
      "print(...)\n",
      "    print(value, ..., sep=' ', end='\\n', file=sys.stdout, flush=False)\n",
      "    \n",
      "    Prints the values to a stream, or to sys.stdout by default.\n",
      "    Optional keyword arguments:\n",
      "    file:  a file-like object (stream); defaults to the current sys.stdout.\n",
      "    sep:   string inserted between values, default a space.\n",
      "    end:   string appended after the last value, default a newline.\n",
      "    flush: whether to forcibly flush the stream.\n",
      "\n"
     ]
    }
   ],
   "source": [
    "# 查找函数帮助文档\n",
    "# 1.用help函数\n",
    "help(print)"
   ]
  },
  {
   "cell_type": "code",
   "execution_count": 9,
   "metadata": {},
   "outputs": [
    {
     "name": "stdout",
     "output_type": "stream",
     "text": [
      "1 * 1 = 1\t\n",
      "1 * 2 = 2\t2 * 2 = 4\t\n",
      "1 * 3 = 3\t2 * 3 = 6\t3 * 3 = 9\t\n",
      "1 * 4 = 4\t2 * 4 = 8\t3 * 4 = 12\t4 * 4 = 16\t\n",
      "1 * 5 = 5\t2 * 5 = 10\t3 * 5 = 15\t4 * 5 = 20\t5 * 5 = 25\t\n",
      "1 * 6 = 6\t2 * 6 = 12\t3 * 6 = 18\t4 * 6 = 24\t5 * 6 = 30\t6 * 6 = 36\t\n",
      "1 * 7 = 7\t2 * 7 = 14\t3 * 7 = 21\t4 * 7 = 28\t5 * 7 = 35\t6 * 7 = 42\t7 * 7 = 49\t\n",
      "1 * 8 = 8\t2 * 8 = 16\t3 * 8 = 24\t4 * 8 = 32\t5 * 8 = 40\t6 * 8 = 48\t7 * 8 = 56\t8 * 8 = 64\t\n",
      "1 * 9 = 9\t2 * 9 = 18\t3 * 9 = 27\t4 * 9 = 36\t5 * 9 = 45\t6 * 9 = 54\t7 * 9 = 63\t8 * 9 = 72\t9 * 9 = 81\t\n"
     ]
    }
   ],
   "source": [
    "# 九九乘法表\n",
    "# version 1.0\n",
    "for row in range(1,10):\n",
    "    # 打印一行\n",
    "    for col in range(1,row + 1):\n",
    "        # print函数默认任务打印完毕后换行\n",
    "        print(col,'*',row,'=',row * col,end='\\t')\n",
    "    print()"
   ]
  },
  {
   "cell_type": "code",
   "execution_count": 13,
   "metadata": {},
   "outputs": [
    {
     "name": "stdout",
     "output_type": "stream",
     "text": [
      "1 * 1 = 1\t\n",
      "1 * 2 = 2\t2 * 2 = 4\t\n",
      "1 * 3 = 3\t2 * 3 = 6\t3 * 3 = 9\t\n",
      "1 * 4 = 4\t2 * 4 = 8\t3 * 4 = 12\t4 * 4 = 16\t\n",
      "1 * 5 = 5\t2 * 5 = 10\t3 * 5 = 15\t4 * 5 = 20\t5 * 5 = 25\t\n",
      "1 * 6 = 6\t2 * 6 = 12\t3 * 6 = 18\t4 * 6 = 24\t5 * 6 = 30\t6 * 6 = 36\t\n",
      "1 * 7 = 7\t2 * 7 = 14\t3 * 7 = 21\t4 * 7 = 28\t5 * 7 = 35\t6 * 7 = 42\t7 * 7 = 49\t\n",
      "1 * 8 = 8\t2 * 8 = 16\t3 * 8 = 24\t4 * 8 = 32\t5 * 8 = 40\t6 * 8 = 48\t7 * 8 = 56\t8 * 8 = 64\t\n",
      "1 * 9 = 9\t2 * 9 = 18\t3 * 9 = 27\t4 * 9 = 36\t5 * 9 = 45\t6 * 9 = 54\t7 * 9 = 63\t8 * 9 = 72\t9 * 9 = 81\t\n"
     ]
    }
   ],
   "source": [
    "# 定义一行函数打印九九乘法表\n",
    "def printjj(row):\n",
    "    for col in range(1,row + 1):\n",
    "         # print函数默认任务打印完毕后换行\n",
    "        print(col,'*',row,'=',row * col,end='\\t')\n",
    "    print()\n",
    "        \n",
    "#version 2.0\n",
    "for row in range(1,10):\n",
    "    printjj(row)"
   ]
  },
  {
   "cell_type": "markdown",
   "metadata": {},
   "source": [
    "## 参数详解\n",
    "- 参考资料\n",
    "- python参考资料：headfirst python-->零基础学python（小甲鱼），本讲义参考的是流畅的python-->习题，后期何以考虑\n",
    "    腾讯公开免费课\n",
    "- 参数的分类\n",
    "    - 普通参数\n",
    "    - 默认参数\n",
    "    - 关键字参数\n",
    "    - 收集参数\n",
    "- 普通参数\n",
    "    - 参见上例\n",
    "    - 定义时直接定义变量名\n",
    "    - 调用时直接把变量或者值放入指定位置\n",
    "    \n",
    "            def 函数名 （参数1， 参数2， ……):\n",
    "                函数体\n",
    "                \n",
    "            # 调用\n",
    "            - 函数名(value 1,value 2……)\n",
    "            \n",
    "            # 调用时具体指参考的是位置，按位置赋值\n",
    "- 默认参数\n",
    "    - 形参带有默认值\n",
    "    - 调用的时候，没有对相应参数赋值，则使用默认值\n",
    "            - def func_name(p1 = v1,p2 = v2,......):\n",
    "                - func_block\n",
    "                \n",
    "            # 调用1\n",
    "            funcj_name():\n",
    "            \n",
    "            # 调用2\n",
    "            value1 = 100\n",
    "            value2 = 200\n",
    "            func(value1,value2,......)\n",
    "            "
   ]
  },
  {
   "cell_type": "code",
   "execution_count": 17,
   "metadata": {},
   "outputs": [],
   "source": [
    "# 默认参数实例\n",
    "# 报名函数，需要知道学生性别\n",
    "# 学习python的学生基本都是男生，所以，如果没有特别说明，我们默认是男生\n",
    "def reg(name, age, gender = 'male'):\n",
    "    if gender == 'male':\n",
    "        print('{0} is {1} years old and he is a good student'.format(name,age))\n",
    "    else:\n",
    "        print('{0} is {1} years old and she is a good student'.format(name,age))"
   ]
  },
  {
   "cell_type": "code",
   "execution_count": 21,
   "metadata": {},
   "outputs": [
    {
     "name": "stdout",
     "output_type": "stream",
     "text": [
      "mingyue  is 22 years old and he is a good student\n",
      "xiaomei is 18 years old and she is a good student\n"
     ]
    }
   ],
   "source": [
    "reg('mingyue ',22)\n",
    "reg('xiaomei',18,'famale')"
   ]
  },
  {
   "cell_type": "code",
   "execution_count": null,
   "metadata": {},
   "outputs": [],
   "source": []
  }
 ],
 "metadata": {
  "kernelspec": {
   "display_name": "Python 3",
   "language": "python",
   "name": "python3"
  },
  "language_info": {
   "codemirror_mode": {
    "name": "ipython",
    "version": 3
   },
   "file_extension": ".py",
   "mimetype": "text/x-python",
   "name": "python",
   "nbconvert_exporter": "python",
   "pygments_lexer": "ipython3",
   "version": "3.7.0"
  }
 },
 "nbformat": 4,
 "nbformat_minor": 2
}
