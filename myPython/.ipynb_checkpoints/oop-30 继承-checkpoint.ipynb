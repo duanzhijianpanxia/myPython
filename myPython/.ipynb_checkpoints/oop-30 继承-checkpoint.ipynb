{
 "cells": [
  {
   "cell_type": "code",
   "execution_count": null,
   "metadata": {},
   "outputs": [],
   "source": [
    "# 构造函数的概念\n",
    "class Dog():\n",
    "    # __init__就是构造函数\n",
    "    #每次实例化的时候，第一个被自动的调用\n",
    "    #因为主要工作是进行初始化，所以得名\n",
    "    def __init__(self):\n",
    "        print(\"you are a dog\")\n",
    "    \n",
    "# 实例化的时候括号内的参数需要跟构造函数参数匹配\n",
    "kaka = Dog()"
   ]
  },
  {
   "cell_type": "code",
   "execution_count": null,
   "metadata": {},
   "outputs": [],
   "source": [
    "# 继承中的构造函数-1\n",
    "\n",
    "class Animel():\n",
    "    pass\n",
    "class PuruAni(Animel):\n",
    "    pass\n",
    "class Dog(PuruAni):\n",
    "    def __init__(self):\n",
    "        print(\"you are a dog\")\n",
    "    # 实例化的时候自动调用了Dog的构造函数\n",
    "kaka = Dog()"
   ]
  },
  {
   "cell_type": "code",
   "execution_count": null,
   "metadata": {},
   "outputs": [],
   "source": [
    "# 继承中的构造函数-2\n",
    "class Animel():\n",
    "    pass\n",
    "class PuruAni(Animel):\n",
    "    def __init__(self):\n",
    "        print(\"purudongwu\")\n",
    "        \n",
    "class Dog(PuruAni):\n",
    "    def __init__(self):\n",
    "        print(\"you are a dog\")\n",
    "        \n",
    "kaka = Dog() #程序执行到这一步，以为找到了自身的构造函数，所以不再查找父类的构造函数\n",
    "\n",
    "class Cat(PuruAni): # 猫没有写构造函数，\n",
    "    pass\n",
    "\n",
    "c = Cat()  # 此时应该自动调用构造函数，因为Cat没有构造函数，座椅查找父类构造函数"
   ]
  },
  {
   "cell_type": "code",
   "execution_count": null,
   "metadata": {},
   "outputs": [],
   "source": [
    "# 继承中的构造函数-3\n",
    "class PuruAni():\n",
    "    def __init__(self,name):\n",
    "        print(\"pu ru dongwu {0}\".format(name))\n",
    "        \n",
    "class Dog(PuruAni):\n",
    "    def __init__(self):\n",
    "        print(\"you are a dog\")\n",
    "# 实例化Dog的时候，查找Dog的构造函数，参数匹配不报错\n",
    "d = Dog()\n",
    "class Cat(PuruAni):\n",
    "    pass\n",
    "# 此时Cat没有构造函数，则向上查找\n",
    "# 因为PuruAnide 构造函数需要两个参数，实例化的时候给了一个，报错\n",
    "c = Cat()"
   ]
  },
  {
   "cell_type": "code",
   "execution_count": null,
   "metadata": {},
   "outputs": [],
   "source": [
    "# 继承中的构造函数 —— 4\n",
    "class Animel():\n",
    "    def __init__(self):\n",
    "        print(\"Animel\")\n",
    "    \n",
    "class PaxingAni(Animel):\n",
    "    def __init__(self,name):\n",
    "        print(\"paxing dongwu {0}\".format(name))\n",
    "        \n",
    "class Dog(PaxingAni):\n",
    "    def __init__(self):\n",
    "        print(\"you are a dog\")\n",
    "        \n",
    "d = Dog()"
   ]
  },
  {
   "cell_type": "code",
   "execution_count": null,
   "metadata": {},
   "outputs": [],
   "source": []
  },
  {
   "cell_type": "code",
   "execution_count": 12,
   "metadata": {},
   "outputs": [
    {
     "name": "stdout",
     "output_type": "stream",
     "text": [
      "working...\n",
      "I am swmming...\n"
     ]
    }
   ],
   "source": [
    "# 多继承的例子,子类可以直接拥有父类的属性和方法，私有属性和方法除外\n",
    "\n",
    "class Fish():\n",
    "    def __init__(self,name):\n",
    "        self.name = name\n",
    "    def swim(self):\n",
    "        print(\"I am swmming...\")\n",
    "        \n",
    "class Bird():\n",
    "    def __init__(self,name):\n",
    "        self.name = name\n",
    "    def fly(self):\n",
    "        print(\"I am lfying...\")\n",
    "        \n",
    "class Person():\n",
    "    def __init__(self,name):\n",
    "        self.name = name\n",
    "    def work(self):\n",
    "        print(\"working...\")\n",
    "        \n",
    "\n",
    "        \n",
    "        \n",
    "# 单继承的例子\n",
    "class Student(Person):\n",
    "    def __init__(self,name):\n",
    "        self.name = name\n",
    "stu = Student(\"xiaomei\")\n",
    "stu.work()\n",
    "\n",
    "# 多继承的例子\n",
    "class SuperMan(Person,Bird,Fish):\n",
    "    def __init__(self,name):\n",
    "        self.name = name\n",
    "\n",
    "class SwimMan(Person,Fish):\n",
    "    def __init__(self,name):\n",
    "        self.name = name\n",
    "        \n",
    "s = SwimMan(\"xiaomei\")\n",
    "s.fly()\n",
    "s.swim()"
   ]
  },
  {
   "cell_type": "code",
   "execution_count": null,
   "metadata": {},
   "outputs": [],
   "source": [
    "# 菱形继承问题\n",
    "class A():\n",
    "    pass\n",
    "class B(A):\n",
    "    pass\n",
    "class C(B):\n",
    "    pass\n",
    "\n",
    "class D(B,C):\n",
    "    pass\n",
    "# issubclass判断是不是子类关系\n",
    "\n"
   ]
  }
 ],
 "metadata": {
  "kernelspec": {
   "display_name": "Python 3",
   "language": "python",
   "name": "python3"
  },
  "language_info": {
   "codemirror_mode": {
    "name": "ipython",
    "version": 3
   },
   "file_extension": ".py",
   "mimetype": "text/x-python",
   "name": "python",
   "nbconvert_exporter": "python",
   "pygments_lexer": "ipython3",
   "version": "3.7.0"
  }
 },
 "nbformat": 4,
 "nbformat_minor": 2
}
