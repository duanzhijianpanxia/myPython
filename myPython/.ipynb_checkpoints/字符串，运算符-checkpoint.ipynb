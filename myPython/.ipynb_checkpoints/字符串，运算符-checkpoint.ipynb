{
 "cells": [
  {
   "cell_type": "markdown",
   "metadata": {},
   "source": [
    "## 字符串的格式化\n",
    "- 把字符串按照一定的格式打印或者填充\n",
    "- 格式化有两种方法\n",
    "    - 利用百分号（%）\n",
    "    - 利用format函数"
   ]
  },
  {
   "cell_type": "code",
   "execution_count": null,
   "metadata": {},
   "outputs": [],
   "source": [
    "s = \"xxx 您好，我是短指键盘侠，初来乍到，请多多关照\""
   ]
  },
  {
   "cell_type": "markdown",
   "metadata": {},
   "source": [
    "## 利用百分号格式化\n",
    "  - 在字符串中，利用%表示一个特殊含义，表示对字符串进行格式化\n",
    "  - %d:此处应该放入一个整数\n",
    "  - %s:表示此处应该放入一个字符串"
   ]
  },
  {
   "cell_type": "code",
   "execution_count": 1,
   "metadata": {},
   "outputs": [
    {
     "name": "stdout",
     "output_type": "stream",
     "text": [
      "I love %s\n"
     ]
    }
   ],
   "source": [
    "s = \"I love %s\"\n",
    "#下面打印，直接把s作为一个字符串打印出来\n",
    "print(s)"
   ]
  },
  {
   "cell_type": "code",
   "execution_count": 2,
   "metadata": {},
   "outputs": [
    {
     "name": "stdout",
     "output_type": "stream",
     "text": [
      "I love wangxiaojing\n"
     ]
    }
   ],
   "source": [
    "print(\"I love %s\"%\"wangxiaojing\")"
   ]
  },
  {
   "cell_type": "code",
   "execution_count": 3,
   "metadata": {},
   "outputs": [
    {
     "name": "stdout",
     "output_type": "stream",
     "text": [
      "I love wangxiaojing\n"
     ]
    }
   ],
   "source": [
    "print(s%\"wangxiaojing\")"
   ]
  },
  {
   "cell_type": "code",
   "execution_count": 6,
   "metadata": {},
   "outputs": [
    {
     "name": "stdout",
     "output_type": "stream",
     "text": [
      "I am %d years old\n",
      "I am 18 years old\n"
     ]
    }
   ],
   "source": [
    "s = \"I am %d years old\"\n",
    "print(s)\n",
    "print(s%18)"
   ]
  },
  {
   "cell_type": "code",
   "execution_count": 9,
   "metadata": {},
   "outputs": [
    {
     "name": "stdout",
     "output_type": "stream",
     "text": [
      "I am %s, i am %d years old\n",
      "I am duanzhijianpanxia, i am 18 years old\n"
     ]
    }
   ],
   "source": [
    "s = \"I am %s, i am %d years old\"\n",
    "print(s)\n",
    "# 注意一下表达出错的原因\n",
    "# 如果字符串中有占位符，如果有几个占位符则必须用几个实际内容代替，或者一个也不要\n",
    "# print(s\"tulingxueyuan\")\n",
    "\n",
    "#如果出现多个占位符，则相应内容应该用括号括起来\n",
    "print(s%(\"duanzhijianpanxia\",18))"
   ]
  },
  {
   "cell_type": "markdown",
   "metadata": {},
   "source": [
    "###format函数格式化字符串\n",
    "- 直接用format函数进行格式化\n",
    "- 推荐使用这种方法\n",
    "- 在使用上，以{}和: 代替%，后面使用format带参数完成"
   ]
  },
  {
   "cell_type": "code",
   "execution_count": 12,
   "metadata": {},
   "outputs": [
    {
     "name": "stdout",
     "output_type": "stream",
     "text": [
      "I love wangxiaomei\n",
      "I'm 22 years old,I love wangxiaomei and I am 22 years old\n"
     ]
    }
   ],
   "source": [
    "s = \"I love {}\".format(\"wangxiaomei\")\n",
    "print(s)\n",
    "s = \"I\\'m {1} years old,I love {0} and I am {1} years old\".format(\"wangxiaomei\",22)\n",
    "print(s)"
   ]
  },
  {
   "cell_type": "markdown",
   "metadata": {},
   "source": [
    "## None\n",
    "- 表示什么都没有\n",
    "- 如果函数没有返回值可以返回None\n",
    "- 用来占位\n",
    "- 用来解除变量绑定"
   ]
  },
  {
   "cell_type": "markdown",
   "metadata": {},
   "source": [
    "# 表达式\n",
    "- 由一个或者几个数字或者变量和运算符组合成的一行代码\n",
    "- 通常会返回一个结果\n",
    "# 运算符\n",
    "- 由一个以上的指经过变化得到新值的过程就叫做运算\n",
    "- 用于运算的符号叫做运算符\n",
    "- 运算符的分类：\n",
    "    - 算术运算符\n",
    "    - 比较或者关系运算符\n",
    "    - 赋值运算符\n",
    "    - 位运算符\n",
    "    - 赋值运算符\n",
    "    - 身份运算符\n",
    "    - 成员运算符\n",
    "    - 逻辑运算符"
   ]
  },
  {
   "cell_type": "code",
   "execution_count": 22,
   "metadata": {},
   "outputs": [
    {
     "name": "stdout",
     "output_type": "stream",
     "text": [
      "10\n",
      "36\n",
      "2.5\n",
      "1\n",
      "1\n",
      "81\n"
     ]
    }
   ],
   "source": [
    "## 算术运算符\n",
    "# +，-跟正常算术一模一样\n",
    "a = 9+3-2\n",
    "print(a)\n",
    "# 称号用星号（*）代替\n",
    "a = 9 * 4\n",
    "print(a)\n",
    "# 除号用斜杠（/）代替\n",
    "# 在python2.x和python3.x中，除号（/）结果可能不一样，此处以3系为准\n",
    "# <python2.x中对/的运算结果进行四舍五入的取整,而python3.x中就是求商，结果是浮点数>\n",
    "a = 10/4\n",
    "print(a)\n",
    "\n",
    "# %取余运算\n",
    "# 两个数字相除应该有商数有余数\n",
    "# %只会得到余数\n",
    "a = 9 % 4\n",
    "print(a)\n",
    "# //表示取商运算，也叫地板除(求商取整)\n",
    "a = 100 // 51\n",
    "print(a)\n",
    "# ** 表示幂运算\n",
    "a = 3 ** 4\n",
    "print(a)"
   ]
  },
  {
   "cell_type": "markdown",
   "metadata": {},
   "source": [
    "## 比较运算符\n",
    "- 对两个变量获知值进行比较的运算符\n",
    "- 比较的结果是布尔值，即true/false"
   ]
  },
  {
   "cell_type": "code",
   "execution_count": 27,
   "metadata": {},
   "outputs": [
    {
     "name": "stdout",
     "output_type": "stream",
     "text": [
      "False\n",
      "True\n"
     ]
    }
   ],
   "source": [
    "# ==,是等于号\n",
    "a = 3 ** 4\n",
    "# 下面语句执行的顺序是\n",
    "# 1. 计算 a == 80\n",
    "# 2. 把结果放入b中\n",
    "b = a == 80\n",
    "print(b)\n",
    "\n",
    "# != 是不等于\n",
    "print( 9 != 8 )\n",
    "\n",
    "# > 是大于号\n",
    "# < 是小于号\n",
    "# >= 是大于或者等于号\n",
    "# <= 是小于或者等于号\n",
    "\n",
    "\n"
   ]
  },
  {
   "cell_type": "markdown",
   "metadata": {},
   "source": [
    "# 赋值运算"
   ]
  },
  {
   "cell_type": "code",
   "execution_count": 33,
   "metadata": {},
   "outputs": [
    {
     "name": "stdout",
     "output_type": "stream",
     "text": [
      "7\n"
     ]
    }
   ],
   "source": [
    "# =，赋值运算符\n",
    "a = 0\n",
    "c = a = 4\n",
    "\n",
    "# +=, 是缩写\n",
    "a = 0\n",
    "a += 7 #是a + 7的缩写\n",
    "print(a)\n",
    "\n",
    "# 所有数学运算都有缩写形式\n",
    "# 例如：-=、 *=、 /=、 /=、 %=、 **=   都是缩写形式"
   ]
  },
  {
   "cell_type": "markdown",
   "metadata": {},
   "source": [
    "## 逻辑运算符\n",
    "- 对布尔值进行计算的符号\n",
    "- and 逻辑与\n",
    "- or 逻辑或\n",
    "- not 逻辑非\n",
    "- python逻辑运算中没有异或运算符\n",
    "- 运算规则：\n",
    "    - and看作乘法， or 看做加法\n",
    "    - True看作1， false看作0\n",
    "    - 则逻辑运算就能转换成整数数学运算\n",
    "    - 最后结果为0则为false，否则微True\n",
    "- 逻辑运算短路问题\n",
    "    - 逻辑运算式，按照运算顺序计算，一旦能确定整个式子未来的值，则不再进行计算，直接返回"
   ]
  },
  {
   "cell_type": "code",
   "execution_count": 35,
   "metadata": {},
   "outputs": [
    {
     "name": "stdout",
     "output_type": "stream",
     "text": [
      "True\n",
      "True\n"
     ]
    }
   ],
   "source": [
    "# 逻辑运算符案例\n",
    "a = True\n",
    "b = False\n",
    "c = True\n",
    "\n",
    "#一下式子等价于 d = 1 * 0 + 1\n",
    "d = a and b or c\n",
    "print(d)\n",
    "\n",
    "d = a or b and c\n",
    "print(d)"
   ]
  },
  {
   "cell_type": "code",
   "execution_count": 36,
   "metadata": {},
   "outputs": [
    {
     "ename": "SyntaxError",
     "evalue": "invalid syntax (<ipython-input-36-9d612811bbe5>, line 8)",
     "output_type": "error",
     "traceback": [
      "\u001b[1;36m  File \u001b[1;32m\"<ipython-input-36-9d612811bbe5>\"\u001b[1;36m, line \u001b[1;32m8\u001b[0m\n\u001b[1;33m    a = a or (b = 9) and 6\u001b[0m\n\u001b[1;37m                ^\u001b[0m\n\u001b[1;31mSyntaxError\u001b[0m\u001b[1;31m:\u001b[0m invalid syntax\n"
     ]
    }
   ],
   "source": [
    "# 逻辑运算的短路案例\n",
    "# 下面的逻辑表达式，a的值一定是True，则遇到or时，整个表达式不再向下计算\n",
    "a = True or xxxxxxxx\n",
    "\n",
    "#下面表达式，如果xxxxx中包含赋值运算，则结果很难预期\n",
    "# 代码示例（伪代码）\n",
    "b = 0 \n",
    "a = a or (b = 9) and 6\n",
    "# 假定上面的表达式没有语法错误\n",
    "# 则b的最终结果是0，而不是9\n",
    "print(a)\n",
    "print(b)"
   ]
  },
  {
   "cell_type": "markdown",
   "metadata": {},
   "source": [
    "## 成员运算符号\n",
    "- 用来检测一个变量是否是另一个变量的成员\n",
    "- in\n",
    "- not in "
   ]
  },
  {
   "cell_type": "code",
   "execution_count": 42,
   "metadata": {},
   "outputs": [
    {
     "name": "stdout",
     "output_type": "stream",
     "text": [
      "False\n",
      "True\n",
      "False\n"
     ]
    }
   ],
   "source": [
    "# 案例\n",
    "l = [1,2,3,4,5,6,]\n",
    "d = 7\n",
    "\n",
    "b = d in l\n",
    "print(b)\n",
    "a = 3\n",
    "c = a in l\n",
    "print(c)\n",
    "print(a not in l)"
   ]
  },
  {
   "cell_type": "markdown",
   "metadata": {},
   "source": [
    "## 身份运算\n",
    "- is：用来检测两个变量是否为同一个变量\n",
    "    - 语法是 var1 is var2\n",
    "- is not：两个变量不是同一个变量"
   ]
  },
  {
   "cell_type": "code",
   "execution_count": 44,
   "metadata": {},
   "outputs": [
    {
     "name": "stdout",
     "output_type": "stream",
     "text": [
      "True\n",
      "False\n"
     ]
    }
   ],
   "source": [
    "a = 9\n",
    "b = 9 \n",
    "print( a is b )\n",
    "\n",
    "a = \"I love wangxiaomei\"\n",
    "b = \"I love wangxiaomei\"\n",
    "print(a is b)"
   ]
  },
  {
   "cell_type": "markdown",
   "metadata": {},
   "source": [
    "## *运算符的有优先级\n",
    "- "
   ]
  }
 ],
 "metadata": {
  "kernelspec": {
   "display_name": "Python 3",
   "language": "python",
   "name": "python3"
  },
  "language_info": {
   "codemirror_mode": {
    "name": "ipython",
    "version": 3
   },
   "file_extension": ".py",
   "mimetype": "text/x-python",
   "name": "python",
   "nbconvert_exporter": "python",
   "pygments_lexer": "ipython3",
   "version": "3.7.0"
  }
 },
 "nbformat": 4,
 "nbformat_minor": 2
}
