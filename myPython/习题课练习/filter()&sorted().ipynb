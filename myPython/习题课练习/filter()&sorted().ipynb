{
 "cells": [
  {
   "cell_type": "markdown",
   "metadata": {},
   "source": [
    "    回数：从左向右，和 从右向左都是一样的数，例如12321，333，请利用filter()函数"
   ]
  },
  {
   "cell_type": "code",
   "execution_count": 8,
   "metadata": {},
   "outputs": [
    {
     "name": "stdout",
     "output_type": "stream",
     "text": [
      "1~100: [1, 2, 3, 4, 5, 6, 7, 8, 9, 11, 22, 33, 44, 55, 66, 77, 88, 99, 101, 111, 121, 131, 141, 151, 161, 171, 181, 191, 202, 212, 222, 232, 242, 252, 262, 272, 282, 292]\n"
     ]
    }
   ],
   "source": [
    "def equal(a,b):\n",
    "    return a == b\n",
    "\n",
    "def is_palindrom(n):\n",
    "    s = str(n)# 先转换成字符串\n",
    "    for i in range(len(s)-1):\n",
    "        if equal(s[i],s[len(s)-i-1]):\n",
    "            continue\n",
    "        else:\n",
    "            return False\n",
    "    return True\n",
    "\n",
    "output = filter(is_palindrom,range(1, 300))\n",
    "print(\"1~100:\", list(output))"
   ]
  },
  {
   "cell_type": "markdown",
   "metadata": {},
   "source": [
    " 假设我们用tuple来表示学生的姓名和成绩，L = [(\"BOb\", 75),(\"Adma\", 93),(\"List\",45),(\"Bart\",88]， 对上述列表用sorted()按照姓名排序"
   ]
  },
  {
   "cell_type": "code",
   "execution_count": 13,
   "metadata": {},
   "outputs": [
    {
     "name": "stdout",
     "output_type": "stream",
     "text": [
      "[('Adma', 93), ('BOb', 75), ('Bart', 88), ('List', 45)]\n"
     ]
    }
   ],
   "source": [
    "L = [(\"BOb\", 75),(\"Adma\", 93),(\"List\",45),(\"Bart\",88)]\n",
    "\n",
    "def by_name(t):\n",
    "    t = sorted(t[0],key=str.lower)\n",
    "    return t\n",
    "L2 = sorted(L,key=by_name)\n",
    "print(L2)"
   ]
  },
  {
   "cell_type": "markdown",
   "metadata": {},
   "source": [
    "在按照成绩高低进行排序"
   ]
  },
  {
   "cell_type": "code",
   "execution_count": 14,
   "metadata": {},
   "outputs": [
    {
     "name": "stdout",
     "output_type": "stream",
     "text": [
      "[('List', 45), ('BOb', 75), ('Bart', 88), ('Adma', 93)]\n"
     ]
    }
   ],
   "source": [
    "def by_score(t):\n",
    "    t = sorted(range(t[1]),key=abs)\n",
    "    return t\n",
    "L2 = sorted(L,key=by_score)\n",
    "print(L2)"
   ]
  }
 ],
 "metadata": {
  "kernelspec": {
   "display_name": "Python 3",
   "language": "python",
   "name": "python3"
  },
  "language_info": {
   "codemirror_mode": {
    "name": "ipython",
    "version": 3
   },
   "file_extension": ".py",
   "mimetype": "text/x-python",
   "name": "python",
   "nbconvert_exporter": "python",
   "pygments_lexer": "ipython3",
   "version": "3.7.0"
  }
 },
 "nbformat": 4,
 "nbformat_minor": 2
}
