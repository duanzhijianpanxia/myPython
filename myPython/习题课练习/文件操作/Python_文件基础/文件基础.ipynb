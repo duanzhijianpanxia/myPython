{
 "cells": [
  {
   "cell_type": "code",
   "execution_count": 47,
   "metadata": {},
   "outputs": [
    {
     "name": "stdout",
     "output_type": "stream",
     "text": [
      "abcdefghigklmnopqrstuvwxyz\n",
      "abcdefghigklmnopqrstuvwxyz\n",
      "abcdefghigklmnopqrstuvwxyz\n",
      "\n"
     ]
    }
   ],
   "source": [
    "with open(r'abc.txt','r') as f:\n",
    "      print(f.read())\n"
   ]
  },
  {
   "cell_type": "code",
   "execution_count": 48,
   "metadata": {},
   "outputs": [
    {
     "name": "stdout",
     "output_type": "stream",
     "text": [
      "abcdefghigklmnopqrstuvwxyz\n",
      "\n",
      "abcdefghigklmnopqrstuvwxyz\n",
      "\n",
      "abcdefghigklmnopqrstuvwxyz\n",
      "\n",
      "<class 'str'>\n"
     ]
    }
   ],
   "source": [
    "import time\n",
    "with open(r'abc.txt','r') as f:\n",
    "    for line in f:\n",
    "        print(line)\n",
    "        time.sleep(0.3)\n",
    "print(type(line))"
   ]
  },
  {
   "cell_type": "code",
   "execution_count": 49,
   "metadata": {},
   "outputs": [
    {
     "name": "stdout",
     "output_type": "stream",
     "text": [
      "abcdefghigklmnopqrstuvwxyz\n",
      "abcdefghigklmnopqrstuvwxyz\n",
      "abcdefghigklmnopqrstuvwxyz\n",
      "<class 'list'>\n"
     ]
    }
   ],
   "source": [
    "import time\n",
    "with open(r'abc.txt','r') as f:\n",
    "    L = f.readlines()\n",
    "    \n",
    "    for line in L:\n",
    "        print(line.strip())\n",
    "        \n",
    "        time.sleep(0.3)\n",
    "print(type(L))"
   ]
  },
  {
   "cell_type": "code",
   "execution_count": 51,
   "metadata": {},
   "outputs": [
    {
     "name": "stdout",
     "output_type": "stream",
     "text": [
      "abcdefghigklmnopqrstuvwxyzabcdefghigklmnopqrstuvwxyzabcdefghigklmnopqrstuvwxyz\n",
      "78\n",
      "<class 'list'>\n"
     ]
    }
   ],
   "source": [
    "import time\n",
    "\n",
    "with open(r'abc.txt','r') as f:\n",
    "    L = f.readlines()\n",
    "    \n",
    "string = ''\n",
    "for line in L:\n",
    "    string += line.strip()\n",
    "print(string)\n",
    "time.sleep(0.3)\n",
    "print(len(string))\n",
    "print(type(L))"
   ]
  },
  {
   "cell_type": "code",
   "execution_count": 20,
   "metadata": {},
   "outputs": [
    {
     "name": "stdout",
     "output_type": "stream",
     "text": [
      "3.14159265358979323846264338327950288419716939937510\n",
      "6555\n",
      "<class 'str'>\n"
     ]
    }
   ],
   "source": [
    "import time\n",
    "\n",
    "with open(r\"pi_digits.txt\",'r') as f:\n",
    "    lines = f.readlines()\n",
    "    \n",
    "pi_str = ''\n",
    "for line in lines:\n",
    "    pi_str += line\n",
    "    time.sleep(0.01)\n",
    "    \n",
    "print(pi_str[:52])# 注意，为了避免打印内容过多，而在屏幕上翻滚，这里使用切片字符串的方法，值打印小数点后50位，\n",
    "print(len(pi_str))# 但是我们可以通过len()函数来查看该字符串的总长度\n",
    "print(type(pi_str))  "
   ]
  },
  {
   "cell_type": "code",
   "execution_count": 10,
   "metadata": {},
   "outputs": [
    {
     "name": "stdout",
     "output_type": "stream",
     "text": [
      "请输入你的生日，以便与我来检测你的生日是否包含在π的值里面0703\n",
      "你的生日不再π值的前6555位里面\n"
     ]
    }
   ],
   "source": [
    "with open(r\"pi_digits.txt\",'r') as f:\n",
    "    lines = f.readlines()\n",
    "    \n",
    "pi_str = ''\n",
    "for line in lines:\n",
    "    pi_str += line\n",
    "    \n",
    "birthday = input('请输入你的生日，以便与我来检测你的生日是否包含在π的值里面')\n",
    "if birthday in pi_str:\n",
    "    print('你的生日在π的前6555值里面')\n",
    "else:\n",
    "    print(\"你的生日不再π值的前6555位里面\")"
   ]
  },
  {
   "cell_type": "code",
   "execution_count": 13,
   "metadata": {},
   "outputs": [],
   "source": [
    "with open(r\"test_write.txt\", 'w') as f:\n",
    "    f.write(\"I love wangxiaomei\")# 以写方式打开，若果没有，自动创建指定文件名，但是要注意，Python在返回文件对象时，即打开文件的同时，清空内容"
   ]
  },
  {
   "cell_type": "code",
   "execution_count": 18,
   "metadata": {},
   "outputs": [],
   "source": [
    "with open(r\"test_write.txt\", 'w') as f:\n",
    "    f.write(\"I love wangxiaomei.\\n\")\n",
    "    f.write(\"but she does'nt clever.\\n\")# 写入多行内容,注意换行符，若果没有，Python不会换行，内容会挤到一行"
   ]
  },
  {
   "cell_type": "code",
   "execution_count": 19,
   "metadata": {},
   "outputs": [],
   "source": [
    "with open(r\"test_write.txt\", 'a') as f:\n",
    "    f.write(\"just fuck,can not do what I want.\\n\")# 以追加的方式打开并且追加内容在文件末尾,如果文件不存在，Python将为你新建一个指定文件名的文件"
   ]
  },
  {
   "cell_type": "code",
   "execution_count": null,
   "metadata": {},
   "outputs": [],
   "source": []
  },
  {
   "cell_type": "code",
   "execution_count": null,
   "metadata": {},
   "outputs": [],
   "source": []
  },
  {
   "cell_type": "code",
   "execution_count": null,
   "metadata": {},
   "outputs": [],
   "source": []
  }
 ],
 "metadata": {
  "kernelspec": {
   "display_name": "Python 3",
   "language": "python",
   "name": "python3"
  },
  "language_info": {
   "codemirror_mode": {
    "name": "ipython",
    "version": 3
   },
   "file_extension": ".py",
   "mimetype": "text/x-python",
   "name": "python",
   "nbconvert_exporter": "python",
   "pygments_lexer": "ipython3",
   "version": "3.7.0"
  }
 },
 "nbformat": 4,
 "nbformat_minor": 2
}
