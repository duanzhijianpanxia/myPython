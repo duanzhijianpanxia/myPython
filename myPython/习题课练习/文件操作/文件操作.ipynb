{
 "cells": [
  {
   "cell_type": "markdown",
   "metadata": {},
   "source": [
    "##### 写一个程序，接受用户输入的内容，并且保存为文件\n",
    "\n",
    "如果用户单独输入 ':c' 则表示文件保存退出\n",
    "\n",
    "需要用到open()\n",
    "\n",
    "input()\n",
    "\n",
    "写操作“w”"
   ]
  },
  {
   "cell_type": "code",
   "execution_count": 10,
   "metadata": {},
   "outputs": [
    {
     "name": "stdout",
     "output_type": "stream",
     "text": [
      "请用户输入文件名： test3\n",
      "请输入内容，（单独输入:c 保存退出)\n",
      "1\n",
      "2\n",
      "3\n",
      "4\n",
      "5\n",
      "6\n",
      "7\n",
      "8\n",
      "9\n",
      ":c\n"
     ]
    }
   ],
   "source": [
    "file_name = input(\"请用户输入文件名： \")\n",
    "\n",
    "def file_write(file_naem):\n",
    "    \n",
    "    f = open(file_name,\"w\")  # 打开用户文件\n",
    "    \n",
    "    print(\"请输入内容，（单独输入:c 保存退出)\")\n",
    "    \n",
    "    while True:\n",
    "        write_something = input()\n",
    "        # 判断用户输入的是不是:c\n",
    "        if write_something != \":c\":\n",
    "            # 向文件中写入用户输入的内容\n",
    "            f.write(\"%s\\n\"% write_something)\n",
    "        else:\n",
    "            # 用户输入的是:c\n",
    "            break\n",
    "    f.close()\n",
    "    \n",
    "file_write(file_name)\n"
   ]
  },
  {
   "cell_type": "code",
   "execution_count": null,
   "metadata": {},
   "outputs": [],
   "source": []
  },
  {
   "cell_type": "markdown",
   "metadata": {},
   "source": [
    "##### 写一个程序，比较用户输入的文件是否相同，如果不同显示出不同处的行号\n",
    "- f.readline()\n",
    "- open()\n",
    "- differ"
   ]
  },
  {
   "cell_type": "code",
   "execution_count": 1,
   "metadata": {},
   "outputs": [
    {
     "name": "stdout",
     "output_type": "stream",
     "text": [
      "请输入第一个需要比较的文件名： test1\n",
      "请输入第二个需要比较的文件名： test2\n",
      "两个文件有8处不同\n",
      "第1行不一样\n",
      "第2行不一样\n",
      "第4行不一样\n",
      "第5行不一样\n",
      "第6行不一样\n",
      "第7行不一样\n",
      "第8行不一样\n",
      "第9行不一样\n"
     ]
    }
   ],
   "source": [
    "file1 = input(\"请输入第一个需要比较的文件名： \")\n",
    "file2 = input(\"请输入第二个需要比较的文件名： \")\n",
    "\n",
    "def file_compare(file1, file2):\n",
    "    f1 = open(file1)\n",
    "    f2 = open(file2)\n",
    "    \n",
    "    count = 1 # 统计的行数\n",
    "    differ = []\n",
    "    \n",
    "    for line1 in f1:\n",
    "        line2 = f2.readline()\n",
    "        if line1 != line2: # 文件不同\n",
    "            differ.append(count)\n",
    "        count += 1\n",
    "    f1.close()\n",
    "    f2.close()\n",
    "    \n",
    "    return differ\n",
    "\n",
    "differ = file_compare(file1, file2)\n",
    "\n",
    "if len(differ) == 0:\n",
    "    print(\"两个文件完全相同\")\n",
    "    \n",
    "else:\n",
    "    print(\"两个文件有%d处不同\" % len(differ))\n",
    "    for each in differ:\n",
    "        print(\"第{0}行不一样\".format(each))"
   ]
  },
  {
   "cell_type": "markdown",
   "metadata": {},
   "source": [
    "###### 编写程序，当用户输入文件名和行数的时候，将改文件的前N行内容打印到屏幕上\n",
    "- input()去接收一个文件名\n",
    "\n",
    "- input()去接收一个行数 "
   ]
  },
  {
   "cell_type": "code",
   "execution_count": 4,
   "metadata": {},
   "outputs": [
    {
     "name": "stdout",
     "output_type": "stream",
     "text": [
      "请输入文件名：test1\n",
      "请输入你想打印的行数3\n",
      "\n",
      "文件test1的前3行内容如下：\n",
      "111\n",
      "\n",
      "222\n",
      "\n",
      "333\n",
      "\n"
     ]
    }
   ],
   "source": [
    "import time\n",
    "file_name = input(r\"请输入文件名：\") # 是一个str\n",
    "line_num = input(r\"请输入你想打印的行数\")\n",
    "\n",
    "def file_view(file_name, line_mun):\n",
    "    print(\"\\n文件{0}的前{1}行内容如下：\".format(file_name, line_num))\n",
    "    \n",
    "    f = open(file_name)\n",
    "    for i in range(int(line_num)):\n",
    "        print(f.readline())\n",
    "        time.sleep(2)\n",
    "        \n",
    "    f.close()\n",
    "    \n",
    "file_view(file_name, line_num)"
   ]
  },
  {
   "cell_type": "markdown",
   "metadata": {},
   "source": [
    "###### 在上道题的基础上，增加一点功能，用户可以随意的输入需要显示的行数\n",
    "- 使用切片完成\n"
   ]
  },
  {
   "cell_type": "code",
   "execution_count": 9,
   "metadata": {},
   "outputs": [
    {
     "name": "stdout",
     "output_type": "stream",
     "text": [
      "请输入你想要打开的文件名：test1\n",
      "请输入你想显示的行数，格式为[1:9]或者[:]3:\n",
      "333\n",
      "444\n",
      "555\n",
      "666\n",
      "777\n",
      "888\n",
      "999\n",
      "\n"
     ]
    }
   ],
   "source": [
    "file_name = input(\"请输入你想要打开的文件名：\")\n",
    "line_num = input(\"请输入你想显示的行数，格式为[1:9]或者[:]\")\n",
    "\n",
    "def prt_line(file_name, line_num):\n",
    "    f = open(file_name)\n",
    "    begin,end = line_num.split(\":\")\n",
    "    \n",
    "    if begin == \"\":\n",
    "        begin = \"1\"\n",
    "        \n",
    "    if end == \"\":\n",
    "        end = -1\n",
    "        \n",
    "    begin = int(begin) - 1\n",
    "    end = int(end)\n",
    "    \n",
    "    lines = end - begin\n",
    "    \n",
    "    # 消耗掉begin之前的行数\n",
    "    \n",
    "    for i in range(begin):\n",
    "        f.readline()\n",
    "        \n",
    "    if lines < 0:\n",
    "        print(f.read())\n",
    "    else:\n",
    "        for j in range(lines):\n",
    "            print(f.readline())\n",
    "    f.close()\n",
    "    \n",
    "prt_line(file_name, line_num)\n"
   ]
  },
  {
   "cell_type": "markdown",
   "metadata": {},
   "source": [
    "###### 编写一个程序，实现“全部替换”功能\n",
    "- 打开一个文件\n",
    "- 把文件中xxx这样的字符串，替换成sss\n",
    "- open 打开文件\n",
    "- readline 读取文件内容\n",
    "- replace 替换"
   ]
  },
  {
   "cell_type": "code",
   "execution_count": 1,
   "metadata": {},
   "outputs": [
    {
     "name": "stdout",
     "output_type": "stream",
     "text": [
      "请输入你想打开的文件名：test3\n",
      "请输入你要更改的字符：3\n",
      "请输入你想替换的新字符串： ddsd\n",
      "你确定要这样子做吗？请输入yes or no: dfklsj\n",
      "你的输入有误，请按提示输入\n",
      "你确定要这样子做吗？请输入yes or no: kadfsj\n",
      "你的输入有误，请按提示输入\n",
      "你确定要这样子做吗？请输入yes or no: no\n",
      "你选择了no，文件已关闭，将不做任何更改\n"
     ]
    }
   ],
   "source": [
    "file_name = input(\"请输入你想打开的文件名：\")\n",
    "rep_wd = input(\"请输入你要更改的字符：\")\n",
    "new_wd = input(\"请输入你想替换的新字符串： \")\n",
    "\n",
    "def file_rep(file_name, rep_wd, new_wd):\n",
    "    f = open(file_name)\n",
    "    content = []\n",
    "\n",
    "    for eachline in f:\n",
    "        if rep_wd in eachline:\n",
    "            eachline = eachline.replace(rep_wd,new_wd)\n",
    "\n",
    "        content.append(eachline)\n",
    "    decide = input(\"你确定要这样子做吗？请输入yes or no: \")\n",
    "\n",
    "    if decide in [\"yes\", \"YES\", \"Yes\"]:\n",
    "        f_write = open(file_name,\"w\")\n",
    "        f_write.write(\"\".join(content))\n",
    "        f_write.close()\n",
    "    elif decide in [\"NO\", \"No\", 'no']:\n",
    "        print(\"你选择了no，文件已关闭，将不做任何更改\")\n",
    "\n",
    "    else:\n",
    "        print(\"你的输入有误，请按提示输入\")\n",
    "    \n",
    "        file_rep(file_name, rep_wd, new_wd)\n",
    "        \n",
    "file_rep(file_name,rep_wd,new_wd)\n"
   ]
  },
  {
   "cell_type": "markdown",
   "metadata": {},
   "source": [
    "#### 写一个程序，统计当前目录下每个文件类型的文件数\n",
    "\n",
    "思路：\n",
    "- 打开当前文件夹\n",
    "- 获取当前文件夹下面的所有文件\n",
    "- 处理我们当前文件夹下面可能有文件夹的情况，也要打印出来\n",
    "- 做出统计"
   ]
  },
  {
   "cell_type": "code",
   "execution_count": 10,
   "metadata": {},
   "outputs": [
    {
     "name": "stdout",
     "output_type": "stream",
     "text": [
      "该文件夹下面有类型为文件夹的文件1个\n",
      "该文件夹下面有类型为.txt的文件3个\n",
      "该文件夹下面有类型为.ipynb的文件1个\n"
     ]
    }
   ],
   "source": [
    "import os\n",
    "# 获取当前文件夹下面的所有文件\n",
    "all_files = os.listdir(os.curdir)# os.curdir 表示当前目录，curdir :是缩写(current direntory)\n",
    "# os.listdir 是显示文件路径目录\n",
    "\n",
    "type_dict = dict()\n",
    "\n",
    "for each_file in all_files:\n",
    "    # 如果说我们的each_file是文件夹\n",
    "    if os.path.isdir(each_file):\n",
    "        type_dict.setdefault(\"文件夹\", 0)\n",
    "        type_dict[\"文件夹\"] += 1\n",
    "    else:\n",
    "        # 如果不是文件夹，而是文件，统计我们的文件\n",
    "        ext = os.path.splitext(each_file)[1]# 获取文件后缀\n",
    "        type_dict.setdefault(ext,0)\n",
    "        type_dict[ext] += 1\n",
    "        \n",
    "for each_type in type_dict:\n",
    "    print(\"该文件夹下面有类型为{0}的文件{1}个\".format(each_type, type_dict[each_type]))"
   ]
  },
  {
   "cell_type": "code",
   "execution_count": 2,
   "metadata": {},
   "outputs": [
    {
     "name": "stdout",
     "output_type": "stream",
     "text": [
      "Help on built-in function listdir in module nt:\n",
      "\n",
      "listdir(path=None)\n",
      "    Return a list containing the names of the files in the directory.\n",
      "    \n",
      "    path can be specified as either str or bytes.  If path is bytes,\n",
      "      the filenames returned will also be bytes; in all other circumstances\n",
      "      the filenames returned will be str.\n",
      "    If path is None, uses the path='.'.\n",
      "    On some platforms, path may also be specified as an open file descriptor;\\\n",
      "      the file descriptor must refer to a directory.\n",
      "      If this functionality is unavailable, using it raises NotImplementedError.\n",
      "    \n",
      "    The list is in arbitrary order.  It does not include the special\n",
      "    entries '.' and '..' even if they are present in the directory.\n",
      "\n"
     ]
    }
   ],
   "source": [
    "import os\n",
    "help(os.listdir)"
   ]
  },
  {
   "cell_type": "code",
   "execution_count": null,
   "metadata": {},
   "outputs": [],
   "source": []
  }
 ],
 "metadata": {
  "kernelspec": {
   "display_name": "Python 3",
   "language": "python",
   "name": "python3"
  },
  "language_info": {
   "codemirror_mode": {
    "name": "ipython",
    "version": 3
   },
   "file_extension": ".py",
   "mimetype": "text/x-python",
   "name": "python",
   "nbconvert_exporter": "python",
   "pygments_lexer": "ipython3",
   "version": "3.7.0"
  }
 },
 "nbformat": 4,
 "nbformat_minor": 2
}
