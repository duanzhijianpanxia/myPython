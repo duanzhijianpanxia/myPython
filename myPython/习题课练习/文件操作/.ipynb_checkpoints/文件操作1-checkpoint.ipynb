{
 "cells": [
  {
   "cell_type": "markdown",
   "metadata": {},
   "source": [
    "##### 编写一个程序，计算当前文件夹下所有文件的大小\n",
    "- 打开当前文件夹\n",
    "- 获取到所有的文件，和文件夹大小\n",
    "- 保存获取的数据然后打印出来\n"
   ]
  },
  {
   "cell_type": "code",
   "execution_count": 4,
   "metadata": {},
   "outputs": [
    {
     "name": "stdout",
     "output_type": "stream",
     "text": [
      "test1.txt大小为36\n",
      "test2.txt大小为30\n",
      "test3.txt大小为27\n",
      "文件操作.ipynb大小为11968\n",
      "文件操作1.ipynb大小为1338\n"
     ]
    }
   ],
   "source": [
    "import os\n",
    "\n",
    "all_files = os.listdir(os.curdir)\n",
    "\n",
    "file_dict = dict()\n",
    "\n",
    "for each_file in all_files:\n",
    "    # 判断我们这个each_file是够是文件\n",
    "    if os.path.isfile(each_file):\n",
    "        file_size = os.path.getsize(each_file)\n",
    "        file_dict[each_file] = file_size\n",
    "        \n",
    "for each in file_dict.items():\n",
    "    print(\"{0}大小为{1}\".format(each[0],each[1]))"
   ]
  },
  {
   "cell_type": "markdown",
   "metadata": {},
   "source": [
    "##### 编写一个程序，用户输入文件名以及开始搜索的路径，搜索改文件是否存在，如果遇到文件夹，则进入该文件夹继续搜索\n",
    "- input 去接收用户输入的文件名和开始搜索的路径\n",
    "- os.path.isdir去判断是不是文件夹，如果是的话，就需要进入该文件夹继续搜索，循环调用一下我们的函数来实现"
   ]
  },
  {
   "cell_type": "code",
   "execution_count": 24,
   "metadata": {},
   "outputs": [
    {
     "name": "stdout",
     "output_type": "stream",
     "text": [
      "请输入目录：.\n",
      "请输入文件名称：test2.txt\n",
      "C:\\Users\\lenovo\\Desktop\\1-python基础\\duanzhijianpanxia\\myPython\\习题课练习\\文件操作\\test2.txt\n"
     ]
    }
   ],
   "source": [
    "import os\n",
    "\n",
    "start_dir = input(\"请输入目录：\")\n",
    "target = input(\"请输入文件名称：\")\n",
    "\n",
    "def search_file(start_dir, target):\n",
    "    os.chdir(start_dir)  #  切换到用户输入的路径\n",
    "    \n",
    "    for each_file in os.listdir(os.curdir):\n",
    "        if each_file == target:\n",
    "            print(os.getcwd() + os.sep + each_file)\n",
    "        if os.path.isdir(each_file):\n",
    "            search_file(each_file, target) # 递归调用\n",
    "            os.chdir(os.pardir)\n",
    "            \n",
    "search_file(start_dir, target)"
   ]
  },
  {
   "cell_type": "markdown",
   "metadata": {},
   "source": [
    "##### 对上述题目加一些需求，模糊匹配，判断我们的 target是否包含在某一个文件中\n",
    "- in 去判断target这个字符串是否在文件名字中"
   ]
  },
  {
   "cell_type": "code",
   "execution_count": 28,
   "metadata": {},
   "outputs": [
    {
     "name": "stdout",
     "output_type": "stream",
     "text": [
      "请输入目录：.\n",
      "请输入文件名称：test\n",
      "C:\\Users\\lenovo\\Desktop\\1-python基础\\duanzhijianpanxia\\myPython\\习题课练习\\文件操作\\test1.txt\n",
      "C:\\Users\\lenovo\\Desktop\\1-python基础\\duanzhijianpanxia\\myPython\\习题课练习\\文件操作\\test2.txt\n",
      "C:\\Users\\lenovo\\Desktop\\1-python基础\\duanzhijianpanxia\\myPython\\习题课练习\\文件操作\\test3.txt\n"
     ]
    }
   ],
   "source": [
    "import os\n",
    "\n",
    "start_dir = input(\"请输入目录：\")\n",
    "target = input(\"请输入文件名称：\")\n",
    "\n",
    "def search_file(start_dir, target):\n",
    "    os.chdir(start_dir)  #  切换到用户输入的路径\n",
    "    \n",
    "    for each_file in os.listdir(os.curdir):\n",
    "        if target in each_file:\n",
    "            print(os.getcwd() + os.sep + each_file)\n",
    "        if os.path.isdir(each_file):\n",
    "            search_file(each_file, target) # 递归调用\n",
    "            os.chdir(os.pardir)\n",
    "            \n",
    "search_file(start_dir, target)"
   ]
  },
  {
   "cell_type": "markdown",
   "metadata": {},
   "source": [
    "##### 再加一个需求，上述题目，我们需要保存我们的文件才在的地方，到我们指定的路径\n",
    "- file I/O 写文件"
   ]
  },
  {
   "cell_type": "code",
   "execution_count": 35,
   "metadata": {},
   "outputs": [
    {
     "name": "stdout",
     "output_type": "stream",
     "text": [
      "Please input start directory:.\n",
      "Please input file name:t\n"
     ]
    }
   ],
   "source": [
    "import os\n",
    "\n",
    "start_dir = input(\"Please input start directory:\")\n",
    "target = input(\"Please input file name:\")\n",
    "backup = []\n",
    "\n",
    "def search_file(start_dir, target):\n",
    "    os.chdir(start_dir)  #  切换到用户输入的路径\n",
    "    \n",
    "    for each_file in os.listdir(os.curdir):\n",
    "        if target in each_file:\n",
    "            backpu_file = os.getcwd() + os.sep + each_file\n",
    "            backup.append(backpu_file)\n",
    "        if os.path.isdir(each_file):\n",
    "            search_file(each_file, target) # 递归调用\n",
    "            os.chdir(os.pardir)\n",
    "            \n",
    "    return backup\n",
    "\n",
    "sf = search_file(start_dir, target)\n",
    "\n",
    "f = open(os.getcwd() + os.sep + \"backup.txt\", \"wb\")\n",
    "f.write(\"\\n\".join(sf).encode(\"utf_8\"))\n",
    "f.close()\n",
    "# print(sf)\n",
    "# print()\n"
   ]
  },
  {
   "cell_type": "markdown",
   "metadata": {},
   "source": [
    "##### 编写一个程序，接收用户输入的内容，并且保存新的文件\n",
    "\n",
    "如果用户单独输如   :q\n",
    "\n",
    "表示文件保存退出"
   ]
  },
  {
   "cell_type": "markdown",
   "metadata": {},
   "source": [
    "open()\n",
    "\n",
    "input()\n",
    "\n",
    "\"w\""
   ]
  },
  {
   "cell_type": "code",
   "execution_count": 37,
   "metadata": {},
   "outputs": [
    {
     "name": "stdout",
     "output_type": "stream",
     "text": [
      "请输入文件名:q\n",
      "请输入内容， （单独输入 :q 保存退出）\n",
      "\n",
      ":q\n"
     ]
    }
   ],
   "source": [
    "file_name = input(\"请输入文件名\")\n",
    "\n",
    "def file_write(file_name):\n",
    "    \n",
    "    f = open(file_name, \"w\")  # 以写的方式打开用户文件\n",
    "    \n",
    "    print(\"请输入内容， （单独输入 :q 保存退出）\")\n",
    "    \n",
    "    while True:\n",
    "        write_something = input()\n",
    "        # 判断输入的是不是 :q\n",
    "        if write_something != \":q\":\n",
    "            # 向文件中写入用户输入的内容\n",
    "            f.write(\"%s/n\" % write_something)\n",
    "        else:\n",
    "            # 用户输入的是:q\n",
    "            break\n",
    "            \n",
    "    f.close()\n",
    "    \n",
    "file_write(file_name)\n"
   ]
  },
  {
   "cell_type": "code",
   "execution_count": null,
   "metadata": {},
   "outputs": [],
   "source": []
  }
 ],
 "metadata": {
  "kernelspec": {
   "display_name": "Python 3",
   "language": "python",
   "name": "python3"
  },
  "language_info": {
   "codemirror_mode": {
    "name": "ipython",
    "version": 3
   },
   "file_extension": ".py",
   "mimetype": "text/x-python",
   "name": "python",
   "nbconvert_exporter": "python",
   "pygments_lexer": "ipython3",
   "version": "3.7.0"
  }
 },
 "nbformat": 4,
 "nbformat_minor": 2
}
