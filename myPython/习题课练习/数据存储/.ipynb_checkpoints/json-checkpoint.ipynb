{
 "cells": [
  {
   "cell_type": "code",
   "execution_count": 3,
   "metadata": {},
   "outputs": [],
   "source": [
    "import json   # 导入json包\n",
    "\n",
    "num = [1,2,3,4,5,]   # 创建想要写入文件的内容\n",
    "\n",
    "with open(r\"num.json\", 'w') as f: # 以写的方式打开文件mun.json,如果没有，则创建该文件名的文件\n",
    "    json.dump(num, f)  # 将要写入的内容写入到指定的文件中，json.dump()有两个参数，第一个参数是想要存储的内容，第二个是相应的文件"
   ]
  },
  {
   "cell_type": "code",
   "execution_count": 1,
   "metadata": {},
   "outputs": [
    {
     "name": "stdout",
     "output_type": "stream",
     "text": [
      "[1, 2, 3, 4, 5]\n"
     ]
    }
   ],
   "source": [
    "import json  # 该程序演示的是如何加载json文件中的内容，并且输出\n",
    "\n",
    "with open(r\"num.json\",'r') as f:  # 以读的方式打开文件\n",
    "    num_1 = json.load(f)  # 将文件读取的内容加载出来并且赋值给了var:num_1\n",
    "    print(num_1)"
   ]
  },
  {
   "cell_type": "code",
   "execution_count": 2,
   "metadata": {},
   "outputs": [
    {
     "name": "stdout",
     "output_type": "stream",
     "text": [
      "please input your name:Wang Xiaomei\n",
      "I will remember you when you come back Wang Xiaomei !\n"
     ]
    }
   ],
   "source": [
    "# 保存用户输入的数据\n",
    "import json\n",
    "\n",
    "with open(r\"username.json\", 'w') as f:\n",
    "    username = input('please input your name:')\n",
    "    json.dump(username,f)\n",
    "    print('I will remember you when you come back', username, '!')"
   ]
  },
  {
   "cell_type": "code",
   "execution_count": 3,
   "metadata": {},
   "outputs": [
    {
     "name": "stdout",
     "output_type": "stream",
     "text": [
      "welcome back Wang Xiaomei !\n"
     ]
    }
   ],
   "source": [
    "# 读取用户输入的数据\n",
    "import json\n",
    "with open(r'username.json', 'r') as f:\n",
    "    user_data = json.load(f)\n",
    "    print('welcome back', user_data,'!')"
   ]
  },
  {
   "cell_type": "code",
   "execution_count": 4,
   "metadata": {},
   "outputs": [
    {
     "name": "stdout",
     "output_type": "stream",
     "text": [
      "welcome back Wang Xiaomei\n"
     ]
    }
   ],
   "source": [
    "# 合并上面两段代码\n",
    "# 如果用户之前输入过，则直接打印，问候语 + 用户名\n",
    "# 如果不是已存在用户则提示用户重新进行注册输入\n",
    "import json\n",
    "\n",
    "try:\n",
    "    with open(r'username.json', 'r') as f:\n",
    "        username = json.load(f)\n",
    "except FileNotFoundError:\n",
    "    username = input('please input your name:')\n",
    "    with open(r'username.json', 'w') as f:\n",
    "        json.dump(username, f)\n",
    "        print('I will remember you when you come back', username, '!')\n",
    "else:\n",
    "    print('welcome back', username)"
   ]
  },
  {
   "cell_type": "markdown",
   "metadata": {},
   "source": [
    "#### 重构\n",
    "- 你经常会遇到这种情况：代码能够正确运行，但是可以做进一步的改进——将代码划分为一系列完成具体工作的函数。这样的过程被称为重构。\n",
    "- 重构可以使代码更清晰，更易于理解，更容易扩展"
   ]
  },
  {
   "cell_type": "code",
   "execution_count": 5,
   "metadata": {},
   "outputs": [
    {
     "name": "stdout",
     "output_type": "stream",
     "text": [
      "welcome back Wang Xiaomei !\n"
     ]
    }
   ],
   "source": [
    "# 以上面的代码为实例\n",
    "import json\n",
    "\n",
    "file_name = 'username.json'\n",
    "def greet_user():   # 定义一个问候函数，问候用户，并指出其姓名\n",
    "    try:\n",
    "        with open(file_name, 'r') as f:\n",
    "            username = json.load(f)\n",
    "    except FileNotFoundError:\n",
    "        username = input('please in put your name:')\n",
    "        with open(file_name, 'w') as f:\n",
    "            json.dump(username, f)\n",
    "            print('I will remember you,when you come back', username)\n",
    "    else:\n",
    "        print('welcome back', username, '!')\n",
    "        \n",
    "greet_user()"
   ]
  },
  {
   "cell_type": "code",
   "execution_count": 6,
   "metadata": {},
   "outputs": [
    {
     "name": "stdout",
     "output_type": "stream",
     "text": [
      "welcome backWang Xiaomei!\n"
     ]
    }
   ],
   "source": [
    "import json\n",
    "\n",
    "def get_store_username():  # 单纯的获取用户名函数\n",
    "    '''如果存储了用户名就获取他'''\n",
    "    file_name = 'username.json'\n",
    "    try:\n",
    "        with open(file_name, 'r') as f:\n",
    "            username = json.load(f)\n",
    "    except FileNotFoundError:   #为了不报错，使用了该方法\n",
    "        return None   # 如果用户名不存在，返回None\n",
    "    else:   #否则返回获取到的已存在的用户名\n",
    "        return username\n",
    "    \n",
    "def greet_user():\n",
    "    '''用户名是调用上面获取用户名的函数的到的用户名'''\n",
    "    username = get_store_username()\n",
    "    if username:\n",
    "        print('welcome back' + username +'!')\n",
    "    else:\n",
    "        username = input('请输入你的姓名')\n",
    "        file_name = \"username.json\"\n",
    "        with open(file_name, 'w') as f:\n",
    "            json.dump(username, f)\n",
    "            print(\"I'll remember you when you come back \" + username, \"!\")\n",
    "            \n",
    "greet_user()"
   ]
  },
  {
   "cell_type": "code",
   "execution_count": 8,
   "metadata": {},
   "outputs": [
    {
     "name": "stdout",
     "output_type": "stream",
     "text": [
      "welcome backWang Xiaomei!\n"
     ]
    }
   ],
   "source": [
    "import json\n",
    "\n",
    "def get_store_username():  # 单纯的获取用户名函数\n",
    "    '''如果存储了用户名就获取他'''\n",
    "    file_name = 'username.json'\n",
    "    try:\n",
    "        with open(file_name, 'r') as f:\n",
    "            username = json.load(f)\n",
    "    except FileNotFoundError:   #为了不报错，使用了该方法\n",
    "        return None   # 如果用户名不存在，返回None\n",
    "    else:   #否则返回获取到的已存在的用户名\n",
    "        return username\n",
    "\n",
    "def get_new_name():\n",
    "    '''提示用户输入姓名'''\n",
    "    username = input(\"what's your name?\")\n",
    "    filename = 'username.json'\n",
    "    with open(file_name, 'w') as f:\n",
    "        json.dump(username, dump)\n",
    "        \n",
    "def greet_user():\n",
    "    '''问候用户并指出其姓名'''\n",
    "    username = get_store_username()\n",
    "    if username:\n",
    "        print('welcome back' + username +'!')\n",
    "    else:\n",
    "        username = get_new_name()\n",
    "        print(\"I'll remember you when you come back \" + username, \"!\")\n",
    "            \n",
    "greet_user()"
   ]
  },
  {
   "cell_type": "code",
   "execution_count": null,
   "metadata": {},
   "outputs": [],
   "source": []
  },
  {
   "cell_type": "code",
   "execution_count": null,
   "metadata": {},
   "outputs": [],
   "source": []
  }
 ],
 "metadata": {
  "kernelspec": {
   "display_name": "Python 3",
   "language": "python",
   "name": "python3"
  },
  "language_info": {
   "codemirror_mode": {
    "name": "ipython",
    "version": 3
   },
   "file_extension": ".py",
   "mimetype": "text/x-python",
   "name": "python",
   "nbconvert_exporter": "python",
   "pygments_lexer": "ipython3",
   "version": "3.7.0"
  }
 },
 "nbformat": 4,
 "nbformat_minor": 2
}
