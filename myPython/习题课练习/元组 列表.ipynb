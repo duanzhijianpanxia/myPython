{
 "cells": [
  {
   "cell_type": "markdown",
   "metadata": {},
   "source": [
    "- 定义一个元组\n",
    "    - 定义多个元素元组\n",
    "    - 定义单个元素元组\n",
    "    "
   ]
  },
  {
   "cell_type": "code",
   "execution_count": 1,
   "metadata": {},
   "outputs": [
    {
     "name": "stdout",
     "output_type": "stream",
     "text": [
      "<class 'tuple'>\n",
      "(1, 2, 3, 4, 5, 6)\n",
      "<class 'tuple'>\n",
      "(1,)\n"
     ]
    }
   ],
   "source": [
    "t = (1,2,3,4,5,6)\n",
    "t1 = (1,)\n",
    "\n",
    "print(type(t))\n",
    "print(t)\n",
    "\n",
    "print(type(t1))\n",
    "print(t1)"
   ]
  },
  {
   "cell_type": "markdown",
   "metadata": {},
   "source": [
    "- 下面情景应该使用列表还是元组来保存数据\n",
    "    - 游戏角色的属性：随着角色等级的变化还有装备的升级，进行一些增加和替换，所以我们需要使用  元组(tuple)  来保存数据\n",
    "    - 某购物网站的商品信息（图片，价格，介绍）：随着时间变化还有活动的进行，需要独一商品进行更新个维护，所以使用  列表（list）  来储存数据\n",
    "    - 动车组个组间的具体配置参数：属于精密数据不允许个人进行修改，应该使用  元组（tuple）    来保存数据\n",
    "    - 你发送个数码城的电脑配置清单：不想让其修改数据，则使用元组（tuple）保存，如果需要对方跟新维护你的数据则使用列表（list）来保存信息\n",
    "    - 你的身份证信息：不能被别人修改，所以元组（tuple）"
   ]
  },
  {
   "cell_type": "markdown",
   "metadata": {},
   "source": [
    "增加一点内容，按照格式输出\n",
    "\n",
    "\n",
    "   \"鹅鹅鹅\n",
    "   曲项向天歌\n",
    "   白毛浮绿水\n",
    "   红掌拨清波\""
   ]
  },
  {
   "cell_type": "code",
   "execution_count": 2,
   "metadata": {},
   "outputs": [
    {
     "name": "stdout",
     "output_type": "stream",
     "text": [
      "\n",
      "鹅鹅鹅\n",
      "曲项向天歌\n",
      "白毛浮绿水\n",
      "红掌拨清波\n",
      "\n"
     ]
    }
   ],
   "source": [
    "shi = '''\n",
    "鹅鹅鹅\n",
    "曲项向天歌\n",
    "白毛浮绿水\n",
    "红掌拨清波\n",
    "'''\n",
    "\n",
    "print(shi)"
   ]
  },
  {
   "cell_type": "code",
   "execution_count": null,
   "metadata": {},
   "outputs": [],
   "source": []
  },
  {
   "cell_type": "code",
   "execution_count": null,
   "metadata": {},
   "outputs": [],
   "source": []
  }
 ],
 "metadata": {
  "kernelspec": {
   "display_name": "Python 3",
   "language": "python",
   "name": "python3"
  },
  "language_info": {
   "codemirror_mode": {
    "name": "ipython",
    "version": 3
   },
   "file_extension": ".py",
   "mimetype": "text/x-python",
   "name": "python",
   "nbconvert_exporter": "python",
   "pygments_lexer": "ipython3",
   "version": "3.7.0"
  }
 },
 "nbformat": 4,
 "nbformat_minor": 2
}
