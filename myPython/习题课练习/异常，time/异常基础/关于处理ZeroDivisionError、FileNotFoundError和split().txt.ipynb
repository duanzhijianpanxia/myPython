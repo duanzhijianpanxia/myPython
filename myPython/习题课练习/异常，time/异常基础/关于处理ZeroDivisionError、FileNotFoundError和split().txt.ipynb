{
 "cells": [
  {
   "cell_type": "code",
   "execution_count": 1,
   "metadata": {},
   "outputs": [
    {
     "name": "stdout",
     "output_type": "stream",
     "text": [
      "请依次输入被除数和除数，我将为你计算他们的商\n",
      "输入q表示退出\n",
      "请输入被除数q\n"
     ]
    }
   ],
   "source": [
    "# 除数为零计算\n",
    "print(\"请依次输入被除数和除数，我将为你计算他们的商\")\n",
    "print(\"输入q表示退出\")\n",
    "\n",
    "while True:\n",
    "    first_num = input(\"请输入被除数\")\n",
    "    \n",
    "    if first_num == 'q':\n",
    "        break\n",
    "    else:\n",
    "        sec_num = input(\"请输入除数\")\n",
    "        if sec_num == 'q':\n",
    "            break\n",
    "\n",
    "    try:\n",
    "        rst = int(first_num) / int(sec_num)\n",
    "\n",
    "    except ZeroDivisionError:\n",
    "        print(\"除数不能为零\")\n",
    "\n",
    "    else:\n",
    "        print(rst)"
   ]
  },
  {
   "cell_type": "code",
   "execution_count": 2,
   "metadata": {},
   "outputs": [
    {
     "name": "stdout",
     "output_type": "stream",
     "text": [
      "['I', 'do', 'not', 'know', 'what', 'I', 'can', 'do.']\n",
      "<class 'list'>\n",
      "8\n"
     ]
    }
   ],
   "source": [
    "title = \"I do not know what I can do.\"\n",
    "l = title.split()# 字符串中的split()函数以空格为单位，将单词或者字符串分开存放在list中\n",
    "print(l)\n",
    "print(type(l))\n",
    "print(len(l))"
   ]
  },
  {
   "cell_type": "code",
   "execution_count": 15,
   "metadata": {},
   "outputs": [
    {
     "ename": "FileNotFoundError",
     "evalue": "[Errno 2] No such file or directory: 'count2.txt'",
     "output_type": "error",
     "traceback": [
      "\u001b[1;31m---------------------------------------------------------------------------\u001b[0m",
      "\u001b[1;31mFileNotFoundError\u001b[0m                         Traceback (most recent call last)",
      "\u001b[1;32m<ipython-input-15-2f45eb6d44ab>\u001b[0m in \u001b[0;36m<module>\u001b[1;34m()\u001b[0m\n\u001b[1;32m----> 1\u001b[1;33m \u001b[1;32mwith\u001b[0m \u001b[0mopen\u001b[0m\u001b[1;33m(\u001b[0m\u001b[1;34mr\"count2.txt\"\u001b[0m\u001b[1;33m,\u001b[0m \u001b[1;34m'r'\u001b[0m\u001b[1;33m)\u001b[0m \u001b[1;32mas\u001b[0m \u001b[0mf\u001b[0m\u001b[1;33m:\u001b[0m\u001b[1;33m\u001b[0m\u001b[0m\n\u001b[0m\u001b[0;32m      2\u001b[0m     \u001b[0mrst\u001b[0m \u001b[1;33m=\u001b[0m \u001b[0mf\u001b[0m\u001b[1;33m.\u001b[0m\u001b[0mread\u001b[0m\u001b[1;33m(\u001b[0m\u001b[1;33m)\u001b[0m\u001b[1;33m\u001b[0m\u001b[0m\n\u001b[0;32m      3\u001b[0m     \u001b[0mprint\u001b[0m\u001b[1;33m(\u001b[0m\u001b[0mrst\u001b[0m\u001b[1;33m)\u001b[0m\u001b[1;33m\u001b[0m\u001b[0m\n",
      "\u001b[1;31mFileNotFoundError\u001b[0m: [Errno 2] No such file or directory: 'count2.txt'"
     ]
    }
   ],
   "source": [
    "with open(r\"count2.txt\", 'r') as f:   # ru\n",
    "    rst = f.read()\n",
    "    print(rst)"
   ]
  },
  {
   "cell_type": "code",
   "execution_count": 7,
   "metadata": {},
   "outputs": [
    {
     "name": "stdout",
     "output_type": "stream",
     "text": [
      "***\n"
     ]
    }
   ],
   "source": [
    "try:\n",
    "    with open(r\"count2.txt\", 'r') as f:\n",
    "        rst = f.read()\n",
    "except FileNotFoundError:\n",
    "    print(\"***\")\n",
    "    pass\n",
    "else:\n",
    "    print(rst)"
   ]
  },
  {
   "cell_type": "code",
   "execution_count": 23,
   "metadata": {},
   "outputs": [
    {
     "name": "stdout",
     "output_type": "stream",
     "text": [
      "['Jaguar', 'is', 'an', 'endangered', 'animal.', 'It', 'is', 'said', 'that', 'there', 'are', 'less', 'than', '20', 'jaguars', 'in', 'the', 'world', 'currently,', 'one', 'of', 'which', 'is', 'now', 'living', 'in', 'the', 'national', 'zoo', 'of', 'Peru.', 'In', 'order', 'to', 'protect', 'this', 'jaguar,', 'Peruvians', 'singled', 'out', 'a', 'pitch', 'of', 'land', 'in', 'the', 'zoo', 'for', 'it,', 'where', 'there', 'are', 'herds', 'of', 'cattle,', 'sheep', 'and', 'deer', 'for', 'the', 'jaguar', 'to', 'eat.', 'Anyone', 'who', 'has', 'visited', 'the', 'zoo', 'praised', 'it', 'to', 'be', 'the', '\"Heaven', 'of', 'Tiger\".', 'However,', 'strange', 'enough,', 'no', 'one', 'has', 'ever', 'seen', 'the', 'jaguar', 'prey', 'on', 'the', 'cattle', 'and', 'sheep.', 'What', 'we', 'could', 'see', 'is', 'its', 'lying', 'in', 'its', 'house', 'eating', 'and', 'sleeping.']\n",
      "<class 'list'>\n",
      "106\n"
     ]
    }
   ],
   "source": [
    "try:\n",
    "    with open(r\"count1.txt\", 'r') as f:\n",
    "        rst = f.read()\n",
    "        lis = rst.split()\n",
    "except FileNotFoundError:\n",
    "    print(\"***\")\n",
    "    pass\n",
    "else:\n",
    "    print(lis)\n",
    "    print(type(lis))\n",
    "    print(len(lis))\n",
    "        "
   ]
  },
  {
   "cell_type": "code",
   "execution_count": 11,
   "metadata": {},
   "outputs": [
    {
     "name": "stdout",
     "output_type": "stream",
     "text": [
      "There are about 106 words in the file count1.txt\n",
      "\n",
      "['Jaguar', 'is', 'an', 'endangered', 'animal.', 'It', 'is', 'said', 'that', 'there', 'are', 'less', 'than', '20', 'jaguars', 'in', 'the', 'world', 'currently,', 'one', 'of', 'which', 'is', 'now', 'living', 'in', 'the', 'national', 'zoo', 'of', 'Peru.', 'In', 'order', 'to', 'protect', 'this', 'jaguar,', 'Peruvians', 'singled', 'out', 'a', 'pitch', 'of', 'land', 'in', 'the', 'zoo', 'for', 'it,', 'where', 'there', 'are', 'herds', 'of', 'cattle,', 'sheep', 'and', 'deer', 'for', 'the', 'jaguar', 'to', 'eat.', 'Anyone', 'who', 'has', 'visited', 'the', 'zoo', 'praised', 'it', 'to', 'be', 'the', '\"Heaven', 'of', 'Tiger\".', 'However,', 'strange', 'enough,', 'no', 'one', 'has', 'ever', 'seen', 'the', 'jaguar', 'prey', 'on', 'the', 'cattle', 'and', 'sheep.', 'What', 'we', 'could', 'see', 'is', 'its', 'lying', 'in', 'its', 'house', 'eating', 'and', 'sleeping.']\n",
      "<class 'list'>\n",
      "106\n"
     ]
    }
   ],
   "source": [
    "def count_words(file_name):\n",
    "    try:\n",
    "        with open(file_name, 'r') as f:\n",
    "            rst = f.read()\n",
    "            lis = rst.split()\n",
    "            num = len(lis)\n",
    "    except FileNotFoundError:\n",
    "        print(\"***\")\n",
    "        pass\n",
    "    else:\n",
    "        print(\"There are about \" + str(num) + \" words in the file \" + file_name)\n",
    "        print()\n",
    "        print(lis)\n",
    "        print(type(lis))\n",
    "        print(num)\n",
    "        \n",
    "file_name = \"count1.txt\"\n",
    "count_words(file_name)# 将上面统计文件大概包含多少个单词的代码封装到函数中"
   ]
  },
  {
   "cell_type": "code",
   "execution_count": 14,
   "metadata": {},
   "outputs": [
    {
     "name": "stdout",
     "output_type": "stream",
     "text": [
      "There are about 106 words in the file count1.txt\n",
      "<class 'list'>\n",
      "106\n",
      "***\n",
      "There are about 55 words in the file count3.txt\n",
      "<class 'list'>\n",
      "55\n"
     ]
    }
   ],
   "source": [
    "# 同时检索多个文件\n",
    "def count_words(file_name):\n",
    "    try:\n",
    "        with open(file_name, 'r') as f:\n",
    "            rst = f.read()\n",
    "            lis = rst.split()\n",
    "            num = len(lis)\n",
    "    except FileNotFoundError:\n",
    "        print(\"***\")\n",
    "        pass\n",
    "    else:\n",
    "        print(\"There are about \" + str(num) + \" words in the file \" + file_name)\n",
    "        # print()\n",
    "        # print(lis)\n",
    "        print(type(lis))\n",
    "        print(num)\n",
    "        \n",
    "file_names = ['count1.txt', 'count2.txt', 'count3.txt']\n",
    "for file_name in file_names:\n",
    "    count_words(file_name)# 将上面统计文件大概包含多少个单词的代码封装到函数中"
   ]
  },
  {
   "cell_type": "code",
   "execution_count": 7,
   "metadata": {},
   "outputs": [
    {
     "name": "stdout",
     "output_type": "stream",
     "text": [
      "***\n"
     ]
    }
   ],
   "source": []
  },
  {
   "cell_type": "code",
   "execution_count": null,
   "metadata": {},
   "outputs": [],
   "source": []
  }
 ],
 "metadata": {
  "kernelspec": {
   "display_name": "Python 3",
   "language": "python",
   "name": "python3"
  },
  "language_info": {
   "codemirror_mode": {
    "name": "ipython",
    "version": 3
   },
   "file_extension": ".py",
   "mimetype": "text/x-python",
   "name": "python",
   "nbconvert_exporter": "python",
   "pygments_lexer": "ipython3",
   "version": "3.7.0"
  }
 },
 "nbformat": 4,
 "nbformat_minor": 2
}
