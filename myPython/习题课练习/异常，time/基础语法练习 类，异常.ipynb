{
 "cells": [
  {
   "cell_type": "markdown",
   "metadata": {},
   "source": [
    "#### 编写一个计算减法的方法，当第二个数小于第一个数的时候，抛出被减数不能小于减数"
   ]
  },
  {
   "cell_type": "code",
   "execution_count": 4,
   "metadata": {},
   "outputs": [
    {
     "name": "stdout",
     "output_type": "stream",
     "text": [
      "好像出错了，出错的内容是被减数不能小于减数\n"
     ]
    }
   ],
   "source": [
    "def jianfa(a,b):\n",
    "    if a < b:\n",
    "        raise BaseException(\"被减数不能小于减数\")\n",
    "        \n",
    "    else:\n",
    "        print(a - b)\n",
    "    \n",
    "try:\n",
    "    jianfa(3, 7)\n",
    "except BaseException as error:\n",
    "    print(\"好像出错了，出错的内容是{0}\".format(error))"
   ]
  },
  {
   "cell_type": "markdown",
   "metadata": {},
   "source": [
    "#### 定义一个函数fun(filename)filename: 文件路径，函数功能：打开文件，并且返回文件内容，最后关闭，用异常来处理可能发生的错误"
   ]
  },
  {
   "cell_type": "code",
   "execution_count": 9,
   "metadata": {},
   "outputs": [
    {
     "name": "stdout",
     "output_type": "stream",
     "text": [
      "出错了，出错的内容是[Errno 2] No such file or directory: 'hahaha.txt'\n",
      "None\n"
     ]
    }
   ],
   "source": [
    "import os\n",
    "\n",
    "def func(filename):\n",
    "    try:\n",
    "        file = open(filename)\n",
    "    except Exception as error:\n",
    "        print(\"出错了，出错的内容是{0}\".format(error))\n",
    "    else:\n",
    "        print(file.read)\n",
    "        file.close()\n",
    "        \n",
    "t = func(\"hahaha.txt\")\n",
    "print(t)"
   ]
  },
  {
   "cell_type": "markdown",
   "metadata": {},
   "source": [
    "#### 自己定义一个异常类，继承Exception类，捕获下面的过程：判断输入的字符串长度是否小于5"
   ]
  },
  {
   "cell_type": "code",
   "execution_count": 14,
   "metadata": {},
   "outputs": [
    {
     "name": "stdout",
     "output_type": "stream",
     "text": [
      "haha，算你聪明\n"
     ]
    }
   ],
   "source": [
    "class MyError(Exception):\n",
    "    def __init__(self,stri):\n",
    "        self.stri = stri\n",
    "        \n",
    "    def process(self):\n",
    "        if len(self.stri) < 5:\n",
    "            print(\"字符串的长度必须大于5\")\n",
    "            \n",
    "        else:\n",
    "            print(\"haha，算你聪明\")\n",
    "            \n",
    "try:\n",
    "    er = MyError(\"ssa122a\")\n",
    "    er.process()\n",
    "    \n",
    "except MyError as err:\n",
    "    print(\"error\")"
   ]
  },
  {
   "cell_type": "markdown",
   "metadata": {},
   "source": [
    "#### 写一个6位随机验证码程序(使用random模块)，要求验证码啊中至少包含一个数字，一个小写字母，一个大写字母"
   ]
  },
  {
   "cell_type": "code",
   "execution_count": 4,
   "metadata": {},
   "outputs": [
    {
     "name": "stdout",
     "output_type": "stream",
     "text": [
      "['b', 'I', '3', 'M', 'Y', 'u']\n",
      "bI3MYu\n"
     ]
    }
   ],
   "source": [
    "import random\n",
    "import string\n",
    "\n",
    "# help(string)\n",
    "\n",
    "code = []\n",
    "code.append(random.choice(string.ascii_lowercase)) # 保证验证码中有一个小写字母\n",
    "code.append(random.choice(string.ascii_uppercase)) # 保证验证码中有一个大写字母\n",
    "code.append(random.choice(string.digits)) # 保证验证码中有数字\n",
    "\n",
    "while len(code) < 6:\n",
    "    code.append(random.choice(string.ascii_lowercase+string.ascii_uppercase+string.digits))\n",
    "    \n",
    "# print(code) \n",
    "\n",
    "q_code = \"\".join(code)\n",
    "print(q_code)"
   ]
  },
  {
   "cell_type": "markdown",
   "metadata": {},
   "source": [
    "#### 写一个用户登录 验证程序，文件如下1234.json\n",
    "\n",
    "1234.json\n",
    "\n",
    "{\"expire_date\":\"2021-01-01\",\"id\":\"1234\",\"status\":0,\"pay_day\":22,\"password\":\"abc\"}\n",
    "\n",
    "    - 用户名为json的文件名\n",
    "    - 判断是否过期，与expire-date作比较\n",
    "    - 登录成功后打印登陆成功，三次登陆失败，status的值改为1，并且锁定账号"
   ]
  },
  {
   "cell_type": "code",
   "execution_count": 4,
   "metadata": {},
   "outputs": [
    {
     "name": "stdout",
     "output_type": "stream",
     "text": [
      "请输入用户名：123\n",
      "用户不存在\n",
      "请输入用户名：1234\n"
     ]
    },
    {
     "ename": "ValueError",
     "evalue": "time data '2021-01-01' does not match format '%y-%m-%d'",
     "output_type": "error",
     "traceback": [
      "\u001b[1;31m---------------------------------------------------------------------------\u001b[0m",
      "\u001b[1;31mValueError\u001b[0m                                Traceback (most recent call last)",
      "\u001b[1;32m<ipython-input-4-7e995e4d7c5b>\u001b[0m in \u001b[0;36m<module>\u001b[1;34m()\u001b[0m\n\u001b[0;32m     19\u001b[0m             \u001b[0mexpire_dt\u001b[0m \u001b[1;33m=\u001b[0m \u001b[0mj_user\u001b[0m\u001b[1;33m[\u001b[0m\u001b[1;34m'expire_date'\u001b[0m\u001b[1;33m]\u001b[0m\u001b[1;33m\u001b[0m\u001b[0m\n\u001b[0;32m     20\u001b[0m             \u001b[0mcurrent_st\u001b[0m \u001b[1;33m=\u001b[0m \u001b[0mtime\u001b[0m\u001b[1;33m.\u001b[0m\u001b[0mtime\u001b[0m\u001b[1;33m(\u001b[0m\u001b[1;33m)\u001b[0m\u001b[1;33m\u001b[0m\u001b[0m\n\u001b[1;32m---> 21\u001b[1;33m             \u001b[0mexpire_st\u001b[0m \u001b[1;33m=\u001b[0m \u001b[0mtime\u001b[0m\u001b[1;33m.\u001b[0m\u001b[0mmktime\u001b[0m\u001b[1;33m(\u001b[0m\u001b[0mtime\u001b[0m\u001b[1;33m.\u001b[0m\u001b[0mstrptime\u001b[0m\u001b[1;33m(\u001b[0m\u001b[0mexpire_dt\u001b[0m\u001b[1;33m,\u001b[0m\u001b[1;34m\"%y-%m-%d\"\u001b[0m\u001b[1;33m)\u001b[0m\u001b[1;33m)\u001b[0m\u001b[1;33m\u001b[0m\u001b[0m\n\u001b[0m\u001b[0;32m     22\u001b[0m \u001b[1;33m\u001b[0m\u001b[0m\n\u001b[0;32m     23\u001b[0m             \u001b[1;32mif\u001b[0m \u001b[0mcurrent_st\u001b[0m \u001b[1;33m>\u001b[0m \u001b[0mexpire_st\u001b[0m\u001b[1;33m:\u001b[0m\u001b[1;33m\u001b[0m\u001b[0m\n",
      "\u001b[1;32m~\\anoconda\\lib\\_strptime.py\u001b[0m in \u001b[0;36m_strptime_time\u001b[1;34m(data_string, format)\u001b[0m\n\u001b[0;32m    569\u001b[0m     \"\"\"Return a time struct based on the input string and the\n\u001b[0;32m    570\u001b[0m     format string.\"\"\"\n\u001b[1;32m--> 571\u001b[1;33m     \u001b[0mtt\u001b[0m \u001b[1;33m=\u001b[0m \u001b[0m_strptime\u001b[0m\u001b[1;33m(\u001b[0m\u001b[0mdata_string\u001b[0m\u001b[1;33m,\u001b[0m \u001b[0mformat\u001b[0m\u001b[1;33m)\u001b[0m\u001b[1;33m[\u001b[0m\u001b[1;36m0\u001b[0m\u001b[1;33m]\u001b[0m\u001b[1;33m\u001b[0m\u001b[0m\n\u001b[0m\u001b[0;32m    572\u001b[0m     \u001b[1;32mreturn\u001b[0m \u001b[0mtime\u001b[0m\u001b[1;33m.\u001b[0m\u001b[0mstruct_time\u001b[0m\u001b[1;33m(\u001b[0m\u001b[0mtt\u001b[0m\u001b[1;33m[\u001b[0m\u001b[1;33m:\u001b[0m\u001b[0mtime\u001b[0m\u001b[1;33m.\u001b[0m\u001b[0m_STRUCT_TM_ITEMS\u001b[0m\u001b[1;33m]\u001b[0m\u001b[1;33m)\u001b[0m\u001b[1;33m\u001b[0m\u001b[0m\n\u001b[0;32m    573\u001b[0m \u001b[1;33m\u001b[0m\u001b[0m\n",
      "\u001b[1;32m~\\anoconda\\lib\\_strptime.py\u001b[0m in \u001b[0;36m_strptime\u001b[1;34m(data_string, format)\u001b[0m\n\u001b[0;32m    357\u001b[0m     \u001b[1;32mif\u001b[0m \u001b[1;32mnot\u001b[0m \u001b[0mfound\u001b[0m\u001b[1;33m:\u001b[0m\u001b[1;33m\u001b[0m\u001b[0m\n\u001b[0;32m    358\u001b[0m         raise ValueError(\"time data %r does not match format %r\" %\n\u001b[1;32m--> 359\u001b[1;33m                          (data_string, format))\n\u001b[0m\u001b[0;32m    360\u001b[0m     \u001b[1;32mif\u001b[0m \u001b[0mlen\u001b[0m\u001b[1;33m(\u001b[0m\u001b[0mdata_string\u001b[0m\u001b[1;33m)\u001b[0m \u001b[1;33m!=\u001b[0m \u001b[0mfound\u001b[0m\u001b[1;33m.\u001b[0m\u001b[0mend\u001b[0m\u001b[1;33m(\u001b[0m\u001b[1;33m)\u001b[0m\u001b[1;33m:\u001b[0m\u001b[1;33m\u001b[0m\u001b[0m\n\u001b[0;32m    361\u001b[0m         raise ValueError(\"unconverted data remains: %s\" %\n",
      "\u001b[1;31mValueError\u001b[0m: time data '2021-01-01' does not match format '%y-%m-%d'"
     ]
    }
   ],
   "source": [
    "import os\n",
    "import time\n",
    "import json\n",
    "\n",
    "count = 0\n",
    "\n",
    "exit_flag = False\n",
    "\n",
    "while count < 3:\n",
    "    user = input(\"请输入用户名：\")\n",
    "    f = user.strip() + \".json\"\n",
    "    if os.path.exists(f):\n",
    "        fp = open(f, \"r\", encoding = \"utf-8\")\n",
    "        j_user = json.load(fp)\n",
    "        if j_user['status'] == 1:\n",
    "            print(\"账号已锁定\")\n",
    "            break\n",
    "        else:\n",
    "            expire_dt = j_user['expire_date']\n",
    "            current_st = time.time()\n",
    "            expire_st = time.mktime(time.strptime(expire_dt,\"%y-%m-%d\"))\n",
    "            \n",
    "            if current_st > expire_st:\n",
    "                print(\"用户已过期\")\n",
    "                break\n",
    "                \n",
    "            else:\n",
    "                while count < 3:\n",
    "                    pwd = input(\"请输入密码：\")\n",
    "                    if pwd.strip() == j_user['password']:\n",
    "                        print(\"登陆成功\")\n",
    "                        exit_flag = Ture\n",
    "                        break\n",
    "                    \n",
    "                    else:\n",
    "                        if count == 2:\n",
    "                            print(\"用户登录已经超过三次，账号已经被锁定\")\n",
    "                            j_user['status'] = 1\n",
    "                            fp.seek(0)\n",
    "                            fp.truncate() # 清空文件内容\n",
    "                            json.dump(j_user, fp)\n",
    "                    count += 1\n",
    "                    \n",
    "    if exit_flag:\n",
    "        break\n",
    "    else:\n",
    "        print(\"用户不存在\")\n",
    "        count += 1"
   ]
  },
  {
   "cell_type": "markdown",
   "metadata": {},
   "source": [
    "利用map函数，把用户输入的不规范的英文，变成首字母大写，其他小写的规范名字：比如说[\"ADMAm\",\"LISA\",\"JACk\",][\"Admam\",\"Lisa\",\"jack\"]"
   ]
  },
  {
   "cell_type": "code",
   "execution_count": 8,
   "metadata": {},
   "outputs": [
    {
     "name": "stdout",
     "output_type": "stream",
     "text": [
      "Admam\n",
      "Lisa\n",
      "Jack\n"
     ]
    },
    {
     "data": {
      "text/plain": [
       "[None, None, None]"
      ]
     },
     "execution_count": 8,
     "metadata": {},
     "output_type": "execute_result"
    }
   ],
   "source": [
    "def standards(s):\n",
    "#    t = '0'\n",
    "    t = s.lower()# 将s全部小写\n",
    "    t = t.capitalize()# 将t的首字母大写\n",
    "    print(t)\n",
    "    # return t\n",
    "\n",
    "list(map(standards,[\"ADMAm\",\"LISA\",\"JACk\"]))"
   ]
  },
  {
   "cell_type": "code",
   "execution_count": null,
   "metadata": {},
   "outputs": [],
   "source": []
  }
 ],
 "metadata": {
  "kernelspec": {
   "display_name": "Python 3",
   "language": "python",
   "name": "python3"
  },
  "language_info": {
   "codemirror_mode": {
    "name": "ipython",
    "version": 3
   },
   "file_extension": ".py",
   "mimetype": "text/x-python",
   "name": "python",
   "nbconvert_exporter": "python",
   "pygments_lexer": "ipython3",
   "version": "3.7.0"
  }
 },
 "nbformat": 4,
 "nbformat_minor": 2
}
