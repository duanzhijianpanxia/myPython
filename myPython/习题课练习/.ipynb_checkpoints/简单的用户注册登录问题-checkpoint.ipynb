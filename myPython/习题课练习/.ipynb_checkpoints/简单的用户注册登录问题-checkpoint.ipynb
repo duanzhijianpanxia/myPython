{
 "cells": [
  {
   "cell_type": "code",
   "execution_count": 1,
   "metadata": {},
   "outputs": [],
   "source": [
    "#写一个程序来管理用于登陆系统的用户信息：登陆名字和密码。 登陆用户账号建立后，已存在用户可以用登陆名字和密码重返系统，\n",
    "#新用户不能用别人的用户名建立用户账号\n"
   ]
  },
  {
   "cell_type": "code",
   "execution_count": 30,
   "metadata": {},
   "outputs": [
    {
     "name": "stdout",
     "output_type": "stream",
     "text": [
      "登陆成功\n"
     ]
    }
   ],
   "source": [
    "# 模拟从数据库中调出来的用户名称和密码\n",
    "user_pass = {\"asdfjk\":\"password\", \"huniu\":\"admin\"}\n",
    "\n",
    "def creat_user(username, password):\n",
    "    # usename:用户创建账号的用户名\n",
    "     # password：用户创建账号的密码\n",
    "    \n",
    "# 判断，用户输入的账号是否已存在\n",
    "    usernames = user_pass.keys()\n",
    "    \n",
    "    if username in usernames:\n",
    "        print(\"该名称已经被注册，请换一个重试\")\n",
    "    \n",
    "    else:\n",
    "                # 没有注册，那么更新我们的user_pass\n",
    "                # 实际情况是持久化存储到数据库中\n",
    "        \n",
    "        user_pass[username] = password\n",
    "        print(\"恭喜你，注册成功，你已经是我们的一员了\")\n",
    "        \n",
    "\n",
    "def login_user(username, password):\n",
    "    # 首先要判断登录的用户是否存在\n",
    "    \n",
    "    usernames = user_pass.keys()\n",
    "    \n",
    "    if username not in usernames:\n",
    "        print(\"你可拉倒吧，你丫根本不是我们会员\")\n",
    "    elif password != user_pass[username]:\n",
    "        # 判断用户的密码是否正确\n",
    "        print(\"你是猪吗，密码都记不住\")\n",
    "    else:\n",
    "         print(\"登陆成功\")\n",
    "            \n",
    "login_user(\"asdfjk\", \"password\")"
   ]
  },
  {
   "cell_type": "code",
   "execution_count": 23,
   "metadata": {},
   "outputs": [
    {
     "name": "stdout",
     "output_type": "stream",
     "text": [
      "该名称已经被注册，请换一个重试\n",
      "{'asdfjk': 'password', 'huniu': 'admin', 'laotie': 'password'}\n"
     ]
    }
   ],
   "source": [
    "creat_user(\"huniu\", \"123\")\n",
    "print(user_pass)"
   ]
  }
 ],
 "metadata": {
  "kernelspec": {
   "display_name": "Python 3",
   "language": "python",
   "name": "python3"
  },
  "language_info": {
   "codemirror_mode": {
    "name": "ipython",
    "version": 3
   },
   "file_extension": ".py",
   "mimetype": "text/x-python",
   "name": "python",
   "nbconvert_exporter": "python",
   "pygments_lexer": "ipython3",
   "version": "3.7.0"
  }
 },
 "nbformat": 4,
 "nbformat_minor": 2
}
