{
 "cells": [
  {
   "cell_type": "code",
   "execution_count": 6,
   "metadata": {},
   "outputs": [
    {
     "name": "stdout",
     "output_type": "stream",
     "text": [
      "请输入密码*\n",
      "密码中不能有*，请重新输入\n",
      "请输入密码*\n",
      "密码中不能有*，请重新输入\n",
      "请输入密码*\n",
      "密码中不能有*，请重新输入\n",
      "请输入密码3\n",
      "密码错误请重新输入密码\n",
      "请输入密码3\n",
      "密码错误请重新输入密码\n",
      "请输入密码3\n",
      "您的操作超限，请稍后再试\n"
     ]
    }
   ],
   "source": [
    "# 设计一个验证用户密码的程序，\n",
    "#用户有三次机会，密码中如果出现*号提示用户密码中不能包含*请重新输入，并且这次输入不计数\n",
    "#如果常规输错密码三次提示操作超时\n",
    "\n",
    "passwd = \"abc123\"\n",
    "times = 3\n",
    "\n",
    "while times:\n",
    "    \n",
    "    input_passwd = input('请输入密码')\n",
    "    if \"*\" in input_passwd:\n",
    "        print(\"密码中不能有*，请重新输入\")\n",
    "        continue\n",
    "        \n",
    "    else:\n",
    "        if input_passwd == passwd:\n",
    "            print(\"登陆成功\")\n",
    "            break\n",
    "        \n",
    "        else:\n",
    "            times -= 1\n",
    "            \n",
    "            if times == 2 or times ==1:\n",
    "                print(\"密码错误请重新输入密码\")\n",
    "                \n",
    "            else:\n",
    "                print(\"您的操作超限，请稍后再试\")"
   ]
  },
  {
   "cell_type": "code",
   "execution_count": 1,
   "metadata": {},
   "outputs": [
    {
     "name": "stdout",
     "output_type": "stream",
     "text": [
      "请输入密码*\n",
      "密码中不能有*，请冲刺你输入\n",
      "请输入密码*\n",
      "密码中不能有*，请冲刺你输入\n",
      "请输入密码*\n",
      "密码中不能有*，请冲刺你输入\n",
      "请输入密码3\n",
      "密码错误请重新输入\n",
      "请输入密码3\n",
      "密码错误请重新输入\n",
      "请输入密码3\n",
      "密码错误请重新输入\n"
     ]
    }
   ],
   "source": [
    "paswd = 123321\n",
    "times = 3\n",
    "\n",
    "while times:\n",
    "    input_paswd = input(\"请输入密码\")\n",
    "    \n",
    "    if \"*\" in input_paswd:\n",
    "        print(\"密码中不能有*，请冲刺你输入\")\n",
    "        continue\n",
    "        \n",
    "    elif input_paswd == paswd:\n",
    "        print(\"登陆成功\")\n",
    "        break\n",
    "        \n",
    "    else:\n",
    "        print(\"密码错误请重新输入\")\n",
    "        times -= 1"
   ]
  },
  {
   "cell_type": "code",
   "execution_count": 7,
   "metadata": {},
   "outputs": [
    {
     "name": "stdout",
     "output_type": "stream",
     "text": [
      "153\n",
      "370\n",
      "371\n",
      "407\n"
     ]
    }
   ],
   "source": [
    "# 编写一个程序求出100-999之间的水仙花数\n",
    "#如果一个三位数等于各个位数字的立方和，则称这个数为水仙花数\n",
    "for i in range(100,1000):\n",
    "    \n",
    "    l = list(str(i))\n",
    "    \n",
    "    a = int(l[0])    \n",
    "    \n",
    "    b = int(l[1])\n",
    "        \n",
    "    c = int(l[2])   \n",
    "    \n",
    "    if (a**3) + (b**3) + (c**3) == i:\n",
    "         print(i)\n",
    "    "
   ]
  },
  {
   "cell_type": "code",
   "execution_count": 14,
   "metadata": {},
   "outputs": [
    {
     "name": "stdout",
     "output_type": "stream",
     "text": [
      "153\n",
      "370\n",
      "371\n",
      "407\n"
     ]
    }
   ],
   "source": [
    "# 编写一个程序求出100-999之间的水仙花数\n",
    "#如果一个三位数等于各个位数字的立方和，则称这个数为水仙花数\n",
    "for i in range(100,1000):\n",
    "    \n",
    "    l = list(str(i))\n",
    "    \n",
    "    a,b,c = int(l[0]),int(l[1]),int(l[2])\n",
    "\n",
    "    if (a**3) + (b**3) + (c**3) == i:\n",
    "         print(i)\n",
    "    "
   ]
  },
  {
   "cell_type": "code",
   "execution_count": 10,
   "metadata": {},
   "outputs": [
    {
     "name": "stdout",
     "output_type": "stream",
     "text": [
      "1 2 3\n"
     ]
    }
   ],
   "source": [
    "a,b,c = 1,2,3\n",
    "print(a,b,c)"
   ]
  },
  {
   "cell_type": "code",
   "execution_count": 23,
   "metadata": {},
   "outputs": [
    {
     "name": "stdout",
     "output_type": "stream",
     "text": [
      "r:0    y:2    g:6    \n",
      "r:0    y:3    g:5    \n",
      "r:1    y:1    g:6    \n",
      "r:1    y:2    g:5    \n",
      "r:1    y:3    g:4    \n",
      "r:2    y:0    g:6    \n",
      "r:2    y:1    g:5    \n",
      "r:2    y:2    g:4    \n",
      "r:2    y:3    g:3    \n",
      "r:3    y:0    g:5    \n",
      "r:3    y:1    g:4    \n",
      "r:3    y:2    g:3    \n",
      "r:3    y:3    g:2    \n"
     ]
    }
   ],
   "source": [
    "# 三色球问题\n",
    "# 袋子里面有红球三个，黄球三个，绿球6个，每次拿8个球出来，编程输出所有可能的结果\n",
    "for r in range(0,4):\n",
    "    for y in range(0,4):\n",
    "        for g in range(2,7):\n",
    "            if r + y +g ==8:\n",
    "                print(\"r:{0}\".format(r),end= \"    \")\n",
    "                print(\"y:{0}\".format(y),end= \"    \")\n",
    "                print(\"g:{0}\".format(g),end= \"    \")\n",
    "                print()"
   ]
  },
  {
   "cell_type": "code",
   "execution_count": 19,
   "metadata": {},
   "outputs": [
    {
     "name": "stdout",
     "output_type": "stream",
     "text": [
      "r: 0   y: 2   g: 6   \n",
      "r: 0   y: 3   g: 5   \n",
      "r: 1   y: 1   g: 6   \n",
      "r: 1   y: 2   g: 5   \n",
      "r: 1   y: 3   g: 4   \n",
      "r: 2   y: 0   g: 6   \n",
      "r: 2   y: 1   g: 5   \n",
      "r: 2   y: 2   g: 4   \n",
      "r: 2   y: 3   g: 3   \n",
      "r: 3   y: 0   g: 5   \n",
      "r: 3   y: 1   g: 4   \n",
      "r: 3   y: 2   g: 3   \n",
      "r: 3   y: 3   g: 2   \n"
     ]
    }
   ],
   "source": [
    "# 三色球问题\n",
    "# 袋子里面有红球三个，黄球三个，绿球6个，每次拿8个球出来，编程输出所有可能的结果\n",
    "for r in range(0,4):\n",
    "    for y in range(0,4):\n",
    "        for g in range(2,7):\n",
    "            if r + y +g ==8:\n",
    "                print(\"r:\",r,end= \"    \")\n",
    "                print(\"y:\",y,end= \"    \")\n",
    "                print(\"g:\",g,end= \"    \")\n",
    "                print()"
   ]
  }
 ],
 "metadata": {
  "kernelspec": {
   "display_name": "Python 3",
   "language": "python",
   "name": "python3"
  },
  "language_info": {
   "codemirror_mode": {
    "name": "ipython",
    "version": 3
   },
   "file_extension": ".py",
   "mimetype": "text/x-python",
   "name": "python",
   "nbconvert_exporter": "python",
   "pygments_lexer": "ipython3",
   "version": "3.7.0"
  }
 },
 "nbformat": 4,
 "nbformat_minor": 2
}
