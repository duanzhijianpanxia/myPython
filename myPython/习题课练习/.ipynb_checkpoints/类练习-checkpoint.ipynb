{
 "cells": [
  {
   "cell_type": "markdown",
   "metadata": {},
   "source": [
    "### 定义一个学生类，包含以下类属性\n",
    "\n",
    "    1.姓名\n",
    "    2.年龄\n",
    "    3.成绩（语文，数学，英语）每科成绩类型为整数类方法\n",
    "    4.获取学生姓名：get_name()返回类型：str\n",
    "    5.获取学生年龄：get_age()返回类型：int\n",
    "    6.返回三门科目中最高分数，get_course(),返回类型：int"
   ]
  },
  {
   "cell_type": "code",
   "execution_count": 5,
   "metadata": {},
   "outputs": [
    {
     "name": "stdout",
     "output_type": "stream",
     "text": [
      "wangxiaomei\n",
      "26\n",
      "100\n",
      "1\n"
     ]
    }
   ],
   "source": [
    "class Student(object):\n",
    "    def __init__(self, name, age, course):\n",
    "        self.name = name\n",
    "        self.age = age\n",
    "        self.course = course\n",
    "        \n",
    "    def get_name(self):\n",
    "        return self.name\n",
    "    \n",
    "    def get_age(self):\n",
    "        return self.age\n",
    "    \n",
    "    def get_course(self):\n",
    "        return max(self.course)\n",
    "    \n",
    "xx = Student(\"wangxiaomei\", 26, [80, 90,100])\n",
    "print(xx.get_name())\n",
    "print(xx.get_age())\n",
    "print(xx.get_course())\n",
    "\n",
    "\n",
    "print(min([1,34,6,67,3]))"
   ]
  },
  {
   "cell_type": "markdown",
   "metadata": {},
   "source": [
    "### 定义一个字典类：dictClass，完成如下功能\n",
    "    \n",
    "    1.删除摸个key del_dict(key)\n",
    "    2.判断某个键是否在字典里，如果在返回对应值，否则返回‘not found’ get_dict()\n",
    "    3.返回键组成的列表， 返回类型：list     get_key()\n",
    "    4.合并字典，并且反水合并后的字典的value组成的列表，返回类型：list    update（）\n",
    "    "
   ]
  },
  {
   "cell_type": "code",
   "execution_count": 14,
   "metadata": {},
   "outputs": [
    {
     "name": "stdout",
     "output_type": "stream",
     "text": [
      "删除成功\n",
      "dict_values([1, 2, 4])\n"
     ]
    }
   ],
   "source": [
    "class DictClass(object):\n",
    "    \n",
    "    def __init__(self, dict):\n",
    "        self.dict = dict\n",
    "        \n",
    "    def del_dict(self, key):\n",
    "        # 判断key是否在字典里\n",
    "        if key not in self.dict.keys():\n",
    "            print(\"not found\")\n",
    "            \n",
    "        else:\n",
    "            self.dict.pop(key)\n",
    "            return \"删除成功\"\n",
    "        \n",
    "    def get_dict(self, key):\n",
    "        if key not in self.dict.keys():\n",
    "            print(\"not found\")\n",
    "        else:\n",
    "            return self.dict[key]\n",
    "        \n",
    "    def get_key(self):\n",
    "        return self.dict.keys()\n",
    "    \n",
    "    def update_dict(self, dict2):\n",
    "        self.dict = dict(self.dict, **dict2)\n",
    "        return self.dict.values()\n",
    "    \n",
    "    \n",
    "d = DictClass({\"a\":1, \"b\":2, \"c\":3})\n",
    "print(d.del_dict('c'))\n",
    "print(d.update_dict({\"four\":4}))"
   ]
  },
  {
   "cell_type": "markdown",
   "metadata": {},
   "source": [
    "### 定义一个列表的操作类ListInfo\n",
    "\n",
    "包括方法：\n",
    "\n",
    "    1.列表元素添加：add_key()添加必须是数字或者字符串\n",
    "    2.列表元素取值：get_key()\n",
    "    3.列表合并：uupdate_list(list)\n",
    "    4.删除并返回最后一个元素：del_key()"
   ]
  },
  {
   "cell_type": "code",
   "execution_count": 45,
   "metadata": {},
   "outputs": [
    {
     "name": "stdout",
     "output_type": "stream",
     "text": [
      "[1, 2, 3, 4, 5]\n",
      "5\n"
     ]
    },
    {
     "data": {
      "text/plain": [
       "[1, 2, 3, 4]"
      ]
     },
     "execution_count": 45,
     "metadata": {},
     "output_type": "execute_result"
    }
   ],
   "source": [
    "class ListInfo(object):\n",
    "    \n",
    "    def __init__(self, list_val):\n",
    "        self.list = list_val\n",
    "        \n",
    "    def add_key(self,key_name):\n",
    "        # 添加的key必须是字符串或者数字\n",
    "        if isinstance(key_name,(str,int)):\n",
    "            self.list.append(key_name)\n",
    "            print(self.list)\n",
    "            return \"OK\"\n",
    "            \n",
    "        else:\n",
    "            return \"我要的是字符串或者数字\"\n",
    "        \n",
    "    def get_key(self,index):\n",
    "        # 判断传入的索引是否超出了列表范围\n",
    "        if index >= 0 and index <= len(self.list):\n",
    "            return self.list[index]\n",
    "        return \"你输入的太多了，不要想当然\"\n",
    "    \n",
    "    def update_list(self, new_list):\n",
    "        self.list.extend(new_list)\n",
    "        return self.list\n",
    "        \n",
    "    def del_key(self):\n",
    "        # 首先要判断列表是否为空\n",
    "        if len(self.list) >= 0:\n",
    "            print(self.list)\n",
    "            print(self.list.pop(-1))\n",
    "            return self.list\n",
    "        else:\n",
    "            return \"这是一个空列表，无法执行该操作\"\n",
    "        \n",
    "list_info = ListInfo([1,2,3,4,5])\n",
    "# list_info.add_key('a')\n",
    "# list_info.get_key(5)\n",
    "# list_info.update_list([7,8.9])\n",
    "list_info.del_key()"
   ]
  },
  {
   "cell_type": "markdown",
   "metadata": {},
   "source": [
    "### 定义一个集合的操作类\n",
    "\n",
    "包括方法：\n",
    "\n",
    "    1.集合元素添加：add_setinfo()\n",
    "    2.集合的交集：get_intersecton()\n",
    "    3.集合的并集：get_union()\n",
    "    4.集合的差集：del_difference()"
   ]
  },
  {
   "cell_type": "code",
   "execution_count": 7,
   "metadata": {},
   "outputs": [
    {
     "name": "stdout",
     "output_type": "stream",
     "text": [
      "{1, 2, 3}\n"
     ]
    }
   ],
   "source": [
    "class SecInfo(object):\n",
    "    \n",
    "    def __init__(self, my_set):\n",
    "        self.set = my_set\n",
    "        \n",
    "    def add_setinfo(self, keyname):\n",
    "        self.set.add(keyname)\n",
    "        return self.set\n",
    "    \n",
    "    def get_intersection(self, unioninfo):\n",
    "        if isinstance(unioninfo, set):\n",
    "            return self.set & unioninfo\n",
    "        else:\n",
    "            return \"你传入的不是set\"\n",
    "        \n",
    "    def get_union(self,unioninfo):\n",
    "        if isinstance(unioninfo, set):\n",
    "            return self.set | unioninfo\n",
    "        else:\n",
    "            return \"你传入的不是set\"\n",
    "        \n",
    "    def get_difference(self, unioninfo):\n",
    "        if isinstance(unioninfo, set):\n",
    "            return self.set - unioninfo\n",
    "        else:\n",
    "            return \"你传入的不是set\"\n",
    "A = set([1,2,3,4,5])\n",
    "B = set([4,5,6,7])\n",
    "my_set = SecInfo(A)\n",
    "# print(my_set.add_setinfo(6))\n",
    "# print(my_set.get_intersection(B))\n",
    "# print(my_set.get_union(B))\n",
    "print(my_set.get_difference(B))"
   ]
  },
  {
   "cell_type": "code",
   "execution_count": null,
   "metadata": {},
   "outputs": [],
   "source": []
  }
 ],
 "metadata": {
  "kernelspec": {
   "display_name": "Python 3",
   "language": "python",
   "name": "python3"
  },
  "language_info": {
   "codemirror_mode": {
    "name": "ipython",
    "version": 3
   },
   "file_extension": ".py",
   "mimetype": "text/x-python",
   "name": "python",
   "nbconvert_exporter": "python",
   "pygments_lexer": "ipython3",
   "version": "3.7.0"
  }
 },
 "nbformat": 4,
 "nbformat_minor": 2
}
