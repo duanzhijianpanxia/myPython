{
 "cells": [
  {
   "cell_type": "markdown",
   "metadata": {},
   "source": [
    "#### 编写一个计算减法的方法，当第二个数小于第一个数的时候，抛出被减数不能小于减数"
   ]
  },
  {
   "cell_type": "code",
   "execution_count": 4,
   "metadata": {},
   "outputs": [
    {
     "name": "stdout",
     "output_type": "stream",
     "text": [
      "好像出错了，出错的内容是被减数不能小于减数\n"
     ]
    }
   ],
   "source": [
    "def jianfa(a,b):\n",
    "    if a < b:\n",
    "        raise BaseException(\"被减数不能小于减数\")\n",
    "        \n",
    "    else:\n",
    "        return a - b\n",
    "    \n",
    "try:\n",
    "    jianfa(2, 7)\n",
    "except BaseException as error:\n",
    "    print(\"好像出错了，出错的内容是{0}\".format(error))"
   ]
  },
  {
   "cell_type": "markdown",
   "metadata": {},
   "source": [
    "#### 定义一个函数fun(filename)filename: 文件路径，函数功能：打开文件，并且返回文件内容，最后关闭，用异常来处理可能发生的错误"
   ]
  },
  {
   "cell_type": "code",
   "execution_count": 9,
   "metadata": {},
   "outputs": [
    {
     "name": "stdout",
     "output_type": "stream",
     "text": [
      "<built-in method read of _io.TextIOWrapper object at 0x0000025640375120>\n"
     ]
    }
   ],
   "source": [
    "import os\n",
    "\n",
    "def func(filename):\n",
    "    try:\n",
    "        file = open(filename)\n",
    "    except Exception as error:\n",
    "        print(\"出错了，出错的内容是{0}\".format(error))\n",
    "    else:\n",
    "        print(file.read)\n",
    "        file.close()\n",
    "        \n",
    "func(\"hahaha.txt\")"
   ]
  },
  {
   "cell_type": "markdown",
   "metadata": {},
   "source": [
    "#### 自己定义一个异常类，继承Exception类，捕获下面的过程：判断输入的字符串长度是否小于5"
   ]
  },
  {
   "cell_type": "code",
   "execution_count": 14,
   "metadata": {},
   "outputs": [
    {
     "name": "stdout",
     "output_type": "stream",
     "text": [
      "haha，算你聪明\n"
     ]
    }
   ],
   "source": [
    "class MyError(Exception):\n",
    "    def __init__(self,stri):\n",
    "        self.stri = stri\n",
    "        \n",
    "    def process(self):\n",
    "        if len(self.stri) < 5:\n",
    "            print(\"字符串的长度必须大于5\")\n",
    "            \n",
    "        else:\n",
    "            print(\"haha，算你聪明\")\n",
    "            \n",
    "try:\n",
    "    er = MyError(\"ssa122a\")\n",
    "    er.process()\n",
    "    \n",
    "except MyError as err:\n",
    "    print(\"error\")"
   ]
  },
  {
   "cell_type": "markdown",
   "metadata": {},
   "source": [
    "#### 写一个6位随机验证码程序(使用random模块)，要求验证码啊中至少包含一个数字，一个小写字母，一个大写字母"
   ]
  },
  {
   "cell_type": "code",
   "execution_count": 4,
   "metadata": {},
   "outputs": [
    {
     "name": "stdout",
     "output_type": "stream",
     "text": [
      "['b', 'I', '3', 'M', 'Y', 'u']\n",
      "bI3MYu\n"
     ]
    }
   ],
   "source": [
    "import random\n",
    "import string\n",
    "\n",
    "# help(string)\n",
    "\n",
    "code = []\n",
    "code.append(random.choice(string.ascii_lowercase)) # 保证验证码中有一个小写字母\n",
    "code.append(random.choice(string.ascii_uppercase)) # 保证验证码中有一个大写字母\n",
    "code.append(random.choice(string.digits)) # 保证验证码中有数字\n",
    "\n",
    "while len(code) < 6:\n",
    "    code.append(random.choice(string.ascii_lowercase+string.ascii_uppercase+string.digits))\n",
    "    \n",
    "# print(code) \n",
    "\n",
    "q_code = \"\".join(code)\n",
    "print(q_code)"
   ]
  },
  {
   "cell_type": "markdown",
   "metadata": {},
   "source": [
    "#### 写一个用户登录 验证程序，文件如下1234.json\n",
    "\n",
    "1234.json\n",
    "\n",
    "{\"expire_date\":\"2021-01-01\",\"id\":\"1234\",\"status\":0,\"pay_day\":22,\"password\":\"abc\"}\n",
    "\n",
    "    - 用户名为json的文件名\n",
    "    - 判断是否过期，与expire-date作比较\n",
    "    - 登录成功后打印登陆成功，三次登陆失败，status的值改为1，并且锁定账号"
   ]
  },
  {
   "cell_type": "code",
   "execution_count": 1,
   "metadata": {},
   "outputs": [
    {
     "name": "stdout",
     "output_type": "stream",
     "text": [
      "请输入用户名：1234\n",
      "用户不存在\n",
      "请输入用户名：1234\n",
      "用户不存在\n",
      "请输入用户名：123\n",
      "用户不存在\n"
     ]
    }
   ],
   "source": [
    "import os\n",
    "import time\n",
    "import json\n",
    "\n",
    "count = 0\n",
    "\n",
    "exit_flag = False\n",
    "\n",
    "while count < 3:\n",
    "    user = input(\"请输入用户名：\")\n",
    "    f = user.strip() + \".json\"\n",
    "    if os.path.exists(f):\n",
    "        fp = open(f, \"r\", encoding = \"utf-8\")\n",
    "        j_user = json.load(fp)\n",
    "        if j_user['status'] == 1:\n",
    "            print(\"账号已锁定\")\n",
    "            break\n",
    "        else:\n",
    "            expire_dt = j_user['expire_date']\n",
    "            current_st = time.time()\n",
    "            expire_st = time.mktime(time.strptime(expire_dt,\"%y-%m-%d\"))\n",
    "            \n",
    "            if current_st > expire_st:\n",
    "                print(\"用户已过期\")\n",
    "                break\n",
    "                \n",
    "            else:\n",
    "                while count < 3:\n",
    "                    pwd = input(\"请输入密码：\")\n",
    "                    if pwd.strip() == j_user['password']:\n",
    "                        print(\"登陆成功\")\n",
    "                        exit_flag = Ture\n",
    "                        break\n",
    "                    \n",
    "                    else:\n",
    "                        if count == 2:\n",
    "                            print(\"用户登录已经超过三次，账号已经被锁定\")\n",
    "                            j_user['status'] = 1\n",
    "                            fp.seek(0)\n",
    "                            fp.truncate() # 清空文件内容\n",
    "                            json.dump(j_user, fp)\n",
    "                    count += 1\n",
    "                    \n",
    "    if exit_flag:\n",
    "        break\n",
    "    else:\n",
    "        print(\"用户不存在\")\n",
    "        count += 1"
   ]
  },
  {
   "cell_type": "markdown",
   "metadata": {},
   "source": [
    "利用map函数，把用户输入的不规范的英文，变成首字母大写，其他小写的规范名字：比如说[\"ADMAm\",\"LISA\",\"JACk\",][\"Admam\",\"Lisa\",\"jack\"]"
   ]
  },
  {
   "cell_type": "code",
   "execution_count": 7,
   "metadata": {},
   "outputs": [
    {
     "name": "stdout",
     "output_type": "stream",
     "text": [
      "Admam\n",
      "Lisa\n",
      "Jack\n"
     ]
    },
    {
     "data": {
      "text/plain": [
       "['Admam', 'Lisa', 'Jack']"
      ]
     },
     "execution_count": 7,
     "metadata": {},
     "output_type": "execute_result"
    }
   ],
   "source": [
    "def standards(s):\n",
    "#    t = '0'\n",
    "    t = s.lower()# 将s全部小写\n",
    "    t = t.capitalize()# 将t的首字母大写\n",
    "    print(t)\n",
    "    return t\n",
    "\n",
    "list(map(standards,[\"ADMAm\",\"LISA\",\"JACk\"]))"
   ]
  },
  {
   "cell_type": "code",
   "execution_count": null,
   "metadata": {},
   "outputs": [],
   "source": []
  }
 ],
 "metadata": {
  "kernelspec": {
   "display_name": "Python 3",
   "language": "python",
   "name": "python3"
  },
  "language_info": {
   "codemirror_mode": {
    "name": "ipython",
    "version": 3
   },
   "file_extension": ".py",
   "mimetype": "text/x-python",
   "name": "python",
   "nbconvert_exporter": "python",
   "pygments_lexer": "ipython3",
   "version": "3.7.0"
  }
 },
 "nbformat": 4,
 "nbformat_minor": 2
}
