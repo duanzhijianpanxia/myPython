{
 "cells": [
  {
   "cell_type": "code",
   "execution_count": null,
   "metadata": {},
   "outputs": [],
   "source": []
  },
  {
   "cell_type": "markdown",
   "metadata": {},
   "source": [
    "    利用map()函数,把用户输入的不规范英文，编程首字母大写其他字母小写的规范英文名字，比如：[\"ZHAGNSAN\",\"LIsi\",\"wangwu\"]\n",
    "    \n",
    "    利用map()函数\n",
    "    "
   ]
  },
  {
   "cell_type": "code",
   "execution_count": 4,
   "metadata": {},
   "outputs": [
    {
     "name": "stdout",
     "output_type": "stream",
     "text": [
      "['Zhagnsan', 'Lisi', 'Wangwu']\n"
     ]
    }
   ],
   "source": [
    "ls = [\"ZHAGNSAN\",\"LIsi\",\"wangwu\"]\n",
    "new_ls = map(lambda x: x.lower().capitalize(),ls)\n",
    "\n",
    "print(list(new_ls))"
   ]
  },
  {
   "cell_type": "markdown",
   "metadata": {},
   "source": [
    "回数：从左向右和从右向左读都时一样的数字，例如787，999，请利用filter（）函数\n",
    "使用lambda函数"
   ]
  },
  {
   "cell_type": "code",
   "execution_count": 2,
   "metadata": {},
   "outputs": [
    {
     "name": "stdout",
     "output_type": "stream",
     "text": [
      "[1, 2, 3, 4, 5, 6, 7, 8, 9, 11, 22, 33, 44, 55, 66, 77, 88, 99, 101, 111, 121, 131, 141, 151, 161, 171, 181, 191, 202, 212, 222, 232, 242, 252, 262, 272, 282, 292, 303, 313, 323, 333, 343, 353, 363, 373, 383, 393, 404, 414, 424, 434, 444, 454, 464, 474, 484, 494, 505, 515, 525, 535, 545, 555, 565, 575, 585, 595, 606, 616, 626, 636, 646, 656, 666, 676, 686, 696, 707, 717, 727, 737, 747, 757, 767, 777, 787, 797, 808, 818, 828, 838, 848, 858, 868, 878, 888, 898, 909, 919, 929, 939, 949, 959, 969, 979, 989, 999]\n"
     ]
    }
   ],
   "source": [
    "# 打印出1-1000 之间的回数\n",
    "ls = [i for i in range(1,1000)]\n",
    "\n",
    "new_ls = filter(lambda x: str(x)[0] == str(x)[len(str(x))-1], ls)\n",
    "\n",
    "print(list(new_ls))"
   ]
  },
  {
   "cell_type": "markdown",
   "metadata": {},
   "source": [
    "权重：\n",
    "\n",
    "goods = [{\"name\":\"good1\", \"price\":200, \"sales\":100, \"stars\":5, \"comments\":400},{\"name\":\"good2\", \"price\":300, \"sales\":120, \"stars\":4, \"comments\":500},{\"name\":\"good3\", \"price\":500, \"sales\":3000, \"stars\":2, \"comments\":199},{\"name\":\"good4\", \"price\":1288, \"sales\":8, \"stars\":5, \"comments\":398},{\"name\":\"good5\", \"price\":899, \"sales\":99, \"stars\":5, \"comments\":2000}]\n",
    "    \n",
    "    权重是100\n",
    "价格占的权重是40%,销量占的权重是17%,评级占的权重是13%,评论占的权重是30%\n"
   ]
  },
  {
   "cell_type": "code",
   "execution_count": 4,
   "metadata": {},
   "outputs": [
    {
     "name": "stdout",
     "output_type": "stream",
     "text": [
      "[{'name': 'good1', 'price': 200, 'sales': 100, 'stars': 5, 'comments': 400}, {'name': 'good2', 'price': 300, 'sales': 120, 'stars': 4, 'comments': 500}, {'name': 'good4', 'price': 1288, 'sales': 8, 'stars': 5, 'comments': 398}, {'name': 'good3', 'price': 500, 'sales': 3000, 'stars': 2, 'comments': 199}, {'name': 'good5', 'price': 899, 'sales': 99, 'stars': 5, 'comments': 2000}]\n"
     ]
    }
   ],
   "source": [
    "goods = [{\"name\":\"good1\", \"price\":200, \"sales\":100, \"stars\":5, \"comments\":400},{\"name\":\"good2\", \"price\":300, \"sales\":120, \"stars\":4, \"comments\":500},{\"name\":\"good3\", \"price\":500, \"sales\":3000, \"stars\":2, \"comments\":199},{\"name\":\"good4\", \"price\":1288, \"sales\":8, \"stars\":5, \"comments\":398},{\"name\":\"good5\", \"price\":899, \"sales\":99, \"stars\":5, \"comments\":2000}]\n",
    "\n",
    "# sorted() 进行排序\n",
    "\n",
    "def my_sorted(arg):\n",
    "    price = arg['price']\n",
    "    sales = arg['sales']\n",
    "    stars = arg['stars']\n",
    "    comments = arg['comments']\n",
    "    \n",
    "    data = price*0.4 + sales*0.17 + stars*0.13 + comments*0.3\n",
    "    \n",
    "    return data\n",
    "print(sorted(goods,key=my_sorted))\n"
   ]
  },
  {
   "cell_type": "code",
   "execution_count": 6,
   "metadata": {},
   "outputs": [
    {
     "name": "stdout",
     "output_type": "stream",
     "text": [
      "[{'name': 'good5', 'price': 899, 'sales': 99, 'stars': 5, 'comments': 2000}, {'name': 'good3', 'price': 500, 'sales': 3000, 'stars': 2, 'comments': 199}, {'name': 'good4', 'price': 1288, 'sales': 8, 'stars': 5, 'comments': 398}, {'name': 'good2', 'price': 300, 'sales': 120, 'stars': 4, 'comments': 500}, {'name': 'good1', 'price': 200, 'sales': 100, 'stars': 5, 'comments': 400}]\n"
     ]
    }
   ],
   "source": [
    "r = sorted(goods,key = lambda x: x['price']*0.4 + x['sales']*0.17 + x['stars']*0.13 + x['comments']*0.3, reverse=True)\n",
    "print(r)"
   ]
  }
 ],
 "metadata": {
  "kernelspec": {
   "display_name": "Python 3",
   "language": "python",
   "name": "python3"
  },
  "language_info": {
   "codemirror_mode": {
    "name": "ipython",
    "version": 3
   },
   "file_extension": ".py",
   "mimetype": "text/x-python",
   "name": "python",
   "nbconvert_exporter": "python",
   "pygments_lexer": "ipython3",
   "version": "3.7.0"
  }
 },
 "nbformat": 4,
 "nbformat_minor": 2
}
