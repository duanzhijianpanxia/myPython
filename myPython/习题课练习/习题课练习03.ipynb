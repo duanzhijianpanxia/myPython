{
 "cells": [
  {
   "cell_type": "markdown",
   "metadata": {},
   "source": [
    "## append(),extend()和insert()的区别"
   ]
  },
  {
   "cell_type": "code",
   "execution_count": 5,
   "metadata": {},
   "outputs": [
    {
     "name": "stdout",
     "output_type": "stream",
     "text": [
      "[1, 2, 3, 4, 5, [6, 7, 8]]\n",
      "[1, 2, 3, 4, 5, 6, 7, 8]\n",
      "[1, 2, 3, [6, 7, 8], 4, 5]\n"
     ]
    }
   ],
   "source": [
    "a = [1,2,3,4,5]\n",
    "a.append([6,7,8])\n",
    "print(a)\n",
    "# append 直接将列表添加在了了表a的最后一个与元素位置，属于包裹性添加\n",
    "\n",
    "b = [1,2,3,4,5]\n",
    "b.extend([6,7,8])\n",
    "print(b)\n",
    "# extend 将列表中的元素遍历式依次添加到列表a的末尾，没有包裹，只有一层列表\n",
    "\n",
    "c = [1,2,3,4,5]\n",
    "c.insert(3,[6,7,8])\n",
    "print(c)\n",
    "# insert 在指定位置添加指定的值或其他\n",
    "\n",
    "\n",
    "###   append() 方法向列表的尾部添加一个新的元素。只接受一个参数；\n",
    "###　 extend()方法只接受一个列表作为参数，并将该参数的每个元素都添加到原有的列表中；"
   ]
  },
  {
   "cell_type": "markdown",
   "metadata": {},
   "source": [
    "- 假定给出一个列表mem = [\"中国\",\"的\",\"zhanglei\",\"同学最帅\"]\n",
    "- 怎么把列表mem改写成mem = [\"中国\",22,\"的\"，11，\"zhanglei\"，78,\"同学最帅\"，101]"
   ]
  },
  {
   "cell_type": "code",
   "execution_count": 11,
   "metadata": {},
   "outputs": [
    {
     "name": "stdout",
     "output_type": "stream",
     "text": [
      "['中国', 22, '的', 11, 'zhanglei', 78, '同学最帅', 101]\n"
     ]
    }
   ],
   "source": [
    "mem = [\"中国\",\"的\",\"zhanglei\",\"同学最帅\"]\n",
    "mem.insert(1,22)\n",
    "mem.insert(3,11)\n",
    "mem.insert(5,78)\n",
    "mem.append(101)\n",
    "print(mem)"
   ]
  },
  {
   "cell_type": "markdown",
   "metadata": {},
   "source": [
    "- 请问如何将下面这个列表的\"图灵学院\"修改为周老师呢？\n",
    "- ls = [1,[1,2,['图灵学院'],3],54,2,1]"
   ]
  },
  {
   "cell_type": "code",
   "execution_count": 13,
   "metadata": {},
   "outputs": [
    {
     "name": "stdout",
     "output_type": "stream",
     "text": [
      "[1, [1, 2, ['周老师'], 3], 54, 2, 1]\n"
     ]
    }
   ],
   "source": [
    "ls = [1,[1,2,['图灵学院'],3],54,2,1]\n",
    "\n",
    "ls[1][2][0] = \"周老师\"\n",
    "# 通过索引操作锁定需要修改的元素的位置，然后利用赋值来达到修改的目的\n",
    "print(ls)"
   ]
  },
  {
   "cell_type": "markdown",
   "metadata": {},
   "source": [
    "将列表推导式还原出来\n",
    "\n",
    "    ls = [(x,y) for x in range(10) for y in range(10) if x%2 ==0 if y%2 !=0]"
   ]
  },
  {
   "cell_type": "code",
   "execution_count": 14,
   "metadata": {},
   "outputs": [
    {
     "name": "stdout",
     "output_type": "stream",
     "text": [
      "[(0, 1), (0, 3), (0, 5), (0, 7), (0, 9), (2, 1), (2, 3), (2, 5), (2, 7), (2, 9), (4, 1), (4, 3), (4, 5), (4, 7), (4, 9), (6, 1), (6, 3), (6, 5), (6, 7), (6, 9), (8, 1), (8, 3), (8, 5), (8, 7), (8, 9)]\n"
     ]
    }
   ],
   "source": [
    "ls = [(x,y) for x in range(10) for y in range(10) if x%2 ==0 if y%2 !=0]\n",
    "print(ls)"
   ]
  },
  {
   "cell_type": "code",
   "execution_count": 21,
   "metadata": {},
   "outputs": [
    {
     "name": "stdout",
     "output_type": "stream",
     "text": [
      "[(0, 1), (0, 3), (0, 5), (0, 7), (0, 9), (2, 1), (2, 3), (2, 5), (2, 7), (2, 9), (4, 1), (4, 3), (4, 5), (4, 7), (4, 9), (6, 1), (6, 3), (6, 5), (6, 7), (6, 9), (8, 1), (8, 3), (8, 5), (8, 7), (8, 9)]\n"
     ]
    }
   ],
   "source": [
    "li = []\n",
    "for x in range(1,10):\n",
    "    for y in range(1,10):\n",
    "        if x % 2 == 0 and y % 2 != 0:\n",
    "            li.append((x,y))\n",
    "print(ls)"
   ]
  }
 ],
 "metadata": {
  "kernelspec": {
   "display_name": "Python 3",
   "language": "python",
   "name": "python3"
  },
  "language_info": {
   "codemirror_mode": {
    "name": "ipython",
    "version": 3
   },
   "file_extension": ".py",
   "mimetype": "text/x-python",
   "name": "python",
   "nbconvert_exporter": "python",
   "pygments_lexer": "ipython3",
   "version": "3.7.0"
  }
 },
 "nbformat": 4,
 "nbformat_minor": 2
}
